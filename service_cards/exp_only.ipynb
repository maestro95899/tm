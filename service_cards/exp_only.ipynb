{
 "cells": [
  {
   "cell_type": "code",
   "execution_count": 11,
   "metadata": {},
   "outputs": [
    {
     "data": {
      "text/html": [
       "<style>.container { width:100% !important; }</style>"
      ],
      "text/plain": [
       "<IPython.core.display.HTML object>"
      ]
     },
     "metadata": {},
     "output_type": "display_data"
    }
   ],
   "source": [
    "from IPython.core.display import display, HTML \n",
    "display(HTML(\"<style>.container { width:100% !important; }</style>\"))"
   ]
  },
  {
   "cell_type": "code",
   "execution_count": 12,
   "metadata": {},
   "outputs": [
    {
     "name": "stdout",
     "output_type": "stream",
     "text": [
      "artm.version() 0.10.0\n"
     ]
    }
   ],
   "source": [
    "import importlib # использую для перегрузки библиотек\n",
    "import time\n",
    "from IPython.display import clear_output\n",
    "import random\n",
    "\n",
    "import pandas as pd\n",
    "import json\n",
    "import numpy as np\n",
    "import artm\n",
    "\n",
    "import data_preparing\n",
    "import artm_model\n",
    "import work_with_model as wwm\n",
    "\n",
    "importlib.reload(data_preparing)\n",
    "importlib.reload(artm_model)\n",
    "importlib.reload(wwm)\n",
    "\n",
    "importlib.reload(artm)\n",
    "clear_output(True)"
   ]
  },
  {
   "cell_type": "code",
   "execution_count": 13,
   "metadata": {},
   "outputs": [
    {
     "name": "stdout",
     "output_type": "stream",
     "text": [
      "artm.version() 0.10.0\n"
     ]
    }
   ],
   "source": [
    "import artm\n",
    "print('artm.version()', artm.version())"
   ]
  },
  {
   "cell_type": "code",
   "execution_count": 14,
   "metadata": {},
   "outputs": [],
   "source": [
    "inf = {}\n",
    "inf['exp_name'] = 'simple'\n",
    "inf['test_size'] = 0.1\n",
    "inf['num_collection_passes'] = 15\n",
    "inf['topic_number'] = 750\n",
    "inf['data_path'] = \"service_cards_tokenised_remont_only\""
   ]
  },
  {
   "cell_type": "code",
   "execution_count": 15,
   "metadata": {},
   "outputs": [
    {
     "name": "stderr",
     "output_type": "stream",
     "text": [
      "/Users/kozlinskii/Documents/study/mipt/nir/service_cards/data_preparing.py:55: SettingWithCopyWarning: \n",
      "A value is trying to be set on a copy of a slice from a DataFrame.\n",
      "Try using .loc[row_indexer,col_indexer] = value instead\n",
      "\n",
      "See the caveats in the documentation: https://pandas.pydata.org/pandas-docs/stable/user_guide/indexing.html#returning-a-view-versus-a-copy\n",
      "  rich_docs['rand'] = rich_docs['card_id'].map(lambda x: random.uniform(0, 1))\n"
     ]
    }
   ],
   "source": [
    "inf['docs'] = data_preparing.read_and_prepared(inf['data_path'])\n",
    "inf['path_train'], inf['path_test'] = data_preparing.form_test_train_set(docs=inf['docs'], name=inf['exp_name'], test_size=inf['test_size'])\n",
    "inf['path_castom'] = data_preparing.form_castom_set(inf['docs'], name=inf['exp_name'])\n",
    "inf['model'], inf['theta_train'] = artm_model.create_and_learn_PLSA(inf['path_train'], topic_number=inf['topic_number'], num_collection_passes=inf['num_collection_passes'])\n",
    "\n",
    "inf['theta_test'] = wwm.get_theta_from_vw(inf, inf['path_test'])\n",
    "inf['theta_castom'] = wwm.get_theta_from_vw(inf, inf['path_castom'])\n",
    "clear_output(True)"
   ]
  },
  {
   "cell_type": "code",
   "execution_count": 16,
   "metadata": {},
   "outputs": [
    {
     "name": "stdout",
     "output_type": "stream",
     "text": [
      "41071  /  66104 0.6213088466658598\n",
      "dict_keys(['exp_name', 'test_size', 'num_collection_passes', 'topic_number', 'data_path', 'docs', 'path_train', 'path_test', 'path_castom', 'model', 'theta_train', 'theta_test', 'theta_castom', 'card2rubric', 'card2name', 'card2text', 'card2topic_castom', 'card2topic_train', 'card2topic_test', 'card2topic', 'topic2rubric'])\n"
     ]
    }
   ],
   "source": [
    "wwm.make_docs_dicts(inf)\n",
    "wwm.form_card2topic(inf)\n",
    "wwm.get_topic2rubric(inf)\n",
    "wwm.measure_accuracy_on_test(inf)\n",
    "print(inf.keys())"
   ]
  },
  {
   "cell_type": "code",
   "execution_count": 17,
   "metadata": {
    "scrolled": true
   },
   "outputs": [
    {
     "name": "stdout",
     "output_type": "stream",
     "text": [
      "1  \n",
      "prediction: \t remont-i-stroitel_stvo/drugoe/restavrazia-vanny \n",
      " настоящий: \t  remont-i-stroitel_stvo/santehniceskie-raboty-i-otoplenie/ \n",
      " name:  установка душевого поддона акрил сталь \n",
      " установка душевого поддона акрил сталь  \n",
      "\n",
      "\n",
      "2  \n",
      "prediction: \t remont-i-stroitel_stvo/master-na-cas/sborka-mebeli \n",
      " настоящий: \t  remont-i-stroitel_stvo/mebel_/ \n",
      " name:  сборка офисной мебели \n",
      " сборка офисной мебели осуществляем сборку и разборку офисной мебели упаковку мебели подготовку мебели к переезду или хранению имеется огромный опыт по переезду офисов по 200 300 раб мест составление плана переезда строгое выполнение сроков проведения работ ремонт бу мебели для офиса хранение излишков офисной мебели на нашем складе \n",
      "\n",
      "\n",
      "3  \n",
      "prediction: \t remont-i-stroitel_stvo/okna-i-balkony/montaj-otkosov \n",
      " настоящий: \t  remont-i-stroitel_stvo/okna-i-balkony/ \n",
      " name:  очищение рамы очистителем kosmofen \n",
      " очищение рамы очистителем kosmofen 1 створчатое окно 2500 2 створчатое окно 3300 3 створчатое окно 4200 балконная группа 4500 хорошо очищает полирует и затирает мелкие царапинки \n",
      "\n",
      "\n",
      "4  \n",
      "prediction: \t remont-i-stroitel_stvo/potolki/montaj-natajnogo-potolka \n",
      " настоящий: \t  remont-i-stroitel_stvo/potolki/ \n",
      " name:  монтаж качественных натяжных потолков \n",
      " монтаж качественных натяжных потолков применяем эко материалы наша компания на рынке потолков более 10 лет работаем без предоплаты \n",
      "\n",
      "\n",
      "5  \n",
      "prediction: \t remont-i-stroitel_stvo/zemlanye-raboty/kopka-kolodza \n",
      " настоящий: \t  remont-i-stroitel_stvo/vodosnabjenie-i-kanalizazia/ \n",
      " name:  септики из жб колец водоотведение \n",
      " септики из жб колец водоотведение септики из жб колец водоотведение из дома дачи под ключ \n",
      "\n",
      "\n",
      "6  \n",
      "prediction: \t remont-i-stroitel_stvo/dveri-i-zamki/ustanovka-dvernogo-glazka \n",
      " настоящий: \t  remont-i-stroitel_stvo/poly-i-napol_nye-pokrytia/ \n",
      " name:  шумоизоляция пола \n",
      " шумоизоляция пола  \n",
      "\n",
      "\n",
      "7  \n",
      "prediction: \t remont-i-stroitel_stvo/remont-kvartir-i-domov/kapital_nyj-remont-kvartiry \n",
      " настоящий: \t  remont-i-stroitel_stvo/remont-kvartir-i-domov/ \n",
      " name:  дизайнерский ремонт квартир под ключ \n",
      " дизайнерский ремонт квартир под ключ дизайнерский ремонт квартир под ключ под ключ по доступной цене вызов на замер бесплатно звоните прямо сейчас \n",
      "\n",
      "\n",
      "8  \n",
      "prediction: \t remont-i-stroitel_stvo/krovel_nye-raboty/montaj-krovli \n",
      " настоящий: \t  remont-i-stroitel_stvo/krovel_nye-raboty/ \n",
      " name:  направляемая кровля \n",
      " направляемая кровля  \n",
      "\n",
      "\n",
      "9  \n",
      "prediction: \t remont-i-stroitel_stvo/potolki/montaj-natajnogo-potolka \n",
      " настоящий: \t  remont-i-stroitel_stvo/potolki/ \n",
      " name:  натяжные потолки парящие линии \n",
      " натяжные потолки парящие линии замкнутые парящие линии позволят создавать геометрические фигуры любых форм с помощью них можно подсветить ромб прямоугольник круг и другой предмет такие полосы также часто используются для декоративного зонирования пространства сложной формы линии эффектно смотрятся как на глянцевой поверхности так и матовой все зависит от индивидуальных предпочтений клиента устанавливается такое освещение в конструкцию перекрытия посредством специальной профильной системы с нишей для светодиодной ленты произвольный или сгруппированный монтаж парящих линий с применением монохромных и многоцветных диодных лент обеспечивает требуемый световой эффект зрительного деления пространства \n",
      "\n",
      "\n",
      "10  \n",
      "prediction: \t remont-i-stroitel_stvo/drugoe/montaj-vertikal_nyh-jaluzi \n",
      " настоящий: \t  remont-i-stroitel_stvo/dveri-i-zamki/ \n",
      " name:  вскрыть замок \n",
      " вскрыть замок  \n",
      "\n",
      "\n",
      "0  /  10 0.0\n"
     ]
    }
   ],
   "source": [
    "wwm.get_answers_on_castom_advanced(inf)"
   ]
  },
  {
   "cell_type": "code",
   "execution_count": 18,
   "metadata": {},
   "outputs": [
    {
     "name": "stdout",
     "output_type": "stream",
     "text": [
      "42898  /  66104 0.6489471136391142\n"
     ]
    }
   ],
   "source": [
    "inf_weigth_01 = {}\n",
    "inf_weigth_01['exp_name'] = 'weight_1_0_2_3'\n",
    "inf_weigth_01['test_size'] = 0.1\n",
    "inf_weigth_01['num_collection_passes'] = 15\n",
    "inf_weigth_01['topic_number'] = 750\n",
    "inf_weigth_01['data_path'] = \"service_cards_tokenised_remont_only\"\n",
    "\n",
    "inf_weigth_01['docs'] = data_preparing.read_and_prepared(inf_weigth_01['data_path'])\n",
    "inf_weigth_01['path_train'], inf_weigth_01['path_test'] = data_preparing.form_test_train_set(docs=inf_weigth_01['docs'], name=inf_weigth_01['exp_name'], test_size=inf_weigth_01['test_size'])\n",
    "inf_weigth_01['path_castom'] = data_preparing.form_castom_set(inf_weigth_01['docs'], name=inf_weigth_01['exp_name'])\n",
    "inf_weigth_01['model'], inf_weigth_01['theta_train'] = artm_model.create_and_learn_PLSA_class_ids_weigth(\n",
    "                                                            inf_weigth_01['path_train'], \n",
    "                                                            topic_number=inf_weigth_01['topic_number'], \n",
    "                                                            num_collection_passes=inf_weigth_01['num_collection_passes'], \n",
    "                                                            weigths=[1., 0., 2., 3.]\n",
    "                                                         )\n",
    "\n",
    "inf_weigth_01['theta_test'] = wwm.get_theta_from_vw(inf_weigth_01, inf_weigth_01['path_test'])\n",
    "inf_weigth_01['theta_castom'] = wwm.get_theta_from_vw(inf_weigth_01, inf_weigth_01['path_castom'])\n",
    "clear_output(True)\n",
    "\n",
    "wwm.make_docs_dicts(inf_weigth_01)\n",
    "wwm.form_card2topic(inf_weigth_01)\n",
    "wwm.get_topic2rubric(inf_weigth_01)\n",
    "wwm.measure_accuracy_on_test(inf_weigth_01)"
   ]
  },
  {
   "cell_type": "code",
   "execution_count": 19,
   "metadata": {},
   "outputs": [
    {
     "name": "stdout",
     "output_type": "stream",
     "text": [
      "47035  /  66104 0.7115303158659083\n"
     ]
    }
   ],
   "source": [
    "inf_weigth_02 = {}\n",
    "inf_weigth_02['exp_name'] = 'weight_1_0_3_10'\n",
    "inf_weigth_02['test_size'] = 0.1\n",
    "inf_weigth_02['num_collection_passes'] = 15\n",
    "inf_weigth_02['topic_number'] = 750\n",
    "inf_weigth_02['data_path'] = \"service_cards_tokenised_remont_only\"\n",
    "\n",
    "inf_weigth_02['docs'] = data_preparing.read_and_prepared(inf_weigth_02['data_path'])\n",
    "inf_weigth_02['path_train'], inf_weigth_02['path_test'] = data_preparing.form_test_train_set(docs=inf_weigth_02['docs'], name=inf_weigth_02['exp_name'], test_size=inf_weigth_02['test_size'])\n",
    "inf_weigth_02['path_castom'] = data_preparing.form_castom_set(inf_weigth_02['docs'], name=inf_weigth_02['exp_name'])\n",
    "inf_weigth_02['model'], inf_weigth_02['theta_train'] = artm_model.create_and_learn_PLSA_class_ids_weigth(\n",
    "                                                            inf_weigth_02['path_train'], \n",
    "                                                            topic_number=inf_weigth_02['topic_number'], \n",
    "                                                            num_collection_passes=inf_weigth_02['num_collection_passes'], \n",
    "                                                            weigths=[1., 0., 3., 10.]\n",
    "                                                         )\n",
    "\n",
    "inf_weigth_02['theta_test'] = wwm.get_theta_from_vw(inf_weigth_02, inf_weigth_02['path_test'])\n",
    "inf_weigth_02['theta_castom'] = wwm.get_theta_from_vw(inf_weigth_02, inf_weigth_02['path_castom'])\n",
    "clear_output(True)\n",
    "\n",
    "wwm.make_docs_dicts(inf_weigth_02)\n",
    "wwm.form_card2topic(inf_weigth_02)\n",
    "wwm.get_topic2rubric(inf_weigth_02)\n",
    "wwm.measure_accuracy_on_test(inf_weigth_02)"
   ]
  },
  {
   "cell_type": "code",
   "execution_count": 20,
   "metadata": {},
   "outputs": [
    {
     "name": "stdout",
     "output_type": "stream",
     "text": [
      "50348  /  66104 0.76164831175118\n"
     ]
    }
   ],
   "source": [
    "inf_weigth_03 = {}\n",
    "inf_weigth_03['exp_name'] = 'weight_1_0_10_50'\n",
    "inf_weigth_03['test_size'] = 0.1\n",
    "inf_weigth_03['num_collection_passes'] = 15\n",
    "inf_weigth_03['topic_number'] = 750\n",
    "inf_weigth_03['data_path'] = \"service_cards_tokenised_remont_only\"\n",
    "\n",
    "inf_weigth_03['docs'] = data_preparing.read_and_prepared(inf_weigth_03['data_path'])\n",
    "inf_weigth_03['path_train'], inf_weigth_03['path_test'] = data_preparing.form_test_train_set(docs=inf_weigth_03['docs'], name=inf_weigth_03['exp_name'], test_size=inf_weigth_03['test_size'])\n",
    "inf_weigth_03['path_castom'] = data_preparing.form_castom_set(inf_weigth_03['docs'], name=inf_weigth_03['exp_name'])\n",
    "inf_weigth_03['model'], inf_weigth_03['theta_train'] = artm_model.create_and_learn_PLSA_class_ids_weigth(\n",
    "                                                            inf_weigth_03['path_train'], \n",
    "                                                            topic_number=inf_weigth_03['topic_number'], \n",
    "                                                            num_collection_passes=inf_weigth_03['num_collection_passes'], \n",
    "                                                            weigths=[1., 0., 10., 50.]\n",
    "                                                         )\n",
    "\n",
    "inf_weigth_03['theta_test'] = wwm.get_theta_from_vw(inf_weigth_03, inf_weigth_03['path_test'])\n",
    "inf_weigth_03['theta_castom'] = wwm.get_theta_from_vw(inf_weigth_03, inf_weigth_03['path_castom'])\n",
    "clear_output(True)\n",
    "\n",
    "wwm.make_docs_dicts(inf_weigth_03)\n",
    "wwm.form_card2topic(inf_weigth_03)\n",
    "wwm.get_topic2rubric(inf_weigth_03)\n",
    "wwm.measure_accuracy_on_test(inf_weigth_03)"
   ]
  },
  {
   "cell_type": "code",
   "execution_count": 21,
   "metadata": {},
   "outputs": [
    {
     "name": "stdout",
     "output_type": "stream",
     "text": [
      "49072  /  66104 0.7423453951349389\n"
     ]
    }
   ],
   "source": [
    "inf_weigth_04 = {}\n",
    "inf_weigth_04['exp_name'] = 'weight_1_0_50_250'\n",
    "inf_weigth_04['test_size'] = 0.1\n",
    "inf_weigth_04['num_collection_passes'] = 15\n",
    "inf_weigth_04['topic_number'] = 750\n",
    "inf_weigth_04['data_path'] = \"service_cards_tokenised_remont_only\"\n",
    "\n",
    "inf_weigth_04['docs'] = data_preparing.read_and_prepared(inf_weigth_04['data_path'])\n",
    "inf_weigth_04['path_train'], inf_weigth_04['path_test'] = data_preparing.form_test_train_set(docs=inf_weigth_04['docs'], name=inf_weigth_04['exp_name'], test_size=inf_weigth_04['test_size'])\n",
    "inf_weigth_04['path_castom'] = data_preparing.form_castom_set(inf_weigth_04['docs'], name=inf_weigth_04['exp_name'])\n",
    "inf_weigth_04['model'], inf_weigth_04['theta_train'] = artm_model.create_and_learn_PLSA_class_ids_weigth(\n",
    "                                                            inf_weigth_04['path_train'], \n",
    "                                                            topic_number=inf_weigth_04['topic_number'], \n",
    "                                                            num_collection_passes=inf_weigth_04['num_collection_passes'], \n",
    "                                                            weigths=[1., 0., 50., 250.]\n",
    "                                                         )\n",
    "\n",
    "inf_weigth_04['theta_test'] = wwm.get_theta_from_vw(inf_weigth_04, inf_weigth_04['path_test'])\n",
    "inf_weigth_04['theta_castom'] = wwm.get_theta_from_vw(inf_weigth_04, inf_weigth_04['path_castom'])\n",
    "clear_output(True)\n",
    "\n",
    "wwm.make_docs_dicts(inf_weigth_04)\n",
    "wwm.form_card2topic(inf_weigth_04)\n",
    "wwm.get_topic2rubric(inf_weigth_04)\n",
    "wwm.measure_accuracy_on_test(inf_weigth_04)"
   ]
  },
  {
   "cell_type": "code",
   "execution_count": 22,
   "metadata": {},
   "outputs": [
    {
     "name": "stdout",
     "output_type": "stream",
     "text": [
      "48544  /  66104 0.7343579813627013\n"
     ]
    }
   ],
   "source": [
    "inf_weigth_05 = {}\n",
    "inf_weigth_05['exp_name'] = 'weight_1_0_50_50'\n",
    "inf_weigth_05['test_size'] = 0.1\n",
    "inf_weigth_05['num_collection_passes'] = 15\n",
    "inf_weigth_05['topic_number'] = 750\n",
    "inf_weigth_05['data_path'] = \"service_cards_tokenised_remont_only\"\n",
    "\n",
    "inf_weigth_05['docs'] = data_preparing.read_and_prepared(inf_weigth_05['data_path'])\n",
    "inf_weigth_05['path_train'], inf_weigth_05['path_test'] = data_preparing.form_test_train_set(docs=inf_weigth_05['docs'], name=inf_weigth_05['exp_name'], test_size=inf_weigth_05['test_size'])\n",
    "inf_weigth_05['path_castom'] = data_preparing.form_castom_set(inf_weigth_05['docs'], name=inf_weigth_05['exp_name'])\n",
    "inf_weigth_05['model'], inf_weigth_05['theta_train'] = artm_model.create_and_learn_PLSA_class_ids_weigth(\n",
    "                                                            name=inf_weigth_05['path_train'], \n",
    "                                                            topic_number=inf_weigth_05['topic_number'], \n",
    "                                                            num_collection_passes=inf_weigth_05['num_collection_passes'], \n",
    "                                                            weigths=[1.0, 0.0, 50.0, 50.0]\n",
    "                                                         )\n",
    "\n",
    "inf_weigth_05['theta_test'] = wwm.get_theta_from_vw(inf_weigth_05, inf_weigth_05['path_test'])\n",
    "inf_weigth_05['theta_castom'] = wwm.get_theta_from_vw(inf_weigth_05, inf_weigth_05['path_castom'])\n",
    "clear_output(True)\n",
    "\n",
    "wwm.make_docs_dicts(inf_weigth_05)\n",
    "wwm.form_card2topic(inf_weigth_05)\n",
    "wwm.get_topic2rubric(inf_weigth_05)\n",
    "wwm.measure_accuracy_on_test(inf_weigth_05)"
   ]
  },
  {
   "cell_type": "code",
   "execution_count": null,
   "metadata": {},
   "outputs": [],
   "source": []
  },
  {
   "cell_type": "code",
   "execution_count": null,
   "metadata": {},
   "outputs": [],
   "source": [
    "def get_theta_from_vw_third(inf, path):\n",
    "    batch_vectorizer = None\n",
    "    batch_vectorizer = artm.BatchVectorizer(data_path='./' + path,\n",
    "                                                  data_format='vowpal_wabbit',\n",
    "                                                  target_folder='folder' + path)\n",
    "    return inf['model'].transform(batch_vectorizer=batch_vectorizer, predict_class_id='@third')"
   ]
  },
  {
   "cell_type": "code",
   "execution_count": null,
   "metadata": {},
   "outputs": [],
   "source": [
    "theta_castom_third = get_theta_from_vw_third(inf_weigth_04, inf_weigth_04['path_castom'])"
   ]
  },
  {
   "cell_type": "code",
   "execution_count": null,
   "metadata": {},
   "outputs": [],
   "source": [
    "theta_castom_third.shape"
   ]
  },
  {
   "cell_type": "code",
   "execution_count": null,
   "metadata": {},
   "outputs": [],
   "source": [
    "#theta_castom_third = get_theta_from_vw_third(inf_weigth_04, inf_weigth_04['@third'])"
   ]
  },
  {
   "cell_type": "code",
   "execution_count": null,
   "metadata": {},
   "outputs": [],
   "source": [
    "#theta_castom_third.shape"
   ]
  },
  {
   "cell_type": "code",
   "execution_count": null,
   "metadata": {},
   "outputs": [],
   "source": []
  }
 ],
 "metadata": {
  "kernelspec": {
   "display_name": "bigartm_py38",
   "language": "python",
   "name": "bigartm_py38"
  },
  "language_info": {
   "codemirror_mode": {
    "name": "ipython",
    "version": 3
   },
   "file_extension": ".py",
   "mimetype": "text/x-python",
   "name": "python",
   "nbconvert_exporter": "python",
   "pygments_lexer": "ipython3",
   "version": "3.8.1"
  }
 },
 "nbformat": 4,
 "nbformat_minor": 2
}
