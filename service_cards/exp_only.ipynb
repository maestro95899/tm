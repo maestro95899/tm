{
 "cells": [
  {
   "cell_type": "code",
   "execution_count": 1,
   "metadata": {},
   "outputs": [
    {
     "data": {
      "text/html": [
       "<style>.container { width:100% !important; }</style>"
      ],
      "text/plain": [
       "<IPython.core.display.HTML object>"
      ]
     },
     "metadata": {},
     "output_type": "display_data"
    }
   ],
   "source": [
    "from IPython.core.display import display, HTML \n",
    "display(HTML(\"<style>.container { width:100% !important; }</style>\"))"
   ]
  },
  {
   "cell_type": "code",
   "execution_count": 17,
   "metadata": {},
   "outputs": [
    {
     "name": "stdout",
     "output_type": "stream",
     "text": [
      "artm.version() 0.10.0\n"
     ]
    }
   ],
   "source": [
    "import importlib # использую для перегрузки библиотек\n",
    "import time\n",
    "from IPython.display import clear_output\n",
    "import random\n",
    "\n",
    "import pandas as pd\n",
    "import json\n",
    "import numpy as np\n",
    "import artm\n",
    "\n",
    "import data_preparing\n",
    "import artm_model\n",
    "import work_with_model as wwm\n",
    "\n",
    "importlib.reload(data_preparing)\n",
    "importlib.reload(artm_model)\n",
    "importlib.reload(wwm)\n",
    "clear_output(True)"
   ]
  },
  {
   "cell_type": "code",
   "execution_count": 7,
   "metadata": {},
   "outputs": [],
   "source": [
    "inf = {}\n",
    "inf['exp_name'] = 'simple'\n",
    "inf['test_size'] = 0.1\n",
    "inf['num_collection_passes'] = 1\n",
    "inf['topic_number'] = 750\n",
    "inf['data_path'] = \"service_cards_tokenised_remont_only\""
   ]
  },
  {
   "cell_type": "code",
   "execution_count": 12,
   "metadata": {},
   "outputs": [
    {
     "name": "stderr",
     "output_type": "stream",
     "text": [
      "/Users/kozlinskii/Documents/study/mipt/nir/service_cards/data_preparing.py:30: SettingWithCopyWarning: \n",
      "A value is trying to be set on a copy of a slice from a DataFrame.\n",
      "Try using .loc[row_indexer,col_indexer] = value instead\n",
      "\n",
      "See the caveats in the documentation: https://pandas.pydata.org/pandas-docs/stable/user_guide/indexing.html#returning-a-view-versus-a-copy\n",
      "  docs['text'] = docs['name'].map(lambda x: x if pd.notnull(x) else \"\") + \" \" + docs['description'].map(\n",
      "/Users/kozlinskii/Documents/study/mipt/nir/service_cards/data_preparing.py:33: SettingWithCopyWarning: \n",
      "A value is trying to be set on a copy of a slice from a DataFrame.\n",
      "Try using .loc[row_indexer,col_indexer] = value instead\n",
      "\n",
      "See the caveats in the documentation: https://pandas.pydata.org/pandas-docs/stable/user_guide/indexing.html#returning-a-view-versus-a-copy\n",
      "  docs['first'] = docs['parent_id'].map(lambda x: x.split('/')[1] if pd.notnull(x) else None)\n",
      "/Users/kozlinskii/Documents/study/mipt/nir/service_cards/data_preparing.py:34: SettingWithCopyWarning: \n",
      "A value is trying to be set on a copy of a slice from a DataFrame\n",
      "\n",
      "See the caveats in the documentation: https://pandas.pydata.org/pandas-docs/stable/user_guide/indexing.html#returning-a-view-versus-a-copy\n",
      "  docs['first'][pd.isnull(docs['first'])] = docs['category_id'][pd.isnull(docs['first'])].map(\n",
      "/Users/kozlinskii/bigartm_py38/lib/python3.8/site-packages/pandas/core/generic.py:8766: SettingWithCopyWarning: \n",
      "A value is trying to be set on a copy of a slice from a DataFrame\n",
      "\n",
      "See the caveats in the documentation: https://pandas.pydata.org/pandas-docs/stable/user_guide/indexing.html#returning-a-view-versus-a-copy\n",
      "  self._update_inplace(new_data)\n",
      "/Users/kozlinskii/Documents/study/mipt/nir/service_cards/data_preparing.py:37: SettingWithCopyWarning: \n",
      "A value is trying to be set on a copy of a slice from a DataFrame.\n",
      "Try using .loc[row_indexer,col_indexer] = value instead\n",
      "\n",
      "See the caveats in the documentation: https://pandas.pydata.org/pandas-docs/stable/user_guide/indexing.html#returning-a-view-versus-a-copy\n",
      "  docs['second'] = docs['parent_id'].map(get_second)\n",
      "/Users/kozlinskii/Documents/study/mipt/nir/service_cards/data_preparing.py:38: SettingWithCopyWarning: \n",
      "A value is trying to be set on a copy of a slice from a DataFrame\n",
      "\n",
      "See the caveats in the documentation: https://pandas.pydata.org/pandas-docs/stable/user_guide/indexing.html#returning-a-view-versus-a-copy\n",
      "  docs['second'][docs['second'] == \"\"] = docs['category_id'][docs['second'] == \"\"].map(get_second)\n",
      "/Users/kozlinskii/Documents/study/mipt/nir/service_cards/data_preparing.py:40: SettingWithCopyWarning: \n",
      "A value is trying to be set on a copy of a slice from a DataFrame.\n",
      "Try using .loc[row_indexer,col_indexer] = value instead\n",
      "\n",
      "See the caveats in the documentation: https://pandas.pydata.org/pandas-docs/stable/user_guide/indexing.html#returning-a-view-versus-a-copy\n",
      "  docs['third'] = docs['parent_id'].map(get_third)\n",
      "/Users/kozlinskii/Documents/study/mipt/nir/service_cards/data_preparing.py:41: SettingWithCopyWarning: \n",
      "A value is trying to be set on a copy of a slice from a DataFrame\n",
      "\n",
      "See the caveats in the documentation: https://pandas.pydata.org/pandas-docs/stable/user_guide/indexing.html#returning-a-view-versus-a-copy\n",
      "  docs['third'][docs['third'] == \"\"] = docs['category_id'][docs['third'] == \"\"].map(get_third)\n",
      "/Users/kozlinskii/Documents/study/mipt/nir/service_cards/data_preparing.py:55: SettingWithCopyWarning: \n",
      "A value is trying to be set on a copy of a slice from a DataFrame.\n",
      "Try using .loc[row_indexer,col_indexer] = value instead\n",
      "\n",
      "See the caveats in the documentation: https://pandas.pydata.org/pandas-docs/stable/user_guide/indexing.html#returning-a-view-versus-a-copy\n",
      "  rich_docs['rand'] = rich_docs['card_id'].map(lambda x: random.uniform(0, 1))\n"
     ]
    }
   ],
   "source": [
    "inf['docs'] = data_preparing.read_and_prepared(inf['data_path'])\n",
    "inf['path_train'], inf['path_test'] = data_preparing.form_test_train_set(docs=inf['docs'], name=inf['exp_name'], test_size=inf['test_size'])\n",
    "inf['path_castom'] = data_preparing.form_castom_set(inf['docs'], name=inf['exp_name'])\n",
    "inf['model'], inf['theta_train'] = artm_model.create_and_learn_PLSA(inf['path_train'], topic_number=inf['topic_number'], num_collection_passes=inf['num_collection_passes'])\n",
    "\n",
    "inf['theta_test'] = wwm.get_theta_from_vw(inf, inf['path_test'])\n",
    "inf['theta_castom'] = wwm.get_theta_from_vw(inf, inf['path_castom'])"
   ]
  },
  {
   "cell_type": "code",
   "execution_count": 13,
   "metadata": {},
   "outputs": [
    {
     "name": "stdout",
     "output_type": "stream",
     "text": [
      "16750  /  66104 0.25338859978216144\n",
      "dict_keys(['exp_name', 'test_size', 'num_collection_passes', 'topic_number', 'data_path', 'docs', 'path_train', 'path_test', 'path_castom', 'model', 'theta_train', 'theta_test', 'theta_castom', 'card2rubric', 'card2name', 'card2text', 'card2topic_castom', 'card2topic_train', 'card2topic_test', 'card2topic', 'topic2rubric'])\n"
     ]
    }
   ],
   "source": [
    "wwm.make_docs_dicts(inf)\n",
    "wwm.form_card2topic(inf)\n",
    "wwm.get_topic2rubric(inf)\n",
    "wwm.measure_accuracy_on_test(inf)\n",
    "print(inf.keys())"
   ]
  },
  {
   "cell_type": "code",
   "execution_count": 14,
   "metadata": {
    "scrolled": true
   },
   "outputs": [
    {
     "name": "stdout",
     "output_type": "stream",
     "text": [
      "1  \n",
      "prediction: \t remont-i-stroitel_stvo/elektromontajnye-raboty/zamena-knopok-i-vyklucatelej \n",
      " настоящий: \t  remont-i-stroitel_stvo/elektromontajnye-raboty/ \n",
      " name:  замена электрощитка \n",
      " замена электрощитка  \n",
      "\n",
      "\n",
      "2  \n",
      "prediction: \t remont-i-stroitel_stvo/okna-i-balkony/montaj-okon \n",
      " настоящий: \t  remont-i-stroitel_stvo/drugoe/ \n",
      " name:  монтаж вентиляции и кондиционирования \n",
      " монтаж вентиляции и кондиционирования проект консультации подбор оборудования монтаж \n",
      "\n",
      "\n",
      "3  \n",
      "prediction: \t remont-i-stroitel_stvo/zabory-i-ograjdenia/stroitel_stvo-zabora-iz-polikarbonata \n",
      " настоящий: \t  remont-i-stroitel_stvo/oboi-i-malarnye-raboty/ \n",
      " name:  оклейка обоев \n",
      " оклейка обоев оклейка обоев работаю с 2009 года так же все подготовительные работы есть плотник плиточник его услуги по надобности есть множество фото и видио работ качество гарантирую \n",
      "\n",
      "\n",
      "4  \n",
      "prediction: \t remont-i-stroitel_stvo/vysotnye-raboty/okraska-fasadov \n",
      " настоящий: \t  remont-i-stroitel_stvo/svarocnye-raboty/ \n",
      " name:  иготовление двухскатного козырька над входом \n",
      " иготовление двухскатного козырька над входом максимальный размер изготавливаемого козырька глубина 1 м ширина 1 8 м \n",
      "\n",
      "\n",
      "5  \n",
      "prediction: \t remont-i-stroitel_stvo/ozelenenie/ustrojstvo-gazona \n",
      " настоящий: \t  remont-i-stroitel_stvo/snos-i-demontaj/ \n",
      " name:  демонтаж паркета \n",
      " демонтаж паркета  \n",
      "\n",
      "\n",
      "6  \n",
      "prediction: \t remont-i-stroitel_stvo/izyskatel_nye-raboty/proverka-pravil_nosti-raspolojenia-budusih-zdanij-v-sootvetstvii-s-planom \n",
      " настоящий: \t  remont-i-stroitel_stvo/drugoe/ \n",
      " name:  арматура и металлопрокат с доставкой с металлобазы лобня \n",
      " арматура и металлопрокат с доставкой с металлобазы лобня арматура и металлопрокат с доставкой с металлобазы лобня без предоплат наша компания доставляет товары для строительства и технику для доставки для строительства дорожек домов канализации \n",
      "\n",
      "\n",
      "7  \n",
      "prediction: \t remont-i-stroitel_stvo/okna-i-balkony/demontaj-okon \n",
      " настоящий: \t  remont-i-stroitel_stvo/betonnye-raboty/ \n",
      " name:  дешевый бетон \n",
      " дешевый бетон дешевый бетон доступные цены наша фирма сделает отгрузку строительных товаров и спецтехники для строительства любых объектов картодромы бордюры лестницы \n",
      "\n",
      "\n",
      "8  \n",
      "prediction: \t remont-i-stroitel_stvo/elektromontajnye-raboty/ustanovka-rozetok-i-vyklucatelej \n",
      " настоящий: \t  remont-i-stroitel_stvo/elektromontajnye-raboty/ \n",
      " name:  монтаж электрики \n",
      " монтаж электрики  \n",
      "\n",
      "\n",
      "9  \n",
      "prediction: \t remont-i-stroitel_stvo/remont-ofisa/kosmeticeskij-remont-ofisov \n",
      " настоящий: \t  remont-i-stroitel_stvo/zemlanye-raboty/ \n",
      " name:  доставка песка и щебня дзержинский асфальтная крошка и бутовый камень \n",
      " доставка песка и щебня дзержинский асфальтная крошка и бутовый камень доставка песка и щебня дзержинский асфальтная крошка и бутовый камень недорого и оперативно наша компания осуществит отгрузку материалов и техники для строительства заборов отмостки бетонной подготовки \n",
      "\n",
      "\n",
      "10  \n",
      "prediction: \t remont-i-stroitel_stvo/snos-i-demontaj/demontaj-stajki \n",
      " настоящий: \t  remont-i-stroitel_stvo/betonnye-raboty/ \n",
      " name:  бетон для водоемов \n",
      " бетон для водоемов бетон для водоемов по низким ценам доставка миксерами 6 9 кубометров \n",
      "\n",
      "\n",
      "0  /  10 0.0\n"
     ]
    }
   ],
   "source": [
    "wwm.get_answers_on_castom_advanced(inf)"
   ]
  },
  {
   "cell_type": "code",
   "execution_count": 15,
   "metadata": {},
   "outputs": [],
   "source": [
    "def get_theta_from_vw_third(inf, path):\n",
    "    batch_vectorizer = None\n",
    "    batch_vectorizer = artm.BatchVectorizer(data_path='./' + path,\n",
    "                                                  data_format='vowpal_wabbit',\n",
    "                                                  target_folder='folder' + path)\n",
    "    return inf['model'].transform(batch_vectorizer=batch_vectorizer, predict_class_id='third')"
   ]
  },
  {
   "cell_type": "code",
   "execution_count": 18,
   "metadata": {},
   "outputs": [],
   "source": [
    "theta_castom_third = get_theta_from_vw_third(inf, inf['path_castom'])"
   ]
  },
  {
   "cell_type": "code",
   "execution_count": 19,
   "metadata": {},
   "outputs": [
    {
     "data": {
      "text/plain": [
       "(0, 123865)"
      ]
     },
     "execution_count": 19,
     "metadata": {},
     "output_type": "execute_result"
    }
   ],
   "source": [
    "theta_castom_third.shape"
   ]
  },
  {
   "cell_type": "code",
   "execution_count": 20,
   "metadata": {},
   "outputs": [
    {
     "data": {
      "text/plain": [
       "(750, 123865)"
      ]
     },
     "execution_count": 20,
     "metadata": {},
     "output_type": "execute_result"
    }
   ],
   "source": [
    "inf['theta_castom'].shape"
   ]
  },
  {
   "cell_type": "code",
   "execution_count": 23,
   "metadata": {},
   "outputs": [
    {
     "data": {
      "text/html": [
       "<div>\n",
       "<style scoped>\n",
       "    .dataframe tbody tr th:only-of-type {\n",
       "        vertical-align: middle;\n",
       "    }\n",
       "\n",
       "    .dataframe tbody tr th {\n",
       "        vertical-align: top;\n",
       "    }\n",
       "\n",
       "    .dataframe thead th {\n",
       "        text-align: right;\n",
       "    }\n",
       "</style>\n",
       "<table border=\"1\" class=\"dataframe\">\n",
       "  <thead>\n",
       "    <tr style=\"text-align: right;\">\n",
       "      <th></th>\n",
       "    </tr>\n",
       "  </thead>\n",
       "  <tbody>\n",
       "    <tr>\n",
       "      <th>116d78d3-8f8a-4a55-b6ba-7c80874affb7</th>\n",
       "    </tr>\n",
       "    <tr>\n",
       "      <th>47118622-c96b-4b90-9151-581561fe308d</th>\n",
       "    </tr>\n",
       "    <tr>\n",
       "      <th>aaf45581-c4dd-4c0c-9732-af193529334b</th>\n",
       "    </tr>\n",
       "    <tr>\n",
       "      <th>9421b7e9-0676-43e0-bad8-bd0cb635cf23</th>\n",
       "    </tr>\n",
       "    <tr>\n",
       "      <th>0de64bef-bf29-4a50-ba62-adcd59afec41</th>\n",
       "    </tr>\n",
       "  </tbody>\n",
       "</table>\n",
       "</div>"
      ],
      "text/plain": [
       "Empty DataFrame\n",
       "Columns: []\n",
       "Index: [116d78d3-8f8a-4a55-b6ba-7c80874affb7, 47118622-c96b-4b90-9151-581561fe308d, aaf45581-c4dd-4c0c-9732-af193529334b, 9421b7e9-0676-43e0-bad8-bd0cb635cf23, 0de64bef-bf29-4a50-ba62-adcd59afec41]"
      ]
     },
     "execution_count": 23,
     "metadata": {},
     "output_type": "execute_result"
    }
   ],
   "source": [
    "theta_castom_third.T.head()"
   ]
  },
  {
   "cell_type": "code",
   "execution_count": null,
   "metadata": {},
   "outputs": [],
   "source": []
  }
 ],
 "metadata": {
  "kernelspec": {
   "display_name": "bigartm_py38",
   "language": "python",
   "name": "bigartm_py38"
  },
  "language_info": {
   "codemirror_mode": {
    "name": "ipython",
    "version": 3
   },
   "file_extension": ".py",
   "mimetype": "text/x-python",
   "name": "python",
   "nbconvert_exporter": "python",
   "pygments_lexer": "ipython3",
   "version": "3.8.1"
  }
 },
 "nbformat": 4,
 "nbformat_minor": 2
}
