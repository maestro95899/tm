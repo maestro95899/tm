{
 "cells": [
  {
   "cell_type": "code",
   "execution_count": 89,
   "metadata": {},
   "outputs": [],
   "source": [
    "import pandas as pd\n",
    "import random\n",
    "import re\n",
    "from collections import Counter\n",
    "import matplotlib.pyplot as plt"
   ]
  },
  {
   "cell_type": "code",
   "execution_count": 6,
   "metadata": {},
   "outputs": [],
   "source": [
    "syn = pd.read_csv(\"../../datasets/category_synonyms\", \"\\t\")"
   ]
  },
  {
   "cell_type": "code",
   "execution_count": 7,
   "metadata": {},
   "outputs": [
    {
     "data": {
      "text/html": [
       "<div>\n",
       "<style scoped>\n",
       "    .dataframe tbody tr th:only-of-type {\n",
       "        vertical-align: middle;\n",
       "    }\n",
       "\n",
       "    .dataframe tbody tr th {\n",
       "        vertical-align: top;\n",
       "    }\n",
       "\n",
       "    .dataframe thead th {\n",
       "        text-align: right;\n",
       "    }\n",
       "</style>\n",
       "<table border=\"1\" class=\"dataframe\">\n",
       "  <thead>\n",
       "    <tr style=\"text-align: right;\">\n",
       "      <th></th>\n",
       "      <th>id</th>\n",
       "      <th>synonym</th>\n",
       "      <th>meta_info</th>\n",
       "    </tr>\n",
       "  </thead>\n",
       "  <tbody>\n",
       "    <tr>\n",
       "      <th>0</th>\n",
       "      <td>/arenda</td>\n",
       "      <td>взять на время</td>\n",
       "      <td>{\"sources\": [\"custom_mborisov_alextim27_3110\"]}</td>\n",
       "    </tr>\n",
       "    <tr>\n",
       "      <th>1</th>\n",
       "      <td>/arenda</td>\n",
       "      <td>прокат и аренда</td>\n",
       "      <td>{\"sources\": [\"profiru_name\"]}</td>\n",
       "    </tr>\n",
       "    <tr>\n",
       "      <th>2</th>\n",
       "      <td>/arenda/drugoe/fotostudii</td>\n",
       "      <td>снять фотостудию на час</td>\n",
       "      <td>{\"sources\": [\"YDO-6734\"]}</td>\n",
       "    </tr>\n",
       "    <tr>\n",
       "      <th>3</th>\n",
       "      <td>/arenda/instrument</td>\n",
       "      <td>аренда инструмента инструментов</td>\n",
       "      <td>{\"sources\": [\"YDO-6734\"]}</td>\n",
       "    </tr>\n",
       "    <tr>\n",
       "      <th>4</th>\n",
       "      <td>/arenda/instrument</td>\n",
       "      <td>аренда строительного инструмента</td>\n",
       "      <td>{\"sources\": [\"YDO-1262\"]}</td>\n",
       "    </tr>\n",
       "  </tbody>\n",
       "</table>\n",
       "</div>"
      ],
      "text/plain": [
       "                          id                           synonym  \\\n",
       "0                    /arenda                    взять на время   \n",
       "1                    /arenda                   прокат и аренда   \n",
       "2  /arenda/drugoe/fotostudii           снять фотостудию на час   \n",
       "3         /arenda/instrument   аренда инструмента инструментов   \n",
       "4         /arenda/instrument  аренда строительного инструмента   \n",
       "\n",
       "                                         meta_info  \n",
       "0  {\"sources\": [\"custom_mborisov_alextim27_3110\"]}  \n",
       "1                    {\"sources\": [\"profiru_name\"]}  \n",
       "2                        {\"sources\": [\"YDO-6734\"]}  \n",
       "3                        {\"sources\": [\"YDO-6734\"]}  \n",
       "4                        {\"sources\": [\"YDO-1262\"]}  "
      ]
     },
     "execution_count": 7,
     "metadata": {},
     "output_type": "execute_result"
    }
   ],
   "source": [
    "syn.head()"
   ]
  },
  {
   "cell_type": "code",
   "execution_count": 8,
   "metadata": {},
   "outputs": [
    {
     "data": {
      "text/html": [
       "<div>\n",
       "<style scoped>\n",
       "    .dataframe tbody tr th:only-of-type {\n",
       "        vertical-align: middle;\n",
       "    }\n",
       "\n",
       "    .dataframe tbody tr th {\n",
       "        vertical-align: top;\n",
       "    }\n",
       "\n",
       "    .dataframe thead th {\n",
       "        text-align: right;\n",
       "    }\n",
       "</style>\n",
       "<table border=\"1\" class=\"dataframe\">\n",
       "  <thead>\n",
       "    <tr style=\"text-align: right;\">\n",
       "      <th></th>\n",
       "      <th>id</th>\n",
       "      <th>synonym</th>\n",
       "      <th>meta_info</th>\n",
       "    </tr>\n",
       "  </thead>\n",
       "  <tbody>\n",
       "    <tr>\n",
       "      <th>5935</th>\n",
       "      <td>/remont-i-stroitel_stvo</td>\n",
       "      <td>мастера по ремонту</td>\n",
       "      <td>{\"sources\": [\"profiru_name\"]}</td>\n",
       "    </tr>\n",
       "    <tr>\n",
       "      <th>5936</th>\n",
       "      <td>/remont-i-stroitel_stvo</td>\n",
       "      <td>ремонтники и строители</td>\n",
       "      <td>{\"sources\": [\"sukhoi_word_forms\"]}</td>\n",
       "    </tr>\n",
       "    <tr>\n",
       "      <th>5937</th>\n",
       "      <td>/remont-i-stroitel_stvo/betonnye-raboty</td>\n",
       "      <td>бетон и строительные</td>\n",
       "      <td>{\"sources\": [\"YDO-82\"]}</td>\n",
       "    </tr>\n",
       "    <tr>\n",
       "      <th>5938</th>\n",
       "      <td>/remont-i-stroitel_stvo/betonnye-raboty</td>\n",
       "      <td>бетонирование</td>\n",
       "      <td>{\"sources\": [\"YDO-82\"]}</td>\n",
       "    </tr>\n",
       "    <tr>\n",
       "      <th>5939</th>\n",
       "      <td>/remont-i-stroitel_stvo/betonnye-raboty</td>\n",
       "      <td>бетонные работы работ</td>\n",
       "      <td>{\"sources\": [\"YDO-6734\"]}</td>\n",
       "    </tr>\n",
       "    <tr>\n",
       "      <th>...</th>\n",
       "      <td>...</td>\n",
       "      <td>...</td>\n",
       "      <td>...</td>\n",
       "    </tr>\n",
       "    <tr>\n",
       "      <th>9515</th>\n",
       "      <td>/remont-i-stroitel_stvo/zemlanye-raboty/transp...</td>\n",
       "      <td>грунт для отсыпки</td>\n",
       "      <td>{\"sources\": [\"YDO-6734\"]}</td>\n",
       "    </tr>\n",
       "    <tr>\n",
       "      <th>9516</th>\n",
       "      <td>/remont-i-stroitel_stvo/zemlanye-raboty/transp...</td>\n",
       "      <td>машина песка с доставкой</td>\n",
       "      <td>{\"sources\": [\"YDO-6734\"]}</td>\n",
       "    </tr>\n",
       "    <tr>\n",
       "      <th>9517</th>\n",
       "      <td>/remont-i-stroitel_stvo/zemlanye-raboty/transp...</td>\n",
       "      <td>привезти грунт</td>\n",
       "      <td>{\"sources\": [\"custom_mborisov_alextim27_3110\"]}</td>\n",
       "    </tr>\n",
       "    <tr>\n",
       "      <th>9518</th>\n",
       "      <td>/remont-i-stroitel_stvo/zemlanye-raboty/valka-...</td>\n",
       "      <td>повалить дерево</td>\n",
       "      <td>{\"sources\": [\"custom_mborisov_alextim27_3110\"]}</td>\n",
       "    </tr>\n",
       "    <tr>\n",
       "      <th>9519</th>\n",
       "      <td>/remont-i-stroitel_stvo/zemlanye-raboty/valka-...</td>\n",
       "      <td>убрать дерево</td>\n",
       "      <td>{\"sources\": [\"custom_mborisov_alextim27_3110\"]}</td>\n",
       "    </tr>\n",
       "  </tbody>\n",
       "</table>\n",
       "<p>3585 rows × 3 columns</p>\n",
       "</div>"
      ],
      "text/plain": [
       "                                                     id  \\\n",
       "5935                            /remont-i-stroitel_stvo   \n",
       "5936                            /remont-i-stroitel_stvo   \n",
       "5937            /remont-i-stroitel_stvo/betonnye-raboty   \n",
       "5938            /remont-i-stroitel_stvo/betonnye-raboty   \n",
       "5939            /remont-i-stroitel_stvo/betonnye-raboty   \n",
       "...                                                 ...   \n",
       "9515  /remont-i-stroitel_stvo/zemlanye-raboty/transp...   \n",
       "9516  /remont-i-stroitel_stvo/zemlanye-raboty/transp...   \n",
       "9517  /remont-i-stroitel_stvo/zemlanye-raboty/transp...   \n",
       "9518  /remont-i-stroitel_stvo/zemlanye-raboty/valka-...   \n",
       "9519  /remont-i-stroitel_stvo/zemlanye-raboty/valka-...   \n",
       "\n",
       "                       synonym  \\\n",
       "5935        мастера по ремонту   \n",
       "5936    ремонтники и строители   \n",
       "5937      бетон и строительные   \n",
       "5938             бетонирование   \n",
       "5939     бетонные работы работ   \n",
       "...                        ...   \n",
       "9515         грунт для отсыпки   \n",
       "9516  машина песка с доставкой   \n",
       "9517            привезти грунт   \n",
       "9518           повалить дерево   \n",
       "9519             убрать дерево   \n",
       "\n",
       "                                            meta_info  \n",
       "5935                    {\"sources\": [\"profiru_name\"]}  \n",
       "5936               {\"sources\": [\"sukhoi_word_forms\"]}  \n",
       "5937                          {\"sources\": [\"YDO-82\"]}  \n",
       "5938                          {\"sources\": [\"YDO-82\"]}  \n",
       "5939                        {\"sources\": [\"YDO-6734\"]}  \n",
       "...                                               ...  \n",
       "9515                        {\"sources\": [\"YDO-6734\"]}  \n",
       "9516                        {\"sources\": [\"YDO-6734\"]}  \n",
       "9517  {\"sources\": [\"custom_mborisov_alextim27_3110\"]}  \n",
       "9518  {\"sources\": [\"custom_mborisov_alextim27_3110\"]}  \n",
       "9519  {\"sources\": [\"custom_mborisov_alextim27_3110\"]}  \n",
       "\n",
       "[3585 rows x 3 columns]"
      ]
     },
     "execution_count": 8,
     "metadata": {},
     "output_type": "execute_result"
    }
   ],
   "source": [
    "syn[syn[\"id\"].apply(lambda x: \"/remont-i-stroitel_stvo\" in x)]"
   ]
  },
  {
   "cell_type": "code",
   "execution_count": 78,
   "metadata": {},
   "outputs": [],
   "source": [
    "synonyms = syn[syn[\"id\"].apply(lambda x: \"/remont-i-stroitel_stvo\" in x)].synonym.values\n",
    "synonyms = list(set(list(synonyms)))"
   ]
  },
  {
   "cell_type": "code",
   "execution_count": 79,
   "metadata": {},
   "outputs": [
    {
     "data": {
      "text/plain": [
       "3331"
      ]
     },
     "execution_count": 79,
     "metadata": {},
     "output_type": "execute_result"
    }
   ],
   "source": [
    "len(synonyms)"
   ]
  },
  {
   "cell_type": "code",
   "execution_count": null,
   "metadata": {},
   "outputs": [],
   "source": [
    "remont_n-grams_7"
   ]
  },
  {
   "cell_type": "code",
   "execution_count": 19,
   "metadata": {},
   "outputs": [
    {
     "name": "stdout",
     "output_type": "stream",
     "text": [
      "955845\n"
     ]
    }
   ],
   "source": [
    "f = open(\"store_frequent_phrases/remont_n-grams_all_docs_modern_alg_2_4\", \"r\")\n",
    "ngramsM = {}\n",
    "for line in f:\n",
    "    ngramsM[line.split(\"\\t\")[0]] = line.split(\"\\t\")[1]\n",
    "f.close()\n",
    "print(len(ngramsM))"
   ]
  },
  {
   "cell_type": "code",
   "execution_count": 18,
   "metadata": {},
   "outputs": [
    {
     "name": "stdout",
     "output_type": "stream",
     "text": [
      "3219155\n"
     ]
    }
   ],
   "source": [
    "f = open(\"store_frequent_phrases/remont_n-grams_all_docs_modern_alg_2_4_hash\", \"r\")\n",
    "ngramsM_hash = {}\n",
    "for line in f:\n",
    "    ngramsM_hash[line.split(\"\\t\")[0]] = line.split(\"\\t\")[1]\n",
    "f.close()\n",
    "print(len(ngramsM_hash))"
   ]
  },
  {
   "cell_type": "code",
   "execution_count": 2,
   "metadata": {},
   "outputs": [
    {
     "name": "stdout",
     "output_type": "stream",
     "text": [
      "145144\n"
     ]
    }
   ],
   "source": [
    "f = open(\"store_frequent_phrases/remont_n-grams_all_docs_old_alg_10_4\", \"r\")\n",
    "ngramsC = {}\n",
    "for line in f:\n",
    "    ngramsC[line.split(\"\\t\")[0]] = line.split(\"\\t\")[1]\n",
    "f.close()\n",
    "print(len(ngramsC))"
   ]
  },
  {
   "cell_type": "code",
   "execution_count": 109,
   "metadata": {},
   "outputs": [
    {
     "name": "stdout",
     "output_type": "stream",
     "text": [
      "326967\n"
     ]
    }
   ],
   "source": [
    "f = open(\"store_frequent_phrases/remont_n-grams_all_docs_old_alg_6_4\", \"r\")\n",
    "ngramsC_6 = {}\n",
    "for line in f:\n",
    "    ngramsC_6[line.split(\"\\t\")[0]] = line.split(\"\\t\")[1]\n",
    "f.close()\n",
    "print(len(ngramsC_6))"
   ]
  },
  {
   "cell_type": "code",
   "execution_count": 111,
   "metadata": {},
   "outputs": [
    {
     "name": "stdout",
     "output_type": "stream",
     "text": [
      "1007880\n"
     ]
    }
   ],
   "source": [
    "f = open(\"store_frequent_phrases/remont_n-grams_all_docs_old_alg_6_4_hash\", \"r\")\n",
    "ngramsC_6_hash = {}\n",
    "for line in f:\n",
    "    ngramsC_6_hash[line.split(\"\\t\")[0]] = line.split(\"\\t\")[1]\n",
    "f.close()\n",
    "print(len(ngramsC_6_hash))"
   ]
  },
  {
   "cell_type": "code",
   "execution_count": 110,
   "metadata": {},
   "outputs": [
    {
     "name": "stdout",
     "output_type": "stream",
     "text": [
      "417057\n"
     ]
    }
   ],
   "source": [
    "f = open(\"store_frequent_phrases/remont_n-grams_all_docs_old_alg_10_4_hash\", \"r\")\n",
    "ngramsC_hash = {}\n",
    "for line in f:\n",
    "    ngramsC_hash[line.split(\"\\t\")[0]] = line.split(\"\\t\")[1]\n",
    "f.close()\n",
    "print(len(ngramsC_hash))"
   ]
  },
  {
   "cell_type": "code",
   "execution_count": 15,
   "metadata": {},
   "outputs": [
    {
     "name": "stdout",
     "output_type": "stream",
     "text": [
      "321073\n"
     ]
    }
   ],
   "source": [
    "intersection = 0\n",
    "for key in ngramsC_hash.keys():\n",
    "    if key in ngramsM:\n",
    "        intersection += 1\n",
    "print(intersection)"
   ]
  },
  {
   "cell_type": "code",
   "execution_count": 16,
   "metadata": {},
   "outputs": [
    {
     "name": "stdout",
     "output_type": "stream",
     "text": [
      "['противотоки аттракционы пластиковые мкости оснащение', 'сроки полная консультация', 'просвет могут быть видны полосы и разводы хотя', 'потолок от 350', 'с инсталляцией разбор', 'является наличие собственного автопарка', 'в 10 бетон в 10 с', 'автоматов ysonentity монтаж фасада', 'установка светодиодной ленты ysonentity демонтаж ванны ysonentity', 'сборка кухни гидроизоляция', 'дождевых стоков', 'ремонт квартиры быстрый ремонт квартиры', 'отопления и водоснабжения монтаж механического привода', 'важно соблюсти требования госта и строительные нормы важно чтобы', 'нагревательного мата в', 'паркета шлифовка циклевка паркета', 'посадка хвойного дерева удаление кустарника', 'монтаж радиаторов отопления установка контактора и автоматов', 'затем осуществляется монтаж', 'все правила и нюансы в итоге', 'натяжные потолки сатиновые натяжные потолки тканевые натяжные', 'звонка гарантия на', 'необходимые инструменты требуется кабельные и электромонтажные', 'конструкции стандартный режим эксплуатации уже слегка сдавливает', 'дешевле и если хотите сэкономить подгадывайте ваш ремонт в', 'руб п м установка натяжных потолков', 'ключ от электропроекта до монтажа электрики такие работы в', 'пола определение фактической площади объекта', 'балконов и лоджий демонтаж септика', 'способом отделки помещения в современном аскетичном', 'стен демонтаж штукатурки покраска пола', 'строительство дачных домов в калуге', 'вашем участке есть', 'мебели роспись', 'видеонаблюдения монтаж врезного электромеханического замка монтаж', 'вовсе не означает то что', 'низкой шумоизоляцией следующее напольное покрытие на котором мы заострим', 'и проектирование каждой лестницы бесплатно', 'из пвх герметизация мест примыкания оконной рамы установка', 'проектирование электрооборудования ни', 'установка столешницы на', 'уже готовой', 'бесплатно цены фиксированные без накруток во время', 'вентиляции различных', 'процесс весьма', '3 часа реставрация', 'шумоизоляция входной', 'в стоимость входит установка и', 'грунта подготовка основания', 'коробки замена замка демонтаж']\n"
     ]
    }
   ],
   "source": [
    "random.seed(0)\n",
    "M_only = []\n",
    "for key in ngramsM.keys():\n",
    "    if not key in ngramsC_hash:\n",
    "        M_only.append(key)\n",
    "random.shuffle(M_only)\n",
    "print(M_only[0:50])"
   ]
  },
  {
   "cell_type": "code",
   "execution_count": 17,
   "metadata": {},
   "outputs": [
    {
     "name": "stdout",
     "output_type": "stream",
     "text": [
      "['плана технический надзор погрузка разгрузка стройматериала и вынос', 'зависимости от сложности задачи и объ', 'догруппировку чугунных радиаторов', 'тестирование в стоимость монтажа не входят', 'каркасные и панельно каркасные проекты домов и', 'взноса до 24 месяцев скидки от 5', '8 проводим все', 'профессиональный инструмент с его помощью работа сделана будет без', 'рассрочка мы стоим подписываешь акт сдачи объекта и все', 'работаем быстро и качественно инструмент наш', 'задачи в кратчайшие сроки работаем в красногорске с', 'омске опыт работы 15', 'за кв м в стоимость входит возведение теплого контура', 'проделанной работе финишные покрытия такие как плитка ламинат обои', 'работы нам важно что бы вы остались', 'доставка выезд бесплатный оплата по факту', 'назад все трубы и провода электрики не просто износились', 'всегда доходит именно то что', 'с его помощью работа', 'года предлагаем 40 скидки при работе', 'свое производство в ставрополе', 'уборка бесплатный выезд и замер бесплатное составление', 'есть выступы и ямки углы неровные даже обои отклеиваются', 'прораб работнику стоимость', 'и корректировки контроллеры овен данфос', 'по низким ценам работаем с наличными и безналом', 'случае необходимо составление', 'стояков установка инсталляции отделка', 'и их общей стоимости одна услуга по замене или', 'итогового предложения влияет ряд объективных', 'работ консультация выезд и просчет подробной сметы', 'ваш проект и согласуем дату поставки материалов', 'проект и согласуем дату поставки материалов и начала', 'от требуемых услуг и', 'в сфере бытового ремонта и косметической отделки', 'обустройстве вашего жилья и', 'спецификация размер', 'из самых низких на сегодняшний день', 'и уборке мусора не забывайте о том что конечная', 'в венгрии испании и австрии', '20 на первый заказ мастера у нас опрятные вежливые', 'стрелам которых', 'до конца недели на демонтаж', 'надежное европейское оборудование монтаж', 'условия работы данных систем выявлю', 'в грамотно и', 'назад все трубы были', 'указана за кв м укладка', 'зависит от конкретных условий поэтому стоимость надо определять после', 'готов выехать сразу после вашего звонка ежедневно работая']\n"
     ]
    }
   ],
   "source": [
    "random.seed(0)\n",
    "C_hash_only = []\n",
    "for key in ngramsC_hash.keys():\n",
    "    if not key in ngramsM:\n",
    "        C_hash_only.append(key)\n",
    "random.shuffle(C_hash_only)\n",
    "print(C_hash_only[0:50])"
   ]
  },
  {
   "cell_type": "markdown",
   "metadata": {},
   "source": [
    "##### Проверим, сколько синонимов впринципе содержатся в текстах коллекции"
   ]
  },
  {
   "cell_type": "code",
   "execution_count": 40,
   "metadata": {},
   "outputs": [],
   "source": [
    "f = open(\"vw_remont-i-stroitel_stvo_only_text_grouped_by_worker\", \"r\")\n",
    "texts = []\n",
    "for line in f:\n",
    "    texts.append(re.sub('[^A-Za-z0-9А-Яа-я]+', ' ', line).replace(\"  \", \" \").replace(\"  \", \" \"))"
   ]
  },
  {
   "cell_type": "code",
   "execution_count": 41,
   "metadata": {},
   "outputs": [
    {
     "data": {
      "text/plain": [
       "59071"
      ]
     },
     "execution_count": 41,
     "metadata": {},
     "output_type": "execute_result"
    }
   ],
   "source": [
    "len(texts)"
   ]
  },
  {
   "cell_type": "code",
   "execution_count": 85,
   "metadata": {},
   "outputs": [],
   "source": [
    "syn_freq = Counter()\n",
    "syn_in_docs = Counter()\n",
    "for synonym in synonyms:\n",
    "    for text in texts:\n",
    "        if synonym in text:\n",
    "            syn_in_docs[synonym] += 1\n",
    "        syn_freq[synonym] += text.count(synonym)"
   ]
  },
  {
   "cell_type": "code",
   "execution_count": 86,
   "metadata": {},
   "outputs": [
    {
     "data": {
      "text/plain": [
       "1428"
      ]
     },
     "execution_count": 86,
     "metadata": {},
     "output_type": "execute_result"
    }
   ],
   "source": [
    "len(syn_in_docs)"
   ]
  },
  {
   "cell_type": "code",
   "execution_count": 87,
   "metadata": {},
   "outputs": [],
   "source": [
    "syn_terms = {}\n",
    "for key in syn_in_docs.keys():\n",
    "    if len(key.split()) > 1:\n",
    "        syn_terms[key] = syn_in_docs[key]"
   ]
  },
  {
   "cell_type": "code",
   "execution_count": 88,
   "metadata": {},
   "outputs": [
    {
     "data": {
      "text/plain": [
       "1305"
      ]
     },
     "execution_count": 88,
     "metadata": {},
     "output_type": "execute_result"
    }
   ],
   "source": [
    "len(syn_terms)"
   ]
  },
  {
   "cell_type": "markdown",
   "metadata": {},
   "source": [
    "### Построим графики:"
   ]
  },
  {
   "cell_type": "markdown",
   "metadata": {},
   "source": [
    "##### полнота терминов из коллекции синонимов"
   ]
  },
  {
   "cell_type": "code",
   "execution_count": 63,
   "metadata": {},
   "outputs": [
    {
     "name": "stdout",
     "output_type": "stream",
     "text": [
      "0.39233716475095787 512\n"
     ]
    }
   ],
   "source": [
    "intersection_synonyms_M = []\n",
    "for key in syn_terms.keys():\n",
    "    if key in ngramsM:\n",
    "        intersection_synonyms_M.append(key)\n",
    "print(len(intersection_synonyms_M) / len(syn_terms), len(intersection_synonyms_M))"
   ]
  },
  {
   "cell_type": "code",
   "execution_count": 82,
   "metadata": {},
   "outputs": [
    {
     "name": "stdout",
     "output_type": "stream",
     "text": [
      "0.7877394636015326 1028\n"
     ]
    }
   ],
   "source": [
    "intersection_synonyms_M_hash = []\n",
    "for key in syn_terms.keys():\n",
    "    if key in ngramsM_hash:\n",
    "        intersection_synonyms_M_hash.append(key)\n",
    "print(len(intersection_synonyms_M_hash) / len(syn_terms), len(intersection_synonyms_M_hash))"
   ]
  },
  {
   "cell_type": "code",
   "execution_count": 83,
   "metadata": {},
   "outputs": [
    {
     "name": "stdout",
     "output_type": "stream",
     "text": [
      "0.3739463601532567 488\n"
     ]
    }
   ],
   "source": [
    "intersection_synonyms_C = []\n",
    "for key in syn_terms.keys():\n",
    "    if key in ngramsC:\n",
    "        intersection_synonyms_C.append(key)\n",
    "print(len(intersection_synonyms_C) / len(syn_terms), len(intersection_synonyms_C))"
   ]
  },
  {
   "cell_type": "code",
   "execution_count": 84,
   "metadata": {},
   "outputs": [
    {
     "name": "stdout",
     "output_type": "stream",
     "text": [
      "0.4567049808429119 596\n"
     ]
    }
   ],
   "source": [
    "intersection_synonyms_C_hash = []\n",
    "for key in syn_terms.keys():\n",
    "    if key in ngramsC_hash:\n",
    "        intersection_synonyms_C_hash.append(key)\n",
    "print(len(intersection_synonyms_C_hash) / len(syn_terms), len(intersection_synonyms_C_hash))"
   ]
  },
  {
   "cell_type": "code",
   "execution_count": 113,
   "metadata": {},
   "outputs": [
    {
     "name": "stdout",
     "output_type": "stream",
     "text": [
      "0.46360153256704983 605\n"
     ]
    }
   ],
   "source": [
    "intersection_synonyms_C_6 = []\n",
    "for key in syn_terms.keys():\n",
    "    if key in ngramsC_6:\n",
    "        intersection_synonyms_C_6.append(key)\n",
    "print(len(intersection_synonyms_C_6) / len(syn_terms), len(intersection_synonyms_C_6))"
   ]
  },
  {
   "cell_type": "code",
   "execution_count": 112,
   "metadata": {},
   "outputs": [
    {
     "name": "stdout",
     "output_type": "stream",
     "text": [
      "0.5992337164750958 782\n"
     ]
    }
   ],
   "source": [
    "intersection_synonyms_C_6_hash = []\n",
    "for key in syn_terms.keys():\n",
    "    if key in ngramsC_6_hash:\n",
    "        intersection_synonyms_C_6_hash.append(key)\n",
    "print(len(intersection_synonyms_C_6_hash) / len(syn_terms), len(intersection_synonyms_C_6_hash))"
   ]
  },
  {
   "cell_type": "code",
   "execution_count": null,
   "metadata": {},
   "outputs": [],
   "source": [
    "ngramsC_6_hash"
   ]
  },
  {
   "cell_type": "code",
   "execution_count": 107,
   "metadata": {},
   "outputs": [
    {
     "data": {
      "image/png": "[encoded data removed]",
      "text/plain": [
       "<Figure size 432x288 with 1 Axes>"
      ]
     },
     "metadata": {
      "needs_background": "light"
     },
     "output_type": "display_data"
    }
   ],
   "source": [
    "plt.scatter([\"My TopMine\", \"My TopMine all phrase\", \"TopMine\", \"TopMine all phrase\"],\n",
    "            [len(intersection_synonyms_M), \n",
    "            len(intersection_synonyms_M_hash), \n",
    "            len(intersection_synonyms_C), \n",
    "            len(intersection_synonyms_C_hash)],\n",
    "            c=\"b\", alpha=0.5, marker=\"x\", label=\"количество найденных синонимов\")\n",
    "plt.axhline(y=len(syn_terms), label=\"всего синонимов\")\n",
    "plt.xlabel(\"Модель\")\n",
    "plt.ylabel(\"Количество найденных синонимов\")\n",
    "plt.legend(loc='upper right')\n",
    "plt.show()\n",
    "\n"
   ]
  },
  {
   "cell_type": "code",
   "execution_count": null,
   "metadata": {},
   "outputs": [],
   "source": []
  },
  {
   "cell_type": "code",
   "execution_count": null,
   "metadata": {},
   "outputs": [],
   "source": []
  },
  {
   "cell_type": "markdown",
   "metadata": {},
   "source": [
    "##### объем полученных n-грамм\n"
   ]
  },
  {
   "cell_type": "code",
   "execution_count": 31,
   "metadata": {},
   "outputs": [
    {
     "name": "stdout",
     "output_type": "stream",
     "text": [
      "955845\n",
      "3219155\n",
      "145144\n",
      "417057\n"
     ]
    }
   ],
   "source": [
    "print(len(ngramsM))\n",
    "print(len(ngramsM_hash))\n",
    "print(len(ngramsC))\n",
    "print(len(ngramsC_hash))\n",
    "\n",
    "\n"
   ]
  },
  {
   "cell_type": "code",
   "execution_count": null,
   "metadata": {},
   "outputs": [],
   "source": []
  },
  {
   "cell_type": "code",
   "execution_count": null,
   "metadata": {},
   "outputs": [],
   "source": []
  },
  {
   "cell_type": "markdown",
   "metadata": {},
   "source": [
    "##### Попали в оригинал, не попали в модерниированный (термы содержащиеся в одном документе)"
   ]
  },
  {
   "cell_type": "code",
   "execution_count": 34,
   "metadata": {},
   "outputs": [
    {
     "name": "stdout",
     "output_type": "stream",
     "text": [
      "95984 / 417057 = 0.23014599922792328\n"
     ]
    }
   ],
   "source": [
    "intersection = 0\n",
    "for key in ngramsC_hash.keys():\n",
    "    if key in ngramsM_hash:\n",
    "        intersection += 1\n",
    "print(len(ngramsC_hash) - intersection, \"/\", len(ngramsC_hash), \"=\", (len(ngramsC_hash) - intersection) / len(ngramsC_hash))"
   ]
  },
  {
   "cell_type": "code",
   "execution_count": 35,
   "metadata": {},
   "outputs": [
    {
     "name": "stdout",
     "output_type": "stream",
     "text": [
      "14508 / 145144 = 0.09995590585900899\n"
     ]
    }
   ],
   "source": [
    "intersection = 0\n",
    "for key in ngramsC.keys():\n",
    "    if key in ngramsM_hash:\n",
    "        intersection += 1\n",
    "print(len(ngramsC) - intersection, \"/\", len(ngramsC), \"=\", (len(ngramsC) - intersection) / len(ngramsC))"
   ]
  },
  {
   "cell_type": "code",
   "execution_count": null,
   "metadata": {},
   "outputs": [],
   "source": []
  }
 ],
 "metadata": {
  "kernelspec": {
   "display_name": "study_env",
   "language": "python",
   "name": "study_env"
  },
  "language_info": {
   "codemirror_mode": {
    "name": "ipython",
    "version": 3
   },
   "file_extension": ".py",
   "mimetype": "text/x-python",
   "name": "python",
   "nbconvert_exporter": "python",
   "pygments_lexer": "ipython3",
   "version": "3.7.6"
  }
 },
 "nbformat": 4,
 "nbformat_minor": 4
}
