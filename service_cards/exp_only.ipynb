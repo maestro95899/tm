{
 "cells": [
  {
   "cell_type": "code",
   "execution_count": 2,
   "metadata": {},
   "outputs": [
    {
     "data": {
      "text/html": [
       "<style>.container { width:100% !important; }</style>"
      ],
      "text/plain": [
       "<IPython.core.display.HTML object>"
      ]
     },
     "metadata": {},
     "output_type": "display_data"
    }
   ],
   "source": [
    "from IPython.core.display import display, HTML \n",
    "display(HTML(\"<style>.container { width:100% !important; }</style>\"))"
   ]
  },
  {
   "cell_type": "code",
   "execution_count": 6,
   "metadata": {},
   "outputs": [
    {
     "name": "stdout",
     "output_type": "stream",
     "text": [
      "artm.version() 0.10.0\n"
     ]
    }
   ],
   "source": [
    "import importlib # использую для перегрузки библиотек\n",
    "import time\n",
    "from IPython.display import clear_output\n",
    "import random\n",
    "\n",
    "import pandas as pd\n",
    "import json\n",
    "import numpy as np\n",
    "import artm\n",
    "\n",
    "import data_preparing\n",
    "import artm_model\n",
    "import work_with_model as wwm\n",
    "\n",
    "importlib.reload(data_preparing)\n",
    "importlib.reload(artm_model)\n",
    "importlib.reload(wwm)\n",
    "\n",
    "importlib.reload(artm)\n",
    "clear_output(True)"
   ]
  },
  {
   "cell_type": "code",
   "execution_count": 10,
   "metadata": {},
   "outputs": [
    {
     "name": "stdout",
     "output_type": "stream",
     "text": [
      "artm.version() 0.10.0\n"
     ]
    }
   ],
   "source": [
    "import artm\n",
    "print('artm.version()', artm.version())"
   ]
  },
  {
   "cell_type": "code",
   "execution_count": null,
   "metadata": {},
   "outputs": [],
   "source": [
    "inf = {}\n",
    "inf['exp_name'] = 'simple'\n",
    "inf['test_size'] = 0.1\n",
    "inf['num_collection_passes'] = 15\n",
    "inf['topic_number'] = 750\n",
    "inf['data_path'] = \"service_cards_tokenised_remont_only\""
   ]
  },
  {
   "cell_type": "code",
   "execution_count": null,
   "metadata": {},
   "outputs": [],
   "source": [
    "inf['docs'] = data_preparing.read_and_prepared(inf['data_path'])\n",
    "inf['path_train'], inf['path_test'] = data_preparing.form_test_train_set(docs=inf['docs'], name=inf['exp_name'], test_size=inf['test_size'])\n",
    "inf['path_castom'] = data_preparing.form_castom_set(inf['docs'], name=inf['exp_name'])\n",
    "inf['model'], inf['theta_train'] = artm_model.create_and_learn_PLSA(inf['path_train'], topic_number=inf['topic_number'], num_collection_passes=inf['num_collection_passes'])\n",
    "\n",
    "inf['theta_test'] = wwm.get_theta_from_vw(inf, inf['path_test'])\n",
    "inf['theta_castom'] = wwm.get_theta_from_vw(inf, inf['path_castom'])\n",
    "clear_output(True)"
   ]
  },
  {
   "cell_type": "code",
   "execution_count": null,
   "metadata": {},
   "outputs": [],
   "source": [
    "wwm.make_docs_dicts(inf)\n",
    "wwm.form_card2topic(inf)\n",
    "wwm.get_topic2rubric(inf)\n",
    "wwm.measure_accuracy_on_test(inf)\n",
    "print(inf.keys())"
   ]
  },
  {
   "cell_type": "code",
   "execution_count": null,
   "metadata": {
    "scrolled": true
   },
   "outputs": [],
   "source": [
    "wwm.get_answers_on_castom_advanced(inf)"
   ]
  },
  {
   "cell_type": "code",
   "execution_count": null,
   "metadata": {},
   "outputs": [],
   "source": [
    "inf_weigth_01 = {}\n",
    "inf_weigth_01['exp_name'] = 'weight_1_0_2_3'\n",
    "inf_weigth_01['test_size'] = 0.1\n",
    "inf_weigth_01['num_collection_passes'] = 15\n",
    "inf_weigth_01['topic_number'] = 750\n",
    "inf_weigth_01['data_path'] = \"service_cards_tokenised_remont_only\"\n",
    "\n",
    "inf_weigth_01['docs'] = data_preparing.read_and_prepared(inf_weigth_01['data_path'])\n",
    "inf_weigth_01['path_train'], inf_weigth_01['path_test'] = data_preparing.form_test_train_set(docs=inf_weigth_01['docs'], name=inf_weigth_01['exp_name'], test_size=inf_weigth_01['test_size'])\n",
    "inf_weigth_01['path_castom'] = data_preparing.form_castom_set(inf_weigth_01['docs'], name=inf_weigth_01['exp_name'])\n",
    "inf_weigth_01['model'], inf_weigth_01['theta_train'] = artm_model.create_and_learn_PLSA_class_ids_weigth(\n",
    "                                                            inf_weigth_01['path_train'], \n",
    "                                                            topic_number=inf_weigth_01['topic_number'], \n",
    "                                                            num_collection_passes=inf_weigth_01['num_collection_passes'], \n",
    "                                                            weigths=[1., 0., 2., 3.]\n",
    "                                                         )\n",
    "\n",
    "inf_weigth_01['theta_test'] = wwm.get_theta_from_vw(inf_weigth_01, inf_weigth_01['path_test'])\n",
    "inf_weigth_01['theta_castom'] = wwm.get_theta_from_vw(inf_weigth_01, inf_weigth_01['path_castom'])\n",
    "clear_output(True)\n",
    "\n",
    "wwm.make_docs_dicts(inf_weigth_01)\n",
    "wwm.form_card2topic(inf_weigth_01)\n",
    "wwm.get_topic2rubric(inf_weigth_01)\n",
    "wwm.measure_accuracy_on_test(inf_weigth_01)"
   ]
  },
  {
   "cell_type": "code",
   "execution_count": null,
   "metadata": {},
   "outputs": [],
   "source": [
    "inf_weigth_02 = {}\n",
    "inf_weigth_02['exp_name'] = 'weight_1_0_3_10'\n",
    "inf_weigth_02['test_size'] = 0.1\n",
    "inf_weigth_02['num_collection_passes'] = 15\n",
    "inf_weigth_02['topic_number'] = 750\n",
    "inf_weigth_02['data_path'] = \"service_cards_tokenised_remont_only\"\n",
    "\n",
    "inf_weigth_02['docs'] = data_preparing.read_and_prepared(inf_weigth_02['data_path'])\n",
    "inf_weigth_02['path_train'], inf_weigth_02['path_test'] = data_preparing.form_test_train_set(docs=inf_weigth_02['docs'], name=inf_weigth_02['exp_name'], test_size=inf_weigth_02['test_size'])\n",
    "inf_weigth_02['path_castom'] = data_preparing.form_castom_set(inf_weigth_02['docs'], name=inf_weigth_02['exp_name'])\n",
    "inf_weigth_02['model'], inf_weigth_02['theta_train'] = artm_model.create_and_learn_PLSA_class_ids_weigth(\n",
    "                                                            inf_weigth_02['path_train'], \n",
    "                                                            topic_number=inf_weigth_02['topic_number'], \n",
    "                                                            num_collection_passes=inf_weigth_02['num_collection_passes'], \n",
    "                                                            weigths=[1., 0., 3., 10.]\n",
    "                                                         )\n",
    "\n",
    "inf_weigth_02['theta_test'] = wwm.get_theta_from_vw(inf_weigth_02, inf_weigth_02['path_test'])\n",
    "inf_weigth_02['theta_castom'] = wwm.get_theta_from_vw(inf_weigth_02, inf_weigth_02['path_castom'])\n",
    "clear_output(True)\n",
    "\n",
    "wwm.make_docs_dicts(inf_weigth_02)\n",
    "wwm.form_card2topic(inf_weigth_02)\n",
    "wwm.get_topic2rubric(inf_weigth_02)\n",
    "wwm.measure_accuracy_on_test(inf_weigth_02)"
   ]
  },
  {
   "cell_type": "code",
   "execution_count": null,
   "metadata": {},
   "outputs": [],
   "source": [
    "inf_weigth_03 = {}\n",
    "inf_weigth_03['exp_name'] = 'weight_1_0_10_50'\n",
    "inf_weigth_03['test_size'] = 0.1\n",
    "inf_weigth_03['num_collection_passes'] = 15\n",
    "inf_weigth_03['topic_number'] = 750\n",
    "inf_weigth_03['data_path'] = \"service_cards_tokenised_remont_only\"\n",
    "\n",
    "inf_weigth_03['docs'] = data_preparing.read_and_prepared(inf_weigth_03['data_path'])\n",
    "inf_weigth_03['path_train'], inf_weigth_03['path_test'] = data_preparing.form_test_train_set(docs=inf_weigth_03['docs'], name=inf_weigth_03['exp_name'], test_size=inf_weigth_03['test_size'])\n",
    "inf_weigth_03['path_castom'] = data_preparing.form_castom_set(inf_weigth_03['docs'], name=inf_weigth_03['exp_name'])\n",
    "inf_weigth_03['model'], inf_weigth_03['theta_train'] = artm_model.create_and_learn_PLSA_class_ids_weigth(\n",
    "                                                            inf_weigth_03['path_train'], \n",
    "                                                            topic_number=inf_weigth_03['topic_number'], \n",
    "                                                            num_collection_passes=inf_weigth_03['num_collection_passes'], \n",
    "                                                            weigths=[1., 0., 10., 50.]\n",
    "                                                         )\n",
    "\n",
    "inf_weigth_03['theta_test'] = wwm.get_theta_from_vw(inf_weigth_03, inf_weigth_03['path_test'])\n",
    "inf_weigth_03['theta_castom'] = wwm.get_theta_from_vw(inf_weigth_03, inf_weigth_03['path_castom'])\n",
    "clear_output(True)\n",
    "\n",
    "wwm.make_docs_dicts(inf_weigth_03)\n",
    "wwm.form_card2topic(inf_weigth_03)\n",
    "wwm.get_topic2rubric(inf_weigth_03)\n",
    "wwm.measure_accuracy_on_test(inf_weigth_03)"
   ]
  },
  {
   "cell_type": "code",
   "execution_count": 4,
   "metadata": {},
   "outputs": [
    {
     "name": "stderr",
     "output_type": "stream",
     "text": [
      "/Users/kozlinskii/Documents/study/mipt/nir/service_cards/data_preparing.py:30: SettingWithCopyWarning: \n",
      "A value is trying to be set on a copy of a slice from a DataFrame.\n",
      "Try using .loc[row_indexer,col_indexer] = value instead\n",
      "\n",
      "See the caveats in the documentation: https://pandas.pydata.org/pandas-docs/stable/user_guide/indexing.html#returning-a-view-versus-a-copy\n",
      "  docs['text'] = docs['name'].map(lambda x: x if pd.notnull(x) else \"\") + \" \" + docs['description'].map(\n",
      "/Users/kozlinskii/Documents/study/mipt/nir/service_cards/data_preparing.py:33: SettingWithCopyWarning: \n",
      "A value is trying to be set on a copy of a slice from a DataFrame.\n",
      "Try using .loc[row_indexer,col_indexer] = value instead\n",
      "\n",
      "See the caveats in the documentation: https://pandas.pydata.org/pandas-docs/stable/user_guide/indexing.html#returning-a-view-versus-a-copy\n",
      "  docs['first'] = docs['parent_id'].map(lambda x: x.split('/')[1] if pd.notnull(x) else None)\n",
      "/Users/kozlinskii/Documents/study/mipt/nir/service_cards/data_preparing.py:34: SettingWithCopyWarning: \n",
      "A value is trying to be set on a copy of a slice from a DataFrame\n",
      "\n",
      "See the caveats in the documentation: https://pandas.pydata.org/pandas-docs/stable/user_guide/indexing.html#returning-a-view-versus-a-copy\n",
      "  docs['first'][pd.isnull(docs['first'])] = docs['category_id'][pd.isnull(docs['first'])].map(\n",
      "/Users/kozlinskii/bigartm_py38/lib/python3.8/site-packages/pandas/core/generic.py:8766: SettingWithCopyWarning: \n",
      "A value is trying to be set on a copy of a slice from a DataFrame\n",
      "\n",
      "See the caveats in the documentation: https://pandas.pydata.org/pandas-docs/stable/user_guide/indexing.html#returning-a-view-versus-a-copy\n",
      "  self._update_inplace(new_data)\n",
      "/Users/kozlinskii/Documents/study/mipt/nir/service_cards/data_preparing.py:37: SettingWithCopyWarning: \n",
      "A value is trying to be set on a copy of a slice from a DataFrame.\n",
      "Try using .loc[row_indexer,col_indexer] = value instead\n",
      "\n",
      "See the caveats in the documentation: https://pandas.pydata.org/pandas-docs/stable/user_guide/indexing.html#returning-a-view-versus-a-copy\n",
      "  docs['second'] = docs['parent_id'].map(get_second)\n",
      "/Users/kozlinskii/Documents/study/mipt/nir/service_cards/data_preparing.py:38: SettingWithCopyWarning: \n",
      "A value is trying to be set on a copy of a slice from a DataFrame\n",
      "\n",
      "See the caveats in the documentation: https://pandas.pydata.org/pandas-docs/stable/user_guide/indexing.html#returning-a-view-versus-a-copy\n",
      "  docs['second'][docs['second'] == \"\"] = docs['category_id'][docs['second'] == \"\"].map(get_second)\n",
      "/Users/kozlinskii/Documents/study/mipt/nir/service_cards/data_preparing.py:40: SettingWithCopyWarning: \n",
      "A value is trying to be set on a copy of a slice from a DataFrame.\n",
      "Try using .loc[row_indexer,col_indexer] = value instead\n",
      "\n",
      "See the caveats in the documentation: https://pandas.pydata.org/pandas-docs/stable/user_guide/indexing.html#returning-a-view-versus-a-copy\n",
      "  docs['third'] = docs['parent_id'].map(get_third)\n",
      "/Users/kozlinskii/Documents/study/mipt/nir/service_cards/data_preparing.py:41: SettingWithCopyWarning: \n",
      "A value is trying to be set on a copy of a slice from a DataFrame\n",
      "\n",
      "See the caveats in the documentation: https://pandas.pydata.org/pandas-docs/stable/user_guide/indexing.html#returning-a-view-versus-a-copy\n",
      "  docs['third'][docs['third'] == \"\"] = docs['category_id'][docs['third'] == \"\"].map(get_third)\n"
     ]
    },
    {
     "ename": "KeyboardInterrupt",
     "evalue": "",
     "output_type": "error",
     "traceback": [
      "\u001b[0;31m---------------------------------------------------------------------------\u001b[0m",
      "\u001b[0;31mKeyboardInterrupt\u001b[0m                         Traceback (most recent call last)",
      "\u001b[0;32m<ipython-input-4-3358c0208037>\u001b[0m in \u001b[0;36m<module>\u001b[0;34m\u001b[0m\n\u001b[1;32m      6\u001b[0m \u001b[0minf_weigth_04\u001b[0m\u001b[0;34m[\u001b[0m\u001b[0;34m'data_path'\u001b[0m\u001b[0;34m]\u001b[0m \u001b[0;34m=\u001b[0m \u001b[0;34m\"service_cards_tokenised_remont_only\"\u001b[0m\u001b[0;34m\u001b[0m\u001b[0;34m\u001b[0m\u001b[0m\n\u001b[1;32m      7\u001b[0m \u001b[0;34m\u001b[0m\u001b[0m\n\u001b[0;32m----> 8\u001b[0;31m \u001b[0minf_weigth_04\u001b[0m\u001b[0;34m[\u001b[0m\u001b[0;34m'docs'\u001b[0m\u001b[0;34m]\u001b[0m \u001b[0;34m=\u001b[0m \u001b[0mdata_preparing\u001b[0m\u001b[0;34m.\u001b[0m\u001b[0mread_and_prepared\u001b[0m\u001b[0;34m(\u001b[0m\u001b[0minf_weigth_04\u001b[0m\u001b[0;34m[\u001b[0m\u001b[0;34m'data_path'\u001b[0m\u001b[0;34m]\u001b[0m\u001b[0;34m)\u001b[0m\u001b[0;34m\u001b[0m\u001b[0;34m\u001b[0m\u001b[0m\n\u001b[0m\u001b[1;32m      9\u001b[0m \u001b[0minf_weigth_04\u001b[0m\u001b[0;34m[\u001b[0m\u001b[0;34m'path_train'\u001b[0m\u001b[0;34m]\u001b[0m\u001b[0;34m,\u001b[0m \u001b[0minf_weigth_04\u001b[0m\u001b[0;34m[\u001b[0m\u001b[0;34m'path_test'\u001b[0m\u001b[0;34m]\u001b[0m \u001b[0;34m=\u001b[0m \u001b[0mdata_preparing\u001b[0m\u001b[0;34m.\u001b[0m\u001b[0mform_test_train_set\u001b[0m\u001b[0;34m(\u001b[0m\u001b[0mdocs\u001b[0m\u001b[0;34m=\u001b[0m\u001b[0minf_weigth_04\u001b[0m\u001b[0;34m[\u001b[0m\u001b[0;34m'docs'\u001b[0m\u001b[0;34m]\u001b[0m\u001b[0;34m,\u001b[0m \u001b[0mname\u001b[0m\u001b[0;34m=\u001b[0m\u001b[0minf_weigth_04\u001b[0m\u001b[0;34m[\u001b[0m\u001b[0;34m'exp_name'\u001b[0m\u001b[0;34m]\u001b[0m\u001b[0;34m,\u001b[0m \u001b[0mtest_size\u001b[0m\u001b[0;34m=\u001b[0m\u001b[0minf_weigth_04\u001b[0m\u001b[0;34m[\u001b[0m\u001b[0;34m'test_size'\u001b[0m\u001b[0;34m]\u001b[0m\u001b[0;34m)\u001b[0m\u001b[0;34m\u001b[0m\u001b[0;34m\u001b[0m\u001b[0m\n\u001b[1;32m     10\u001b[0m \u001b[0minf_weigth_04\u001b[0m\u001b[0;34m[\u001b[0m\u001b[0;34m'path_castom'\u001b[0m\u001b[0;34m]\u001b[0m \u001b[0;34m=\u001b[0m \u001b[0mdata_preparing\u001b[0m\u001b[0;34m.\u001b[0m\u001b[0mform_castom_set\u001b[0m\u001b[0;34m(\u001b[0m\u001b[0minf_weigth_04\u001b[0m\u001b[0;34m[\u001b[0m\u001b[0;34m'docs'\u001b[0m\u001b[0;34m]\u001b[0m\u001b[0;34m,\u001b[0m \u001b[0mname\u001b[0m\u001b[0;34m=\u001b[0m\u001b[0minf_weigth_04\u001b[0m\u001b[0;34m[\u001b[0m\u001b[0;34m'exp_name'\u001b[0m\u001b[0;34m]\u001b[0m\u001b[0;34m)\u001b[0m\u001b[0;34m\u001b[0m\u001b[0;34m\u001b[0m\u001b[0m\n",
      "\u001b[0;32m~/Documents/study/mipt/nir/service_cards/data_preparing.py\u001b[0m in \u001b[0;36mread_and_prepared\u001b[0;34m(name)\u001b[0m\n\u001b[1;32m     45\u001b[0m     \u001b[0mdocs\u001b[0m \u001b[0;34m=\u001b[0m \u001b[0mdocs\u001b[0m\u001b[0;34m[\u001b[0m\u001b[0mdocs\u001b[0m\u001b[0;34m[\u001b[0m\u001b[0;34m'first'\u001b[0m\u001b[0;34m]\u001b[0m \u001b[0;34m==\u001b[0m \u001b[0;34m\"remont-i-stroitel_stvo\"\u001b[0m\u001b[0;34m]\u001b[0m\u001b[0;34m\u001b[0m\u001b[0;34m\u001b[0m\u001b[0m\n\u001b[1;32m     46\u001b[0m \u001b[0;34m\u001b[0m\u001b[0m\n\u001b[0;32m---> 47\u001b[0;31m     \u001b[0mdocs\u001b[0m\u001b[0;34m.\u001b[0m\u001b[0mto_csv\u001b[0m\u001b[0;34m(\u001b[0m\u001b[0;34m\"docs_csv\"\u001b[0m \u001b[0;34m+\u001b[0m \u001b[0mname\u001b[0m \u001b[0;34m+\u001b[0m \u001b[0;34m\".csv\"\u001b[0m\u001b[0;34m)\u001b[0m\u001b[0;34m\u001b[0m\u001b[0;34m\u001b[0m\u001b[0m\n\u001b[0m\u001b[1;32m     48\u001b[0m \u001b[0;34m\u001b[0m\u001b[0m\n\u001b[1;32m     49\u001b[0m     \u001b[0;32mreturn\u001b[0m \u001b[0mdocs\u001b[0m\u001b[0;34m\u001b[0m\u001b[0;34m\u001b[0m\u001b[0m\n",
      "\u001b[0;32m~/bigartm_py38/lib/python3.8/site-packages/pandas/core/generic.py\u001b[0m in \u001b[0;36mto_csv\u001b[0;34m(self, path_or_buf, sep, na_rep, float_format, columns, header, index, index_label, mode, encoding, compression, quoting, quotechar, line_terminator, chunksize, date_format, doublequote, escapechar, decimal)\u001b[0m\n\u001b[1;32m   3201\u001b[0m             \u001b[0mdecimal\u001b[0m\u001b[0;34m=\u001b[0m\u001b[0mdecimal\u001b[0m\u001b[0;34m,\u001b[0m\u001b[0;34m\u001b[0m\u001b[0;34m\u001b[0m\u001b[0m\n\u001b[1;32m   3202\u001b[0m         )\n\u001b[0;32m-> 3203\u001b[0;31m         \u001b[0mformatter\u001b[0m\u001b[0;34m.\u001b[0m\u001b[0msave\u001b[0m\u001b[0;34m(\u001b[0m\u001b[0;34m)\u001b[0m\u001b[0;34m\u001b[0m\u001b[0;34m\u001b[0m\u001b[0m\n\u001b[0m\u001b[1;32m   3204\u001b[0m \u001b[0;34m\u001b[0m\u001b[0m\n\u001b[1;32m   3205\u001b[0m         \u001b[0;32mif\u001b[0m \u001b[0mpath_or_buf\u001b[0m \u001b[0;32mis\u001b[0m \u001b[0;32mNone\u001b[0m\u001b[0;34m:\u001b[0m\u001b[0;34m\u001b[0m\u001b[0;34m\u001b[0m\u001b[0m\n",
      "\u001b[0;32m~/bigartm_py38/lib/python3.8/site-packages/pandas/io/formats/csvs.py\u001b[0m in \u001b[0;36msave\u001b[0;34m(self)\u001b[0m\n\u001b[1;32m    202\u001b[0m             )\n\u001b[1;32m    203\u001b[0m \u001b[0;34m\u001b[0m\u001b[0m\n\u001b[0;32m--> 204\u001b[0;31m             \u001b[0mself\u001b[0m\u001b[0;34m.\u001b[0m\u001b[0m_save\u001b[0m\u001b[0;34m(\u001b[0m\u001b[0;34m)\u001b[0m\u001b[0;34m\u001b[0m\u001b[0;34m\u001b[0m\u001b[0m\n\u001b[0m\u001b[1;32m    205\u001b[0m \u001b[0;34m\u001b[0m\u001b[0m\n\u001b[1;32m    206\u001b[0m         \u001b[0;32mfinally\u001b[0m\u001b[0;34m:\u001b[0m\u001b[0;34m\u001b[0m\u001b[0;34m\u001b[0m\u001b[0m\n",
      "\u001b[0;32m~/bigartm_py38/lib/python3.8/site-packages/pandas/io/formats/csvs.py\u001b[0m in \u001b[0;36m_save\u001b[0;34m(self)\u001b[0m\n\u001b[1;32m    321\u001b[0m                 \u001b[0;32mbreak\u001b[0m\u001b[0;34m\u001b[0m\u001b[0;34m\u001b[0m\u001b[0m\n\u001b[1;32m    322\u001b[0m \u001b[0;34m\u001b[0m\u001b[0m\n\u001b[0;32m--> 323\u001b[0;31m             \u001b[0mself\u001b[0m\u001b[0;34m.\u001b[0m\u001b[0m_save_chunk\u001b[0m\u001b[0;34m(\u001b[0m\u001b[0mstart_i\u001b[0m\u001b[0;34m,\u001b[0m \u001b[0mend_i\u001b[0m\u001b[0;34m)\u001b[0m\u001b[0;34m\u001b[0m\u001b[0;34m\u001b[0m\u001b[0m\n\u001b[0m\u001b[1;32m    324\u001b[0m \u001b[0;34m\u001b[0m\u001b[0m\n\u001b[1;32m    325\u001b[0m     \u001b[0;32mdef\u001b[0m \u001b[0m_save_chunk\u001b[0m\u001b[0;34m(\u001b[0m\u001b[0mself\u001b[0m\u001b[0;34m,\u001b[0m \u001b[0mstart_i\u001b[0m\u001b[0;34m:\u001b[0m \u001b[0mint\u001b[0m\u001b[0;34m,\u001b[0m \u001b[0mend_i\u001b[0m\u001b[0;34m:\u001b[0m \u001b[0mint\u001b[0m\u001b[0;34m)\u001b[0m \u001b[0;34m->\u001b[0m \u001b[0;32mNone\u001b[0m\u001b[0;34m:\u001b[0m\u001b[0;34m\u001b[0m\u001b[0;34m\u001b[0m\u001b[0m\n",
      "\u001b[0;32m~/bigartm_py38/lib/python3.8/site-packages/pandas/io/formats/csvs.py\u001b[0m in \u001b[0;36m_save_chunk\u001b[0;34m(self, start_i, end_i)\u001b[0m\n\u001b[1;32m    352\u001b[0m         )\n\u001b[1;32m    353\u001b[0m \u001b[0;34m\u001b[0m\u001b[0m\n\u001b[0;32m--> 354\u001b[0;31m         \u001b[0mlibwriters\u001b[0m\u001b[0;34m.\u001b[0m\u001b[0mwrite_csv_rows\u001b[0m\u001b[0;34m(\u001b[0m\u001b[0mself\u001b[0m\u001b[0;34m.\u001b[0m\u001b[0mdata\u001b[0m\u001b[0;34m,\u001b[0m \u001b[0mix\u001b[0m\u001b[0;34m,\u001b[0m \u001b[0mself\u001b[0m\u001b[0;34m.\u001b[0m\u001b[0mnlevels\u001b[0m\u001b[0;34m,\u001b[0m \u001b[0mself\u001b[0m\u001b[0;34m.\u001b[0m\u001b[0mcols\u001b[0m\u001b[0;34m,\u001b[0m \u001b[0mself\u001b[0m\u001b[0;34m.\u001b[0m\u001b[0mwriter\u001b[0m\u001b[0;34m)\u001b[0m\u001b[0;34m\u001b[0m\u001b[0;34m\u001b[0m\u001b[0m\n\u001b[0m",
      "\u001b[0;32mpandas/_libs/writers.pyx\u001b[0m in \u001b[0;36mpandas._libs.writers.write_csv_rows\u001b[0;34m()\u001b[0m\n",
      "\u001b[0;31mKeyboardInterrupt\u001b[0m: "
     ]
    }
   ],
   "source": [
    "inf_weigth_04 = {}\n",
    "inf_weigth_04['exp_name'] = 'weight_1_0_50_250'\n",
    "inf_weigth_04['test_size'] = 0.1\n",
    "inf_weigth_04['num_collection_passes'] = 15\n",
    "inf_weigth_04['topic_number'] = 750\n",
    "inf_weigth_04['data_path'] = \"service_cards_tokenised_remont_only\"\n",
    "\n",
    "inf_weigth_04['docs'] = data_preparing.read_and_prepared(inf_weigth_04['data_path'])\n",
    "inf_weigth_04['path_train'], inf_weigth_04['path_test'] = data_preparing.form_test_train_set(docs=inf_weigth_04['docs'], name=inf_weigth_04['exp_name'], test_size=inf_weigth_04['test_size'])\n",
    "inf_weigth_04['path_castom'] = data_preparing.form_castom_set(inf_weigth_04['docs'], name=inf_weigth_04['exp_name'])\n",
    "inf_weigth_04['model'], inf_weigth_04['theta_train'] = artm_model.create_and_learn_PLSA_class_ids_weigth(\n",
    "                                                            inf_weigth_04['path_train'], \n",
    "                                                            topic_number=inf_weigth_04['topic_number'], \n",
    "                                                            num_collection_passes=inf_weigth_04['num_collection_passes'], \n",
    "                                                            weigths=[1., 0., 50., 250.]\n",
    "                                                         )\n",
    "\n",
    "inf_weigth_04['theta_test'] = wwm.get_theta_from_vw(inf_weigth_04, inf_weigth_04['path_test'])\n",
    "inf_weigth_04['theta_castom'] = wwm.get_theta_from_vw(inf_weigth_04, inf_weigth_04['path_castom'])\n",
    "clear_output(True)\n",
    "\n",
    "wwm.make_docs_dicts(inf_weigth_04)\n",
    "wwm.form_card2topic(inf_weigth_04)\n",
    "wwm.get_topic2rubric(inf_weigth_04)\n",
    "wwm.measure_accuracy_on_test(inf_weigth_04)"
   ]
  },
  {
   "cell_type": "code",
   "execution_count": null,
   "metadata": {},
   "outputs": [],
   "source": [
    "inf_weigth_05 = {}\n",
    "inf_weigth_05['exp_name'] = 'weight_1_0_50_50'\n",
    "inf_weigth_05['test_size'] = 0.1\n",
    "inf_weigth_05['num_collection_passes'] = 15\n",
    "inf_weigth_05['topic_number'] = 750\n",
    "inf_weigth_05['data_path'] = \"service_cards_tokenised_remont_only\"\n",
    "\n",
    "inf_weigth_05['docs'] = data_preparing.read_and_prepared(inf_weigth_05['data_path'])\n",
    "inf_weigth_05['path_train'], inf_weigth_05['path_test'] = data_preparing.form_test_train_set(docs=inf_weigth_05['docs'], name=inf_weigth_05['exp_name'], test_size=inf_weigth_05['test_size'])\n",
    "inf_weigth_05['path_castom'] = data_preparing.form_castom_set(inf_weigth_05['docs'], name=inf_weigth_05['exp_name'])\n",
    "inf_weigth_05['model'], inf_weigth_05['theta_train'] = artm_model.create_and_learn_PLSA_class_ids_weigth(\n",
    "                                                            name=inf_weigth_05['path_train'], \n",
    "                                                            topic_number=inf_weigth_05['topic_number'], \n",
    "                                                            num_collection_passes=inf_weigth_05['num_collection_passes'], \n",
    "                                                            weigths=[1.0, 0.0, 50.0, 50.0]\n",
    "                                                         )\n",
    "\n",
    "inf_weigth_05['theta_test'] = wwm.get_theta_from_vw(inf_weigth_05, inf_weigth_05['path_test'])\n",
    "inf_weigth_05['theta_castom'] = wwm.get_theta_from_vw(inf_weigth_05, inf_weigth_05['path_castom'])\n",
    "clear_output(True)\n",
    "\n",
    "wwm.make_docs_dicts(inf_weigth_05)\n",
    "wwm.form_card2topic(inf_weigth_05)\n",
    "wwm.get_topic2rubric(inf_weigth_05)\n",
    "wwm.measure_accuracy_on_test(inf_weigth_05)"
   ]
  },
  {
   "cell_type": "code",
   "execution_count": null,
   "metadata": {},
   "outputs": [],
   "source": []
  },
  {
   "cell_type": "code",
   "execution_count": null,
   "metadata": {},
   "outputs": [],
   "source": [
    "def get_theta_from_vw_third(inf, path):\n",
    "    batch_vectorizer = None\n",
    "    batch_vectorizer = artm.BatchVectorizer(data_path='./' + path,\n",
    "                                                  data_format='vowpal_wabbit',\n",
    "                                                  target_folder='folder' + path)\n",
    "    return inf['model'].transform(batch_vectorizer=batch_vectorizer, predict_class_id='@third')"
   ]
  },
  {
   "cell_type": "code",
   "execution_count": null,
   "metadata": {},
   "outputs": [],
   "source": [
    "theta_castom_third = get_theta_from_vw_third(inf_weigth_04, inf_weigth_04['path_castom'])"
   ]
  },
  {
   "cell_type": "code",
   "execution_count": null,
   "metadata": {},
   "outputs": [],
   "source": [
    "theta_castom_third.shape"
   ]
  },
  {
   "cell_type": "code",
   "execution_count": null,
   "metadata": {},
   "outputs": [],
   "source": [
    "#theta_castom_third = get_theta_from_vw_third(inf_weigth_04, inf_weigth_04['@third'])"
   ]
  },
  {
   "cell_type": "code",
   "execution_count": null,
   "metadata": {},
   "outputs": [],
   "source": [
    "#theta_castom_third.shape"
   ]
  },
  {
   "cell_type": "code",
   "execution_count": null,
   "metadata": {},
   "outputs": [],
   "source": []
  }
 ],
 "metadata": {
  "kernelspec": {
   "display_name": "bigartm_py38",
   "language": "python",
   "name": "bigartm_py38"
  },
  "language_info": {
   "codemirror_mode": {
    "name": "ipython",
    "version": 3
   },
   "file_extension": ".py",
   "mimetype": "text/x-python",
   "name": "python",
   "nbconvert_exporter": "python",
   "pygments_lexer": "ipython3",
   "version": "3.8.1"
  }
 },
 "nbformat": 4,
 "nbformat_minor": 2
}
