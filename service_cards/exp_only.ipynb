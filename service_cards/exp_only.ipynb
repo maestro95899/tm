{
 "cells": [
  {
   "cell_type": "code",
   "execution_count": 1,
   "metadata": {},
   "outputs": [
    {
     "data": {
      "text/html": [
       "<style>.container { width:100% !important; }</style>"
      ],
      "text/plain": [
       "<IPython.core.display.HTML object>"
      ]
     },
     "metadata": {},
     "output_type": "display_data"
    }
   ],
   "source": [
    "from IPython.core.display import display, HTML \n",
    "display(HTML(\"<style>.container { width:100% !important; }</style>\"))"
   ]
  },
  {
   "cell_type": "code",
   "execution_count": 4,
   "metadata": {},
   "outputs": [
    {
     "name": "stdout",
     "output_type": "stream",
     "text": [
      "artm.version() 0.9.2\n",
      "artm.version() 0.9.2\n"
     ]
    }
   ],
   "source": [
    "import importlib # использую для перегрузки библиотек\n",
    "import time\n",
    "from IPython.display import clear_output\n",
    "import random\n",
    "\n",
    "import pandas as pd\n",
    "import json\n",
    "import numpy as np\n",
    "import artm\n",
    "\n",
    "import data_preparing\n",
    "import artm_model\n",
    "import work_with_model as wwm\n",
    "\n",
    "importlib.reload(data_preparing)\n",
    "importlib.reload(artm_model)\n",
    "importlib.reload(wwm)\n",
    "\n",
    "clear_output(True)"
   ]
  },
  {
   "cell_type": "code",
   "execution_count": null,
   "metadata": {},
   "outputs": [],
   "source": [
    "inf = {}\n",
    "inf['exp_name'] = 'simple'\n",
    "inf['test_size'] = 0.1\n",
    "inf['num_collection_passes'] = 15\n",
    "inf['topic_number'] = 750\n",
    "inf['data_path'] = \"service_cards_tokenised_remont_only\""
   ]
  },
  {
   "cell_type": "code",
   "execution_count": 15,
   "metadata": {},
   "outputs": [
    {
     "name": "stderr",
     "output_type": "stream",
     "text": [
      "/Users/kozlinskii/Documents/study/mipt/nir/service_cards/data_preparing.py:55: SettingWithCopyWarning: \n",
      "A value is trying to be set on a copy of a slice from a DataFrame.\n",
      "Try using .loc[row_indexer,col_indexer] = value instead\n",
      "\n",
      "See the caveats in the documentation: https://pandas.pydata.org/pandas-docs/stable/user_guide/indexing.html#returning-a-view-versus-a-copy\n",
      "  rich_docs['rand'] = rich_docs['card_id'].map(lambda x: random.uniform(0, 1))\n"
     ]
    }
   ],
   "source": [
    "inf['docs'] = data_preparing.read_and_prepared(inf['data_path'])\n",
    "inf['path_train'], inf['path_test'] = data_preparing.form_test_train_set(docs=inf['docs'], name=inf['exp_name'], test_size=inf['test_size'])\n",
    "inf['path_castom'] = data_preparing.form_castom_set(inf['docs'], name=inf['exp_name'])\n",
    "inf['model'], inf['theta_train'] = artm_model.create_and_learn_PLSA(inf['path_train'], topic_number=inf['topic_number'], num_collection_passes=inf['num_collection_passes'])\n",
    "\n",
    "inf['theta_test'] = wwm.get_theta_from_vw(inf, inf['path_test'])\n",
    "inf['theta_castom'] = wwm.get_theta_from_vw(inf, inf['path_castom'])\n",
    "clear_output(True)"
   ]
  },
  {
   "cell_type": "code",
   "execution_count": 16,
   "metadata": {},
   "outputs": [
    {
     "name": "stdout",
     "output_type": "stream",
     "text": [
      "41071  /  66104 0.6213088466658598\n",
      "dict_keys(['exp_name', 'test_size', 'num_collection_passes', 'topic_number', 'data_path', 'docs', 'path_train', 'path_test', 'path_castom', 'model', 'theta_train', 'theta_test', 'theta_castom', 'card2rubric', 'card2name', 'card2text', 'card2topic_castom', 'card2topic_train', 'card2topic_test', 'card2topic', 'topic2rubric'])\n"
     ]
    }
   ],
   "source": [
    "wwm.make_docs_dicts(inf)\n",
    "wwm.form_card2topic(inf)\n",
    "wwm.get_topic2rubric(inf)\n",
    "wwm.measure_accuracy_on_test(inf)\n",
    "print(inf.keys())"
   ]
  },
  {
   "cell_type": "code",
   "execution_count": 17,
   "metadata": {
    "scrolled": true
   },
   "outputs": [
    {
     "name": "stdout",
     "output_type": "stream",
     "text": [
      "1  \n",
      "prediction: \t remont-i-stroitel_stvo/drugoe/restavrazia-vanny \n",
      " настоящий: \t  remont-i-stroitel_stvo/santehniceskie-raboty-i-otoplenie/ \n",
      " name:  установка душевого поддона акрил сталь \n",
      " установка душевого поддона акрил сталь  \n",
      "\n",
      "\n",
      "2  \n",
      "prediction: \t remont-i-stroitel_stvo/master-na-cas/sborka-mebeli \n",
      " настоящий: \t  remont-i-stroitel_stvo/mebel_/ \n",
      " name:  сборка офисной мебели \n",
      " сборка офисной мебели осуществляем сборку и разборку офисной мебели упаковку мебели подготовку мебели к переезду или хранению имеется огромный опыт по переезду офисов по 200 300 раб мест составление плана переезда строгое выполнение сроков проведения работ ремонт бу мебели для офиса хранение излишков офисной мебели на нашем складе \n",
      "\n",
      "\n",
      "3  \n",
      "prediction: \t remont-i-stroitel_stvo/okna-i-balkony/montaj-otkosov \n",
      " настоящий: \t  remont-i-stroitel_stvo/okna-i-balkony/ \n",
      " name:  очищение рамы очистителем kosmofen \n",
      " очищение рамы очистителем kosmofen 1 створчатое окно 2500 2 створчатое окно 3300 3 створчатое окно 4200 балконная группа 4500 хорошо очищает полирует и затирает мелкие царапинки \n",
      "\n",
      "\n",
      "4  \n",
      "prediction: \t remont-i-stroitel_stvo/potolki/montaj-natajnogo-potolka \n",
      " настоящий: \t  remont-i-stroitel_stvo/potolki/ \n",
      " name:  монтаж качественных натяжных потолков \n",
      " монтаж качественных натяжных потолков применяем эко материалы наша компания на рынке потолков более 10 лет работаем без предоплаты \n",
      "\n",
      "\n",
      "5  \n",
      "prediction: \t remont-i-stroitel_stvo/zemlanye-raboty/kopka-kolodza \n",
      " настоящий: \t  remont-i-stroitel_stvo/vodosnabjenie-i-kanalizazia/ \n",
      " name:  септики из жб колец водоотведение \n",
      " септики из жб колец водоотведение септики из жб колец водоотведение из дома дачи под ключ \n",
      "\n",
      "\n",
      "6  \n",
      "prediction: \t remont-i-stroitel_stvo/dveri-i-zamki/ustanovka-dvernogo-glazka \n",
      " настоящий: \t  remont-i-stroitel_stvo/poly-i-napol_nye-pokrytia/ \n",
      " name:  шумоизоляция пола \n",
      " шумоизоляция пола  \n",
      "\n",
      "\n",
      "7  \n",
      "prediction: \t remont-i-stroitel_stvo/remont-kvartir-i-domov/kapital_nyj-remont-kvartiry \n",
      " настоящий: \t  remont-i-stroitel_stvo/remont-kvartir-i-domov/ \n",
      " name:  дизайнерский ремонт квартир под ключ \n",
      " дизайнерский ремонт квартир под ключ дизайнерский ремонт квартир под ключ под ключ по доступной цене вызов на замер бесплатно звоните прямо сейчас \n",
      "\n",
      "\n",
      "8  \n",
      "prediction: \t remont-i-stroitel_stvo/krovel_nye-raboty/montaj-krovli \n",
      " настоящий: \t  remont-i-stroitel_stvo/krovel_nye-raboty/ \n",
      " name:  направляемая кровля \n",
      " направляемая кровля  \n",
      "\n",
      "\n",
      "9  \n",
      "prediction: \t remont-i-stroitel_stvo/potolki/montaj-natajnogo-potolka \n",
      " настоящий: \t  remont-i-stroitel_stvo/potolki/ \n",
      " name:  натяжные потолки парящие линии \n",
      " натяжные потолки парящие линии замкнутые парящие линии позволят создавать геометрические фигуры любых форм с помощью них можно подсветить ромб прямоугольник круг и другой предмет такие полосы также часто используются для декоративного зонирования пространства сложной формы линии эффектно смотрятся как на глянцевой поверхности так и матовой все зависит от индивидуальных предпочтений клиента устанавливается такое освещение в конструкцию перекрытия посредством специальной профильной системы с нишей для светодиодной ленты произвольный или сгруппированный монтаж парящих линий с применением монохромных и многоцветных диодных лент обеспечивает требуемый световой эффект зрительного деления пространства \n",
      "\n",
      "\n",
      "10  \n",
      "prediction: \t remont-i-stroitel_stvo/drugoe/montaj-vertikal_nyh-jaluzi \n",
      " настоящий: \t  remont-i-stroitel_stvo/dveri-i-zamki/ \n",
      " name:  вскрыть замок \n",
      " вскрыть замок  \n",
      "\n",
      "\n",
      "0  /  10 0.0\n"
     ]
    }
   ],
   "source": [
    "wwm.get_answers_on_castom_advanced(inf)"
   ]
  },
  {
   "cell_type": "code",
   "execution_count": 18,
   "metadata": {},
   "outputs": [
    {
     "name": "stdout",
     "output_type": "stream",
     "text": [
      "42898  /  66104 0.6489471136391142\n"
     ]
    }
   ],
   "source": [
    "inf_weigth_01 = {}\n",
    "inf_weigth_01['exp_name'] = 'weight_1_0_2_3'\n",
    "inf_weigth_01['test_size'] = 0.1\n",
    "inf_weigth_01['num_collection_passes'] = 15\n",
    "inf_weigth_01['topic_number'] = 750\n",
    "inf_weigth_01['data_path'] = \"service_cards_tokenised_remont_only\"\n",
    "\n",
    "inf_weigth_01['docs'] = data_preparing.read_and_prepared(inf_weigth_01['data_path'])\n",
    "inf_weigth_01['path_train'], inf_weigth_01['path_test'] = data_preparing.form_test_train_set(docs=inf_weigth_01['docs'], name=inf_weigth_01['exp_name'], test_size=inf_weigth_01['test_size'])\n",
    "inf_weigth_01['path_castom'] = data_preparing.form_castom_set(inf_weigth_01['docs'], name=inf_weigth_01['exp_name'])\n",
    "inf_weigth_01['model'], inf_weigth_01['theta_train'] = artm_model.create_and_learn_PLSA_class_ids_weigth(\n",
    "                                                            inf_weigth_01['path_train'], \n",
    "                                                            topic_number=inf_weigth_01['topic_number'], \n",
    "                                                            num_collection_passes=inf_weigth_01['num_collection_passes'], \n",
    "                                                            weigths=[1., 0., 2., 3.]\n",
    "                                                         )\n",
    "\n",
    "inf_weigth_01['theta_test'] = wwm.get_theta_from_vw(inf_weigth_01, inf_weigth_01['path_test'])\n",
    "inf_weigth_01['theta_castom'] = wwm.get_theta_from_vw(inf_weigth_01, inf_weigth_01['path_castom'])\n",
    "clear_output(True)\n",
    "\n",
    "wwm.make_docs_dicts(inf_weigth_01)\n",
    "wwm.form_card2topic(inf_weigth_01)\n",
    "wwm.get_topic2rubric(inf_weigth_01)\n",
    "wwm.measure_accuracy_on_test(inf_weigth_01)"
   ]
  },
  {
   "cell_type": "code",
   "execution_count": 19,
   "metadata": {},
   "outputs": [
    {
     "name": "stdout",
     "output_type": "stream",
     "text": [
      "47035  /  66104 0.7115303158659083\n"
     ]
    }
   ],
   "source": [
    "inf_weigth_02 = {}\n",
    "inf_weigth_02['exp_name'] = 'weight_1_0_3_10'\n",
    "inf_weigth_02['test_size'] = 0.1\n",
    "inf_weigth_02['num_collection_passes'] = 15\n",
    "inf_weigth_02['topic_number'] = 750\n",
    "inf_weigth_02['data_path'] = \"service_cards_tokenised_remont_only\"\n",
    "\n",
    "inf_weigth_02['docs'] = data_preparing.read_and_prepared(inf_weigth_02['data_path'])\n",
    "inf_weigth_02['path_train'], inf_weigth_02['path_test'] = data_preparing.form_test_train_set(docs=inf_weigth_02['docs'], name=inf_weigth_02['exp_name'], test_size=inf_weigth_02['test_size'])\n",
    "inf_weigth_02['path_castom'] = data_preparing.form_castom_set(inf_weigth_02['docs'], name=inf_weigth_02['exp_name'])\n",
    "inf_weigth_02['model'], inf_weigth_02['theta_train'] = artm_model.create_and_learn_PLSA_class_ids_weigth(\n",
    "                                                            inf_weigth_02['path_train'], \n",
    "                                                            topic_number=inf_weigth_02['topic_number'], \n",
    "                                                            num_collection_passes=inf_weigth_02['num_collection_passes'], \n",
    "                                                            weigths=[1., 0., 3., 10.]\n",
    "                                                         )\n",
    "\n",
    "inf_weigth_02['theta_test'] = wwm.get_theta_from_vw(inf_weigth_02, inf_weigth_02['path_test'])\n",
    "inf_weigth_02['theta_castom'] = wwm.get_theta_from_vw(inf_weigth_02, inf_weigth_02['path_castom'])\n",
    "clear_output(True)\n",
    "\n",
    "wwm.make_docs_dicts(inf_weigth_02)\n",
    "wwm.form_card2topic(inf_weigth_02)\n",
    "wwm.get_topic2rubric(inf_weigth_02)\n",
    "wwm.measure_accuracy_on_test(inf_weigth_02)"
   ]
  },
  {
   "cell_type": "code",
   "execution_count": 20,
   "metadata": {},
   "outputs": [
    {
     "name": "stdout",
     "output_type": "stream",
     "text": [
      "50348  /  66104 0.76164831175118\n"
     ]
    }
   ],
   "source": [
    "inf_weigth_03 = {}\n",
    "inf_weigth_03['exp_name'] = 'weight_1_0_10_50'\n",
    "inf_weigth_03['test_size'] = 0.1\n",
    "inf_weigth_03['num_collection_passes'] = 15\n",
    "inf_weigth_03['topic_number'] = 750\n",
    "inf_weigth_03['data_path'] = \"service_cards_tokenised_remont_only\"\n",
    "\n",
    "inf_weigth_03['docs'] = data_preparing.read_and_prepared(inf_weigth_03['data_path'])\n",
    "inf_weigth_03['path_train'], inf_weigth_03['path_test'] = data_preparing.form_test_train_set(docs=inf_weigth_03['docs'], name=inf_weigth_03['exp_name'], test_size=inf_weigth_03['test_size'])\n",
    "inf_weigth_03['path_castom'] = data_preparing.form_castom_set(inf_weigth_03['docs'], name=inf_weigth_03['exp_name'])\n",
    "inf_weigth_03['model'], inf_weigth_03['theta_train'] = artm_model.create_and_learn_PLSA_class_ids_weigth(\n",
    "                                                            inf_weigth_03['path_train'], \n",
    "                                                            topic_number=inf_weigth_03['topic_number'], \n",
    "                                                            num_collection_passes=inf_weigth_03['num_collection_passes'], \n",
    "                                                            weigths=[1., 0., 10., 50.]\n",
    "                                                         )\n",
    "\n",
    "inf_weigth_03['theta_test'] = wwm.get_theta_from_vw(inf_weigth_03, inf_weigth_03['path_test'])\n",
    "inf_weigth_03['theta_castom'] = wwm.get_theta_from_vw(inf_weigth_03, inf_weigth_03['path_castom'])\n",
    "clear_output(True)\n",
    "\n",
    "wwm.make_docs_dicts(inf_weigth_03)\n",
    "wwm.form_card2topic(inf_weigth_03)\n",
    "wwm.get_topic2rubric(inf_weigth_03)\n",
    "wwm.measure_accuracy_on_test(inf_weigth_03)"
   ]
  },
  {
   "cell_type": "code",
   "execution_count": null,
   "metadata": {},
   "outputs": [],
   "source": [
    "inf_weigth_03 = {}\n",
    "inf_weigth_03['exp_name'] = 'weight_1_0_10_50'\n",
    "inf_weigth_03['test_size'] = 0.1\n",
    "inf_weigth_03['num_collection_passes'] = 15\n",
    "inf_weigth_03['topic_number'] = 750\n",
    "inf_weigth_03['data_path'] = \"service_cards_tokenised_remont_only\"\n",
    "\n",
    "inf_weigth_03['docs'] = data_preparing.read_and_prepared(inf_weigth_03['data_path'])\n",
    "inf_weigth_03['path_train'], inf_weigth_03['path_test'] = data_preparing.form_test_train_set(docs=inf_weigth_03['docs'], name=inf_weigth_03['exp_name'], test_size=inf_weigth_03['test_size'])\n",
    "inf_weigth_03['path_castom'] = data_preparing.form_castom_set(inf_weigth_03['docs'], name=inf_weigth_03['exp_name'])\n",
    "inf_weigth_03['model'], inf_weigth_03['theta_train'] = artm_model.create_and_learn_PLSA_class_ids_weigth(\n",
    "                                                            inf_weigth_03['path_train'], \n",
    "                                                            topic_number=inf_weigth_03['topic_number'], \n",
    "                                                            num_collection_passes=inf_weigth_03['num_collection_passes'], \n",
    "                                                            weigths=[1., 0., 10., 50.]\n",
    "                                                         )\n",
    "\n",
    "inf_weigth_03['theta_test'] = wwm.get_theta_from_vw(inf_weigth_03, inf_weigth_03['path_test'])\n",
    "inf_weigth_03['theta_castom'] = wwm.get_theta_from_vw(inf_weigth_03, inf_weigth_03['path_castom'])\n",
    "clear_output(True)\n",
    "\n",
    "wwm.make_docs_dicts(inf_weigth_03)\n",
    "wwm.form_card2topic(inf_weigth_03)\n",
    "wwm.get_topic2rubric(inf_weigth_03)\n",
    "#wwm.measure_accuracy_on_test(inf_weigth_03)\n",
    "wwm.make_prediction_by_p_cd(inf_weigth_03, mode='castom')\n",
    "inf_weigth_03['method_topic2rubric_card2rubric_castom'] = wwm.make_prediction_by_topic2rubric(inf_weigth_03, mode='castom')\n",
    "wwm.make_prediction_by_p_cd(inf_weigth_03, mode='test')\n",
    "inf_weigth_03['method_topic2rubric_card2rubric_test'] = wwm.make_prediction_by_topic2rubric(inf_weigth_03, mode='test')\n",
    "wwm.accuracy_on_test(inf_weigth_03, inf_weigth_03['method_topic2rubric_card2rubric_test'])\n",
    "wwm.accuracy_on_test(inf_weigth_03, inf_weigth_03['p_cd_card2rubric_test'])"
   ]
  },
  {
   "cell_type": "code",
   "execution_count": 71,
   "metadata": {},
   "outputs": [],
   "source": [
    "wwm.make_prediction_by_p_cd(inf_weigth_03, mode='castom')"
   ]
  },
  {
   "cell_type": "code",
   "execution_count": null,
   "metadata": {},
   "outputs": [],
   "source": [
    "wwm.make_prediction_by_p_cd(inf_weigth_03, mode='castom')\n",
    "wwm.make_prediction_by_p_cd(inf_weigth_03, mode='test')\n",
    "inf_weigth_03['method_topic2rubric_card2rubric_castom'] = wwm.make_prediction_by_topic2rubric(inf_weigth_03, mode='castom')\n",
    "inf_weigth_03['method_topic2rubric_card2rubric_test'] = wwm.make_prediction_by_topic2rubric(inf_weigth_03, mode='test')\n",
    "wwm.accuracy_on_test(inf_weigth_03, inf_weigth_03['p_cd_card2rubric_test'])\n",
    "wwm.accuracy_on_test(inf_weigth_03, inf_weigth_03['method_topic2rubric_card2rubric_test'])"
   ]
  },
  {
   "cell_type": "code",
   "execution_count": 81,
   "metadata": {},
   "outputs": [],
   "source": [
    "wwm.make_prediction_by_p_cd(inf_weigth_03, mode='test')"
   ]
  },
  {
   "cell_type": "code",
   "execution_count": 78,
   "metadata": {},
   "outputs": [],
   "source": [
    "inf_weigth_03['method_topic2rubric_card2rubric_castom'] = wwm.make_prediction_by_topic2rubric(inf_weigth_03, mode='castom')"
   ]
  },
  {
   "cell_type": "code",
   "execution_count": 79,
   "metadata": {},
   "outputs": [],
   "source": [
    "inf_weigth_03['method_topic2rubric_card2rubric_test'] = wwm.make_prediction_by_topic2rubric(inf_weigth_03, mode='test')"
   ]
  },
  {
   "cell_type": "code",
   "execution_count": 80,
   "metadata": {},
   "outputs": [
    {
     "name": "stdout",
     "output_type": "stream",
     "text": [
      "50348  /  66104 0.76164831175118\n"
     ]
    },
    {
     "data": {
      "text/plain": [
       "0.76164831175118"
      ]
     },
     "execution_count": 80,
     "metadata": {},
     "output_type": "execute_result"
    }
   ],
   "source": [
    "wwm.accuracy_on_test(inf_weigth_03, inf_weigth_03['method_topic2rubric_card2rubric_test'])"
   ]
  },
  {
   "cell_type": "code",
   "execution_count": 83,
   "metadata": {},
   "outputs": [
    {
     "name": "stdout",
     "output_type": "stream",
     "text": [
      "44105  /  66104 0.6672062205010287\n"
     ]
    },
    {
     "data": {
      "text/plain": [
       "0.6672062205010287"
      ]
     },
     "execution_count": 83,
     "metadata": {},
     "output_type": "execute_result"
    }
   ],
   "source": [
    "wwm.accuracy_on_test(inf_weigth_03, inf_weigth_03['p_cd_card2rubric_test'])"
   ]
  },
  {
   "cell_type": "code",
   "execution_count": 86,
   "metadata": {
    "scrolled": true
   },
   "outputs": [
    {
     "name": "stdout",
     "output_type": "stream",
     "text": [
      "1  \n",
      "prediction: \t remont-i-stroitel_stvo/proektirovanie-i-smety/proektirovanie-elektrosetej \n",
      " настоящий: \t  remont-i-stroitel_stvo/proektirovanie-i-smety/ \n",
      " name:  обучение и повышение квалификации сметчиков \n",
      " обучение и повышение квалификации сметчиков  \n",
      "\n",
      "\n",
      "2  \n",
      "prediction: \t remont-i-stroitel_stvo/ohrannye-sistemy-i-kontrol_-dostupa/ustanovka-sistem-kontrola-dostupa \n",
      " настоящий: \t  remont-i-stroitel_stvo/ohrannye-sistemy-i-kontrol_-dostupa/ \n",
      " name:  монтаж и настройка систем контроля доступа \n",
      " монтаж и настройка систем контроля доступа монтаж и настройка систем контроля доступа \n",
      "\n",
      "1\n",
      "3  \n",
      "prediction: \t remont-i-stroitel_stvo/mebel_/izgotovlenie-mebeli \n",
      " настоящий: \t  remont-i-stroitel_stvo/mebel_/ \n",
      " name:  прямая кухня на заказ \n",
      " прямая кухня на заказ изготовим прямые кухни на заказ по вашим размерам только надежные материалы с гарантией 12 мес классические и современные кухни фасады из лдсп мдф с различным покрытием пвх пластик акрил эмаль шпон фасады из массива столешницы из камня и лдсп в пластике комплектуем кухни бытовой техникой по выгодным ценам свое производство в рязани опыт работы 15 лет подробное описание каталог из 500 вариантов кухонь с фото на сайте замер и проектирование кухни бесплатно при заказе кухни в нашей компании кухня мдф в эмали модель 20 стиль классика размер помещения 12 кв м габариты кухни 3000 мм корпус лдсп фасад мдф в эмали рамочный фасад сборный патина стеновая панель мдф с фотопечатью albico sp 10 столешница пластик фурнитура blum ручки boyard бытовая техника zigmund shtain дополнительно подсветка рабочей поверхности и витрин доставка и монтаж входит в стоимость \n",
      "\n",
      "1\n",
      "4  \n",
      "prediction: \t remont-i-stroitel_stvo/potolki/montaj-natajnogo-potolka \n",
      " настоящий: \t  remont-i-stroitel_stvo/potolki/ \n",
      " name:  штукатурные работы \n",
      " штукатурные работы выравнивание потолков \n",
      "\n",
      "\n",
      "5  \n",
      "prediction: \t remont-i-stroitel_stvo/master-na-cas/master-na-vse-ruki \n",
      " настоящий: \t  remont-i-stroitel_stvo/master-na-cas/ \n",
      " name:  сантехник мастер екатеринбург инженер сантехник екатеринбург \n",
      " сантехник мастер екатеринбург инженер сантехник екатеринбург  \n",
      "\n",
      "\n",
      "6  \n",
      "prediction: \t remont-i-stroitel_stvo/svarocnye-raboty/elektriceskaa-dugovaa-svarka \n",
      " настоящий: \t  remont-i-stroitel_stvo/svarocnye-raboty/ \n",
      " name:  резка металла углошлифовальной машиной \n",
      " резка металла углошлифовальной машиной резка металла болгаркой наиболее простой способ обработки различных твердых материалов включая металлические заготовки с помощью этого инструмента зачищают и нарезают арматуру кругляк трубы и профиль различных видов \n",
      "\n",
      "\n",
      "7  \n",
      "prediction: \t remont-i-stroitel_stvo/potolki/montaj-natajnogo-potolka \n",
      " настоящий: \t  remont-i-stroitel_stvo/potolki/ \n",
      " name:  натяжные потолки \n",
      " натяжные потолки основным преимуществом натяжного потолка является относительная простота в монтаже выравнивание всей площади потолка в помещении за счет эластичности возможность установки встраиваемых светильников удобство в уходе за натяжным потолком а также преимущественный внешний вид в любом помещении и разнообразие расцветок \n",
      "\n",
      "1\n",
      "8  \n",
      "prediction: \t remont-i-stroitel_stvo/stekol_nye-uslugi/izgotovleniu-izdelij-iz-stekla \n",
      " настоящий: \t  remont-i-stroitel_stvo/stekol_nye-uslugi/ \n",
      " name:  изготовление стеклянных шторок для ванной \n",
      " изготовление стеклянных шторок для ванной изготовление стеклянных шторок и перегородок из закаленнного стекла флоат 8 мм цена за квадратный метр стекла \n",
      "\n",
      "1\n",
      "9  \n",
      "prediction: \t remont-i-stroitel_stvo/betonnye-raboty/ustrojstvo-betonnogo-fundamenta \n",
      " настоящий: \t  remont-i-stroitel_stvo/betonnye-raboty/ \n",
      " name:  бетон для веранды \n",
      " бетон для веранды аренда спецтехники в петергофе круглосуточно наша организация производит отгрузку строительных материалов и строительной техники для строительства плитных фундаментов картодромов цоколя \n",
      "\n",
      "1\n",
      "10  \n",
      "prediction: \t remont-i-stroitel_stvo/elektromontajnye-raboty/pereborka-susestvuusego-raspredelitel_nogo-ustrojstva \n",
      " настоящий: \t  remont-i-stroitel_stvo/elektromontajnye-raboty/ \n",
      " name:  расключение щитков \n",
      " расключение щитков  \n",
      "\n",
      "\n",
      "11  \n",
      "prediction: \t remont-i-stroitel_stvo/stroitel_stvo-domov-i-kottedjej/stroitel_stvo-doma-iz-betonnyh-blokov \n",
      " настоящий: \t  remont-i-stroitel_stvo/stroitel_stvo-domov-i-kottedjej/ \n",
      " name:  строительство комбинированных деревянных и стеклянных стен \n",
      " строительство комбинированных деревянных и стеклянных стен  \n",
      "\n",
      "\n",
      "12  \n",
      "prediction: \t remont-i-stroitel_stvo/vodosnabjenie-i-kanalizazia/prokladka-kanalizazionnyh-trub \n",
      " настоящий: \t  remont-i-stroitel_stvo/vodosnabjenie-i-kanalizazia/ \n",
      " name:  септик под ключ \n",
      " септик под ключ монтаж канализационных септиков под ключ своей спецтехникой \n",
      "\n",
      "\n",
      "13  \n",
      "prediction: \t remont-i-stroitel_stvo/drugoe/tehniceskij-nadzor \n",
      " настоящий: \t  remont-i-stroitel_stvo/drugoe/ \n",
      " name:  технический надзор \n",
      " технический надзор ооо рпц специализируется на следующих услугах неразрушающий контроль техническое диагностирование экспертиза промышленной безопасности эпб технический аудит разработка технической документации \n",
      "\n",
      "1\n",
      "14  \n",
      "prediction: \t remont-i-stroitel_stvo/potolki/montaj-natajnogo-potolka \n",
      " настоящий: \t  remont-i-stroitel_stvo/potolki/ \n",
      " name:  монтаж натяжного потолка из ткани \n",
      " монтаж натяжного потолка из ткани исполним все ваши задумки все наши специалисты имеют многолетний опыт работы используют только специальное оборудование недорого \n",
      "\n",
      "1\n",
      "15  \n",
      "prediction: \t remont-i-stroitel_stvo/betonnye-raboty/ustrojstvo-betonnogo-fundamenta \n",
      " настоящий: \t  remont-i-stroitel_stvo/betonnye-raboty/ \n",
      " name:  бетон в 35 \n",
      " бетон в 35 бетон в 35 круглосуточно наша организация производит отгрузку строительных материалов и строительной техники для строительства плитных фундаментов картодромов цоколя \n",
      "\n",
      "1\n",
      "16  \n",
      "prediction: \t remont-i-stroitel_stvo/vodosnabjenie-i-kanalizazia/ustanovka-teplovogo-nasosa \n",
      " настоящий: \t  remont-i-stroitel_stvo/vodosnabjenie-i-kanalizazia/ \n",
      " name:  монтаж скважинного насоса с обвязкой \n",
      " монтаж скважинного насоса с обвязкой  \n",
      "\n",
      "\n",
      "17  \n",
      "prediction: \t remont-i-stroitel_stvo/rol_stavni-i-sekzionnye-vorota/montaj-mehaniceskogo-privoda-rol_stavnej \n",
      " настоящий: \t  remont-i-stroitel_stvo/rol_stavni-i-sekzionnye-vorota/ \n",
      " name:  ремонт рольставней \n",
      " ремонт рольставней осуществляем качественный и профессиональный ремонт рольставней и рольворот производим такие работы ремонт электропривода замена замка замена воротка программирование пульта ремонт рольставни замена ручного привода на автоматический и другие виды работ все комплектующие имеются в наличии \n",
      "\n",
      "\n",
      "18  \n",
      "prediction: \t remont-i-stroitel_stvo/stroitel_stvo-ban_,-saun-i-bassejnov/stroitel_stvo-bassejna \n",
      " настоящий: \t  remont-i-stroitel_stvo/stroitel_stvo-ban_,-saun-i-bassejnov/ \n",
      " name:  изготовление дверей и перегородок из стекла \n",
      " изготовление дверей и перегородок из стекла  \n",
      "\n",
      "\n",
      "19  \n",
      "prediction: \t remont-i-stroitel_stvo/krovel_nye-raboty/montaj-obresetki \n",
      " настоящий: \t  remont-i-stroitel_stvo/krovel_nye-raboty/ \n",
      " name:  утепление фасадов \n",
      " утепление фасадов  \n",
      "\n",
      "\n",
      "20  \n",
      "prediction: \t remont-i-stroitel_stvo/potolki/montaj-natajnogo-potolka \n",
      " настоящий: \t  remont-i-stroitel_stvo/potolki/ \n",
      " name:  заказать полотно для натяжного потолка по размерам \n",
      " заказать полотно для натяжного потолка по размерам  \n",
      "\n",
      "\n",
      "8  /  20 0.4\n"
     ]
    }
   ],
   "source": [
    "wwm.do_marking_on_castom(inf_weigth_03, pred_card2rubric=inf_weigth_03['p_cd_card2rubric_castom'], count=20)"
   ]
  },
  {
   "cell_type": "code",
   "execution_count": 87,
   "metadata": {
    "scrolled": true
   },
   "outputs": [
    {
     "name": "stdout",
     "output_type": "stream",
     "text": [
      "1  \n",
      "prediction: \t remont-i-stroitel_stvo/drugoe/izgotovlenie-metallokonstrukzij \n",
      " настоящий: \t  remont-i-stroitel_stvo/drugoe/ \n",
      " name:  повесить телевизор на стену \n",
      " повесить телевизор на стену повесить телевизор на стену с последующей настройкой \n",
      "\n",
      "\n",
      "2  \n",
      "prediction: \t remont-i-stroitel_stvo/elektromontajnye-raboty/zamena-avtomatov \n",
      " настоящий: \t  remont-i-stroitel_stvo/elektromontajnye-raboty/ \n",
      " name:  услуги электрика недорого \n",
      " услуги электрика недорого услуги электрика недорого вам нужно поменять провода в квартире или доме выбивает автоматы и это мешает спокойно жить щипает током при одновременном прикосновении к холодильнику и мойке тогда вы попали куда нужно \n",
      "\n",
      "\n",
      "3  \n",
      "prediction: \t remont-i-stroitel_stvo/okna-i-balkony/vnutrennaa-otdelka-panelami-iz-pvh \n",
      " настоящий: \t  remont-i-stroitel_stvo/plitocnye-raboty/ \n",
      " name:  укладка пвх плитки на фанеру \n",
      " укладка пвх плитки на фанеру укладка пвх плитки на фанеру низкие цены на все виды услуг звоните выезд мастера бесплатно даем гарантию на все виды работ только опытные мастера и качественные работы \n",
      "\n",
      "\n",
      "4  \n",
      "prediction: \t remont-i-stroitel_stvo/gazifikazia/ustanovka-gazovogo-scetcika \n",
      " настоящий: \t  remont-i-stroitel_stvo/santehniceskie-raboty-i-otoplenie/ \n",
      " name:  оказываем весь комплекс сантехнических работ в квартирах коттеджах и офисах \n",
      " оказываем весь комплекс сантехнических работ в квартирах коттеджах и офисах оказываем весь комплекс сантехнических работ в квартирах коттеджах и офисах мы выполняем следующие работы замена труб холодной горячей воды в квартире внутриквартирная разводка труб замена стояка водоснабжения хвс гвс в квартире монтаж системы водоснабжения частного дома или коттеджа типовые работы по замене полотенцесушителя радиаторных батарей все работы выполняются в соответствии с современными стандартами с использованием новейших технологий мы гарантируем качество работ наши цены как показывает практика и судя по количеству выполненных заказов наши цены являются средними и устраивают даже очень экономных заказчиков \n",
      "\n",
      "\n",
      "5  \n",
      "prediction: \t remont-i-stroitel_stvo/vodosnabjenie-i-kanalizazia/montaj-narujnoj-kanalizazii \n",
      " настоящий: \t  remont-i-stroitel_stvo/santehniceskie-raboty-i-otoplenie/ \n",
      " name:  услуги установка унитаза \n",
      " услуги установка унитаза услуги установка унитаза недорого сам выезд осуществляется бесплатно опытные мастера выедут к вам в день обращения гарантии на все виды работ ждем вашего звонка \n",
      "\n",
      "\n",
      "6  \n",
      "prediction: \t remont-i-stroitel_stvo/dveri-i-zamki/rassirenie-proema \n",
      " настоящий: \t  remont-i-stroitel_stvo/remont-kvartir-i-domov/ \n",
      " name:  расширение дверного проема в бетоне до 80 мм \n",
      " расширение дверного проема в бетоне до 80 мм  \n",
      "\n",
      "1\n",
      "7  \n",
      "prediction: \t remont-i-stroitel_stvo/master-na-cas/master-na-vse-ruki \n",
      " настоящий: \t  remont-i-stroitel_stvo/mebel_/ \n",
      " name:  сборка кухни \n",
      " сборка кухни чтобы сборка кухонной мебели не превратилась для вас в серьезную проблему доверьте ее выполнение специалистам точно знающим как именно нужно проводить работы по монтажу современных мебельных конструкций мастер всегда выезжает к клиенту имея в наличии все необходимые комплектующие обеспечивает высокую надежность и функциональность собранных элементов доводит работу до конца и соблюдает все стандарты и требования установленные властями москвы и области к уровню шумового воздействия \n",
      "\n",
      "\n",
      "8  \n",
      "prediction: \t remont-i-stroitel_stvo/fasadnye-raboty/montaj-fasadov \n",
      " настоящий: \t  remont-i-stroitel_stvo/fasadnye-raboty/ \n",
      " name:  монтаж планкена \n",
      " монтаж планкена  \n",
      "\n",
      "1\n",
      "9  \n",
      "prediction: \t remont-i-stroitel_stvo/remont-ofisa/kapital_nyj-remont-ofisov \n",
      " настоящий: \t  remont-i-stroitel_stvo/remont-ofisa/ \n",
      " name:  ремонт офиса под ключ \n",
      " ремонт офиса под ключ выполняем комплекс работ от разработки дизайна проекта до финальной сдачи в эксплуатацию стоимость ремонта под ключ от 4000 руб м 2 в зависимости от объема работ и используемых материалов гарантия до 5 лет выезд на замеры и составление сметы бесплатно \n",
      "\n",
      "1\n",
      "10  \n",
      "prediction: \t remont-i-stroitel_stvo/poly-i-napol_nye-pokrytia/ziklevka-derevannogo-pola \n",
      " настоящий: \t  remont-i-stroitel_stvo/poly-i-napol_nye-pokrytia/ \n",
      " name:  циклевка паркета без выноса мебели \n",
      " циклевка паркета без выноса мебели циклевка паркета без выноса мебели качественно и недорого позвоните по телефону и наши менеджеры подскажут сколько стоит та или иная услуга выезд специалиста для оценки работ бесплатно цены доступные \n",
      "\n",
      "1\n",
      "11  \n",
      "prediction: \t remont-i-stroitel_stvo/oboi-i-malarnye-raboty/stukaturka-sten \n",
      " настоящий: \t  remont-i-stroitel_stvo/drugoe/ \n",
      " name:  штукатурные работы отделка фасада машинным способом \n",
      " штукатурные работы отделка фасада машинным способом здравствуйте в этом сообществе я хочу рассказать о штукатурных работах которые выполняются механизированным способом выполняем любые штукатурные работы в квартире в офисе в коттедже вы получаете от нас чёткую вертикаль стен в соответствии с лазерным уровнем на внешних углах и оконных откосах будут установлены специальные угловые защитные профили защищающие углы от сколов и повреждений поверхность стен будет готова под оклейку обоями штукатурка стен по маякам машиной 300 руб кв м штукатурка стен в ручную 400 руб кв м штукатурка потолков 500 руб кв м штукатурка арочных полукруглых откосов от 450 руб п м штукатурка простых откосов 400 руб п м армирование стеклотканевой сеткой 50 руб кв штукатурка фасадов цементно песчаными смесями от 600 руб за кв м с нашими лесами мокрый фасад утепление армирование декоративная штукатурка шпатлевка покраска от 1100 руб кв м мы хотим отметить что все работы учитываются без учёта материала все наши работы выполняются по технологии knauf на сегодняшний день в европе 90 штукатурных работ выполняются машинным способом сокращение сроков выполнения работ \n",
      "\n",
      "1\n",
      "12  \n",
      "prediction: \t remont-i-stroitel_stvo/zemlanye-raboty/dostavka-kar_ernogo-peska \n",
      " настоящий: \t  remont-i-stroitel_stvo/drugoe/ \n",
      " name:  уголок металлический с доставкой \n",
      " уголок металлический с доставкой уголок металлический с доставкой круглосуточно наша организация производит отгрузку строительных материалов и строительной техники для строительства плитных фундаментов картодромов цоколя \n",
      "\n",
      "\n",
      "13  \n",
      "prediction: \t remont-i-stroitel_stvo/oboi-i-malarnye-raboty/udalenie-spaklevki \n",
      " настоящий: \t  remont-i-stroitel_stvo/drugoe/ \n",
      " name:  шпаклевки стен под обои \n",
      " шпаклевки стен под обои  \n",
      "\n",
      "\n",
      "14  \n",
      "prediction: \t remont-i-stroitel_stvo/remont-ofisa/kapital_nyj-remont-ofisov \n",
      " настоящий: \t  remont-i-stroitel_stvo/remont-ofisa/ \n",
      " name:  комплексное обслуживание коммерческой недвижимости \n",
      " комплексное обслуживание коммерческой недвижимости  \n",
      "\n",
      "\n",
      "15  \n",
      "prediction: \t remont-i-stroitel_stvo/potolki/montaj-natajnogo-potolka \n",
      " настоящий: \t  remont-i-stroitel_stvo/potolki/ \n",
      " name:  монтаж сатинового натяжного потолка \n",
      " монтаж сатинового натяжного потолка  \n",
      "\n",
      "1\n",
      "16  \n",
      "prediction: \t remont-i-stroitel_stvo/dveri-i-zamki/ustanovka-mejkomnatnoj-dveri \n",
      " настоящий: \t  remont-i-stroitel_stvo/dveri-i-zamki/ \n",
      " name:  установка двери книжка \n",
      " установка двери книжка  \n",
      "\n",
      "1\n",
      "17  \n",
      "prediction: \t remont-i-stroitel_stvo/elektromontajnye-raboty/demontaj-elektroseti \n",
      " настоящий: \t  remont-i-stroitel_stvo/elektromontajnye-raboty/ \n",
      " name:  электромонтажные работы замена проводки \n",
      " электромонтажные работы замена проводки  \n",
      "\n",
      "\n",
      "18  \n",
      "prediction: \t remont-i-stroitel_stvo/fundament/stroitel_stvo-stolbcatogo-fundamenta \n",
      " настоящий: \t  remont-i-stroitel_stvo/betonnye-raboty/ \n",
      " name:  бетон для столбчатого фундамента \n",
      " бетон для столбчатого фундамента бетон для столбчатого фундамента с оплатой по безналу наша строительная фирма поставит стройматериалы в короткий срок и по низкой цене \n",
      "\n",
      "\n",
      "19  \n",
      "prediction: \t remont-i-stroitel_stvo/potolki/montaj-natajnogo-potolka \n",
      " настоящий: \t  remont-i-stroitel_stvo/potolki/ \n",
      " name:  монтаж натяжных потолков в бане \n",
      " монтаж натяжных потолков в бане наша команда предоставляет большую гарантию на материал и работу будете довольны качеством нашей работы предоставляем услуги без посредников свой склад материалов \n",
      "\n",
      "\n",
      "20  \n",
      "prediction: \t remont-i-stroitel_stvo/okna-i-balkony/zamena-stekol \n",
      " настоящий: \t  remont-i-stroitel_stvo/okna-i-balkony/ \n",
      " name:  замена разбитого стеклопакета \n",
      " замена разбитого стеклопакета заменим стеклопакет любой формы и размера как из обычного стекла так и из специального энергосберегающего закаленного солнцезащитного триплекса и др добавим декоративную раскладку пленочное покрытие в случае необходимости \n",
      "\n"
     ]
    },
    {
     "name": "stdout",
     "output_type": "stream",
     "text": [
      "1\n",
      "8  /  20 0.4\n"
     ]
    }
   ],
   "source": [
    "wwm.do_marking_on_castom(inf_weigth_03, pred_card2rubric=inf_weigth_03['method_topic2rubric_card2rubric_castom'], count=20)"
   ]
  },
  {
   "cell_type": "code",
   "execution_count": 5,
   "metadata": {},
   "outputs": [
    {
     "name": "stdout",
     "output_type": "stream",
     "text": [
      "46015  /  66104 0.6961000847149945\n",
      "42281  /  66104 0.6396133365605712\n"
     ]
    }
   ],
   "source": [
    "wwm.exp_weigth(exp_name='weight_1_0_10_10', weigths=[1., 0., 10., 10.], )"
   ]
  },
  {
   "cell_type": "code",
   "execution_count": 6,
   "metadata": {},
   "outputs": [
    {
     "name": "stdout",
     "output_type": "stream",
     "text": [
      "45456  /  66104 0.6876437129371898\n",
      "33733  /  66104 0.5103019484448748\n"
     ]
    }
   ],
   "source": [
    "wwm.exp_weigth(exp_name='weight_1_0_20_10', weigths=[1., 0., 20., 10.], )"
   ]
  },
  {
   "cell_type": "code",
   "execution_count": 7,
   "metadata": {},
   "outputs": [
    {
     "name": "stdout",
     "output_type": "stream",
     "text": [
      "49725  /  66104 0.7522237686070434\n",
      "44683  /  66104 0.6759500181532131\n"
     ]
    }
   ],
   "source": [
    "wwm.exp_weigth(exp_name='weight_1_0_10_30', weigths=[1., 0., 10., 30.], )"
   ]
  },
  {
   "cell_type": "code",
   "execution_count": 8,
   "metadata": {},
   "outputs": [
    {
     "name": "stdout",
     "output_type": "stream",
     "text": [
      "41249  /  66104 0.6240015732784703\n",
      "41161  /  66104 0.622670337649764\n"
     ]
    }
   ],
   "source": [
    "wwm.exp_weigth(exp_name='weight_1_0_1_1', weigths=[1., 0., 1., 1.], )"
   ]
  },
  {
   "cell_type": "code",
   "execution_count": 9,
   "metadata": {},
   "outputs": [
    {
     "name": "stdout",
     "output_type": "stream",
     "text": [
      "49072  /  66104 0.7423453951349389\n",
      "23230  /  66104 0.3514159506232603\n"
     ]
    }
   ],
   "source": [
    "wwm.exp_weigth(exp_name='weight_1_0_50_250', weigths=[1., 0., 50., 250.], )"
   ]
  },
  {
   "cell_type": "code",
   "execution_count": null,
   "metadata": {},
   "outputs": [],
   "source": []
  },
  {
   "cell_type": "code",
   "execution_count": null,
   "metadata": {},
   "outputs": [],
   "source": []
  },
  {
   "cell_type": "code",
   "execution_count": null,
   "metadata": {},
   "outputs": [],
   "source": []
  },
  {
   "cell_type": "code",
   "execution_count": null,
   "metadata": {},
   "outputs": [],
   "source": []
  },
  {
   "cell_type": "code",
   "execution_count": null,
   "metadata": {},
   "outputs": [],
   "source": []
  },
  {
   "cell_type": "code",
   "execution_count": null,
   "metadata": {},
   "outputs": [],
   "source": []
  }
 ],
 "metadata": {
  "kernelspec": {
   "display_name": "bigartm_9",
   "language": "python",
   "name": "bigartm_9"
  },
  "language_info": {
   "codemirror_mode": {
    "name": "ipython",
    "version": 3
   },
   "file_extension": ".py",
   "mimetype": "text/x-python",
   "name": "python",
   "nbconvert_exporter": "python",
   "pygments_lexer": "ipython3",
   "version": "3.7.6"
  }
 },
 "nbformat": 4,
 "nbformat_minor": 2
}
