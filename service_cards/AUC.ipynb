{
 "cells": [
  {
   "cell_type": "markdown",
   "metadata": {},
   "source": [
    "# Полнота и Точность от степени уверенности"
   ]
  },
  {
   "cell_type": "code",
   "execution_count": 7,
   "metadata": {},
   "outputs": [
    {
     "data": {
      "text/html": [
       "<style>.container { width:100% !important; }</style>"
      ],
      "text/plain": [
       "<IPython.core.display.HTML object>"
      ]
     },
     "metadata": {},
     "output_type": "display_data"
    },
    {
     "name": "stdout",
     "output_type": "stream",
     "text": [
      "artm.version() 0.9.2\n",
      "artm.version() 0.9.2\n"
     ]
    }
   ],
   "source": [
    "from IPython.core.display import display, HTML \n",
    "display(HTML(\"<style>.container { width:100% !important; }</style>\"))\n",
    "\n",
    "import importlib # использую для перегрузки библиотек\n",
    "import time\n",
    "from IPython.display import clear_output\n",
    "import random\n",
    "import warnings\n",
    "\n",
    "import pandas as pd\n",
    "import json\n",
    "import numpy as np\n",
    "import artm\n",
    "import matplotlib.pyplot as plt\n",
    "\n",
    "import data_preparing\n",
    "import artm_model\n",
    "import work_with_model as wwm\n",
    "\n",
    "importlib.reload(data_preparing)\n",
    "importlib.reload(artm_model)\n",
    "importlib.reload(wwm)\n",
    "\n",
    "warnings.filterwarnings(\"ignore\")\n",
    "\n",
    "clear_output(True)"
   ]
  },
  {
   "cell_type": "markdown",
   "metadata": {},
   "source": [
    "#### обучим простую модель"
   ]
  },
  {
   "cell_type": "code",
   "execution_count": 9,
   "metadata": {},
   "outputs": [
    {
     "name": "stdout",
     "output_type": "stream",
     "text": [
      "44952  /  66104 0.6800193634273266\n",
      "42966  /  66104 0.6499757957158417\n",
      "weight_1_0_10_50\n",
      "precision 0.7055278263717114\n",
      "recall 0.6800193623986153\n",
      "tfind, ffind, ffindr, fignore, tignore, n := 44952 18762 0 2390 0 66104\n"
     ]
    },
    {
     "data": {
      "text/plain": [
       "(0.7055278263717114, 0.6800193623986153)"
      ]
     },
     "execution_count": 9,
     "metadata": {},
     "output_type": "execute_result"
    }
   ],
   "source": [
    "inf = {}\n",
    "inf['exp_name'] = 'weight_1_0_10_50'\n",
    "inf['test_size'] = 0.1\n",
    "inf['num_collection_passes'] = 10\n",
    "inf['topic_number'] = 750\n",
    "inf['data_path'] = \"../../../nir/tm/service_cards/\"\n",
    "\n",
    "inf['docs'] = data_preparing.read_and_prepared('service_cards_tokenised_remont_only', inf['data_path'], )\n",
    "inf['path_train'], inf['path_test'] = data_preparing.form_test_train_set(\n",
    "                docs=inf['docs'], name=inf['exp_name'], test_size=inf['test_size'])\n",
    "inf['path_castom'] = data_preparing.form_castom_set(inf['docs'], name=inf['exp_name'])\n",
    "inf['model'], inf['theta_train'] = artm_model.create_and_learn_PLSA_class_ids_weigth(\n",
    "                                            inf['path_train'], \n",
    "                                            topic_number=inf['topic_number'], \n",
    "                                            num_collection_passes=inf['num_collection_passes'], \n",
    "                                            weigths=[1., 0., 10., 50.]\n",
    "                                         )\n",
    "\n",
    "inf['theta_test'] = wwm.get_theta_from_vw(inf, inf['path_test'])\n",
    "inf['theta_castom'] = wwm.get_theta_from_vw(inf, inf['path_castom'])\n",
    "clear_output(True)\n",
    "\n",
    "wwm.make_docs_dicts(inf)\n",
    "wwm.form_card2topic(inf)\n",
    "wwm.get_topic2rubric(inf)\n",
    "#wwm.measure_accuracy_on_test(inf)\n",
    "wwm.make_prediction_by_p_cd(inf, mode='castom')\n",
    "inf['method_topic2rubric_card2rubric_castom'] = wwm.make_prediction_by_topic2rubric(inf, mode='castom')\n",
    "wwm.make_prediction_by_p_cd(inf, mode='test')\n",
    "inf['method_topic2rubric_card2rubric_test'] = wwm.make_prediction_by_topic2rubric(inf, mode='test')\n",
    "wwm.accuracy_on_test(inf, inf['method_topic2rubric_card2rubric_test'])\n",
    "wwm.accuracy_on_test(inf, inf['p_cd_card2rubric_test'])\n",
    "wwm.calc_all_scores(inf, inf['method_topic2rubric_card2rubric_test'])"
   ]
  },
  {
   "cell_type": "markdown",
   "metadata": {},
   "source": [
    "#### считать пресижн и рекол тут не корректно, но попытка была "
   ]
  },
  {
   "cell_type": "code",
   "execution_count": 10,
   "metadata": {},
   "outputs": [
    {
     "name": "stdout",
     "output_type": "stream",
     "text": [
      "weight_1_0_10_50\n",
      "precision 0.7055278263717114\n",
      "recall 0.6800193623986153\n",
      "tfind, ffind, ffindr, fignore, tignore, n := 44952 18762 0 2390 0 66104\n"
     ]
    },
    {
     "data": {
      "text/plain": [
       "(0.7055278263717114, 0.6800193623986153)"
      ]
     },
     "execution_count": 10,
     "metadata": {},
     "output_type": "execute_result"
    }
   ],
   "source": [
    "wwm.calc_all_scores(inf, inf['method_topic2rubric_card2rubric_test'])"
   ]
  },
  {
   "cell_type": "markdown",
   "metadata": {},
   "source": [
    "#### Порог уверенности для модели предсказания модальностей ProbStickTM"
   ]
  },
  {
   "cell_type": "code",
   "execution_count": 11,
   "metadata": {},
   "outputs": [
    {
     "name": "stdout",
     "output_type": "stream",
     "text": [
      "44952  /  66104 0.6800193634273266\n",
      "42966  /  66104 0.6499757957158417\n",
      "weight_1_0_10_50\n",
      "precision 0.6499757947325793\n",
      "recall 0.6499757947325793\n",
      "tfind, ffind, ffindr, fignore, tignore, n := 42966 23138 0 0 0 66104\n"
     ]
    },
    {
     "data": {
      "text/plain": [
       "(0.6499757947325793, 0.6499757947325793)"
      ]
     },
     "execution_count": 11,
     "metadata": {},
     "output_type": "execute_result"
    }
   ],
   "source": [
    "wwm.make_shy_prediction_by_p_cd(inf, mode='test', tr_shyness=0.0)\n",
    "inf['method_topic2rubric_card2rubric_test'] = wwm.make_prediction_by_topic2rubric(inf, mode='test')\n",
    "wwm.accuracy_on_test(inf, inf['method_topic2rubric_card2rubric_test'])\n",
    "wwm.accuracy_on_test(inf, inf['p_cd_card2rubric_test'])\n",
    "wwm.calc_all_scores(inf, inf['p_cd_card2rubric_test'])"
   ]
  },
  {
   "cell_type": "markdown",
   "metadata": {},
   "source": [
    "#### распределение количества документов с нужной уверенностью"
   ]
  },
  {
   "cell_type": "code",
   "execution_count": 12,
   "metadata": {},
   "outputs": [
    {
     "data": {
      "image/png": "[encoded data removed]",
      "text/plain": [
       "<Figure size 1080x216 with 1 Axes>"
      ]
     },
     "metadata": {
      "needs_background": "light"
     },
     "output_type": "display_data"
    }
   ],
   "source": [
    "plt.figure(figsize=(15,3))\n",
    "plt.hist(inf['p_cd_test'].max(), bins=30)\n",
    "plt.grid(b=True, axis='both')\n",
    "plt.xticks(ticks=np.arange(0, 1, 0.05))\n",
    "plt.show()"
   ]
  },
  {
   "cell_type": "code",
   "execution_count": 13,
   "metadata": {},
   "outputs": [
    {
     "name": "stdout",
     "output_type": "stream",
     "text": [
      "44952  /  66104 0.6800193634273266\n",
      "41566  /  66104 0.6287970470773326\n",
      "weight_1_0_10_50\n",
      "precision 0.6782410040332202\n",
      "recall 0.6287970461261088\n",
      "tfind, ffind, ffindr, fignore, tignore, n := 41566 19719 0 4819 0 66104\n"
     ]
    },
    {
     "data": {
      "text/plain": [
       "(0.6782410040332202, 0.6287970461261088)"
      ]
     },
     "execution_count": 13,
     "metadata": {},
     "output_type": "execute_result"
    }
   ],
   "source": [
    "wwm.make_shy_prediction_by_p_cd(inf, mode='test', tr_shyness=0.05)\n",
    "inf['method_topic2rubric_card2rubric_test'] = wwm.make_prediction_by_topic2rubric(inf, mode='test')\n",
    "wwm.accuracy_on_test(inf, inf['method_topic2rubric_card2rubric_test'])\n",
    "wwm.accuracy_on_test(inf, inf['p_cd_card2rubric_test'])\n",
    "wwm.calc_all_scores(inf, inf['p_cd_card2rubric_test'])"
   ]
  },
  {
   "cell_type": "markdown",
   "metadata": {},
   "source": [
    "#### точность полнота в зависимости от уверенности"
   ]
  },
  {
   "cell_type": "code",
   "execution_count": 39,
   "metadata": {},
   "outputs": [
    {
     "name": "stdout",
     "output_type": "stream",
     "text": [
      "42966  /  66104 0.6499757957158417\n",
      "weight_1_0_10_50\n",
      "precision 0.6499757947325793\n",
      "recall 0.6499757947325793\n",
      "tfind, ffind, ffindr, fignore, tignore, n := 42966 23138 0 0 0 66104\n",
      "42966  /  66104 0.6499757957158417\n",
      "weight_1_0_10_50\n",
      "precision 0.6499757947325793\n",
      "recall 0.6499757947325793\n",
      "tfind, ffind, ffindr, fignore, tignore, n := 42966 23138 0 0 0 66104\n",
      "42948  /  66104 0.6497034975190609\n",
      "weight_1_0_10_50\n",
      "precision 0.6511515068133003\n",
      "recall 0.6497034965362103\n",
      "tfind, ffind, ffindr, fignore, tignore, n := 42948 23009 0 147 0 66104\n",
      "42840  /  66104 0.6480697083383758\n",
      "weight_1_0_10_50\n",
      "precision 0.6582161778317336\n",
      "recall 0.6480697073579968\n",
      "tfind, ffind, ffindr, fignore, tignore, n := 42840 22245 0 1019 0 66104\n",
      "42142  /  66104 0.6375105893743193\n",
      "weight_1_0_10_50\n",
      "precision 0.6657714293251423\n",
      "recall 0.6375105884099137\n",
      "tfind, ffind, ffindr, fignore, tignore, n := 42142 21156 0 2806 0 66104\n",
      "41566  /  66104 0.6287970470773326\n",
      "weight_1_0_10_50\n",
      "precision 0.6782410040332202\n",
      "recall 0.6287970461261088\n",
      "tfind, ffind, ffindr, fignore, tignore, n := 41566 19719 0 4819 0 66104\n",
      "39796  /  66104 0.6020210577272177\n",
      "weight_1_0_10_50\n",
      "precision 0.6897292788489562\n",
      "recall 0.6020210568164996\n",
      "tfind, ffind, ffindr, fignore, tignore, n := 39796 17902 0 8406 0 66104\n",
      "38201  /  66104 0.5778924119569163\n",
      "weight_1_0_10_50\n",
      "precision 0.7103594460264436\n",
      "recall 0.5778924110826993\n",
      "tfind, ffind, ffindr, fignore, tignore, n := 38201 15576 0 12327 0 66104\n",
      "36781  /  66104 0.5564111097664287\n",
      "weight_1_0_10_50\n",
      "precision 0.7380555819443051\n",
      "recall 0.5564111089247078\n",
      "tfind, ffind, ffindr, fignore, tignore, n := 36781 13054 0 16269 0 66104\n",
      "34128  /  66104 0.516277381096454\n",
      "weight_1_0_10_50\n",
      "precision 0.7772615451005249\n",
      "recall 0.5162773803154462\n",
      "tfind, ffind, ffindr, fignore, tignore, n := 34128 9780 0 22196 0 66104\n",
      "30589  /  66104 0.46274053007382304\n",
      "weight_1_0_10_50\n",
      "precision 0.7895157939564429\n",
      "recall 0.46274052937380405\n",
      "tfind, ffind, ffindr, fignore, tignore, n := 30589 8155 0 27360 0 66104\n",
      "26137  /  66104 0.3953921094033644\n",
      "weight_1_0_10_50\n",
      "precision 0.7898760931100753\n",
      "recall 0.39539210880522796\n",
      "tfind, ffind, ffindr, fignore, tignore, n := 26137 6953 0 33014 0 66104\n",
      "21152  /  66104 0.31998063657267334\n",
      "weight_1_0_10_50\n",
      "precision 0.8121016631647789\n",
      "recall 0.31998063608861693\n",
      "tfind, ffind, ffindr, fignore, tignore, n := 21152 4894 0 40058 0 66104\n",
      "17895  /  66104 0.27070979063294204\n",
      "weight_1_0_10_50\n",
      "precision 0.7996335814842773\n",
      "recall 0.27070979022342095\n",
      "tfind, ffind, ffindr, fignore, tignore, n := 17895 4484 0 43725 0 66104\n",
      "14760  /  66104 0.22328452136028076\n",
      "weight_1_0_10_50\n",
      "precision 0.8025228316522247\n",
      "recall 0.22328452102250312\n",
      "tfind, ffind, ffindr, fignore, tignore, n := 14760 3632 0 47712 0 66104\n",
      "11414  /  66104 0.17266731211424421\n",
      "weight_1_0_10_50\n",
      "precision 0.7910458050381468\n",
      "recall 0.17266731185303866\n",
      "tfind, ffind, ffindr, fignore, tignore, n := 11414 3015 0 51675 0 66104\n",
      "9333  /  66104 0.14118661503086047\n",
      "weight_1_0_10_50\n",
      "precision 0.7742657974592185\n",
      "recall 0.1411866148172779\n",
      "tfind, ffind, ffindr, fignore, tignore, n := 9333 2721 0 54050 0 66104\n",
      "7279  /  66104 0.11011436524264795\n",
      "weight_1_0_10_50\n",
      "precision 0.7869189104116875\n",
      "recall 0.11011436507607048\n",
      "tfind, ffind, ffindr, fignore, tignore, n := 7279 1971 0 56854 0 66104\n",
      "5701  /  66104 0.0862428899915285\n",
      "weight_1_0_10_50\n",
      "precision 0.7707178481719906\n",
      "recall 0.08624288986106303\n",
      "tfind, ffind, ffindr, fignore, tignore, n := 5701 1696 0 58707 0 66104\n",
      "4436  /  66104 0.06710637782887571\n",
      "weight_1_0_10_50\n",
      "precision 0.7680055268697104\n",
      "recall 0.06710637772735935\n",
      "tfind, ffind, ffindr, fignore, tignore, n := 4436 1340 0 60328 0 66104\n",
      "3797  /  66104 0.057439791843156236\n",
      "weight_1_0_10_50\n",
      "precision 0.7535225093565685\n",
      "recall 0.05743979175626317\n",
      "tfind, ffind, ffindr, fignore, tignore, n := 3797 1242 0 61065 0 66104\n",
      "2917  /  66104 0.04412743555609343\n",
      "weight_1_0_10_50\n",
      "precision 0.7213155113423464\n",
      "recall 0.04412743548933886\n",
      "tfind, ffind, ffindr, fignore, tignore, n := 2917 1127 0 62060 0 66104\n",
      "2745  /  66104 0.04152547500907661\n",
      "weight_1_0_10_50\n",
      "precision 0.7292773451307825\n",
      "recall 0.0415254749462582\n",
      "tfind, ffind, ffindr, fignore, tignore, n := 2745 1019 0 62340 0 66104\n",
      "2079  /  66104 0.03145044172818589\n",
      "weight_1_0_10_50\n",
      "precision 0.6805237093118262\n",
      "recall 0.03145044168060867\n",
      "tfind, ffind, ffindr, fignore, tignore, n := 2079 976 0 63049 0 66104\n",
      "1688  /  66104 0.0255355197870023\n",
      "weight_1_0_10_50\n",
      "precision 0.6820201744638312\n",
      "recall 0.025535519748372988\n",
      "tfind, ffind, ffindr, fignore, tignore, n := 1688 787 0 63629 0 66104\n",
      "1499  /  66104 0.022676388720803582\n",
      "weight_1_0_10_50\n",
      "precision 0.6683013522825968\n",
      "recall 0.02267638868649947\n",
      "tfind, ffind, ffindr, fignore, tignore, n := 1499 744 0 63861 0 66104\n",
      "1210  /  66104 0.018304489894711364\n",
      "weight_1_0_10_50\n",
      "precision 0.6696181145756439\n",
      "recall 0.01830448986702092\n",
      "tfind, ffind, ffindr, fignore, tignore, n := 1210 597 0 64297 0 66104\n",
      "878  /  66104 0.013282100931864941\n",
      "weight_1_0_10_50\n",
      "precision 0.5997267349913432\n",
      "recall 0.013282100911772204\n",
      "tfind, ffind, ffindr, fignore, tignore, n := 878 586 0 64640 0 66104\n",
      "860  /  66104 0.013009802735084109\n",
      "weight_1_0_10_50\n",
      "precision 0.5972221807484597\n",
      "recall 0.013009802715403298\n",
      "tfind, ffind, ffindr, fignore, tignore, n := 860 580 0 64664 0 66104\n",
      "575  /  66104 0.008698414619387631\n",
      "weight_1_0_10_50\n",
      "precision 0.5166216966197936\n",
      "recall 0.00869841460622895\n",
      "tfind, ffind, ffindr, fignore, tignore, n := 575 538 0 64991 0 66104\n",
      "567  /  66104 0.00857739319859615\n",
      "weight_1_0_10_50\n",
      "precision 0.5669999433000057\n",
      "recall 0.008577393185620548\n",
      "tfind, ffind, ffindr, fignore, tignore, n := 567 433 0 65104 0 66104\n",
      "357  /  66104 0.005400580902819799\n",
      "weight_1_0_10_50\n",
      "precision 0.524228997910573\n",
      "recall 0.005400580894649974\n",
      "tfind, ffind, ffindr, fignore, tignore, n := 357 324 0 65423 0 66104\n",
      "347  /  66104 0.005249304126830449\n",
      "weight_1_0_10_50\n",
      "precision 0.8966405951833087\n",
      "recall 0.005249304118889471\n",
      "tfind, ffind, ffindr, fignore, tignore, n := 347 40 0 65717 0 66104\n",
      "338  /  66104 0.005113155028440034\n",
      "weight_1_0_10_50\n",
      "precision 0.8965514863258658\n",
      "recall 0.005113155020705018\n",
      "tfind, ffind, ffindr, fignore, tignore, n := 338 39 0 65727 0 66104\n",
      "331  /  66104 0.005007261285247489\n",
      "weight_1_0_10_50\n",
      "precision 0.9019071111969725\n",
      "recall 0.005007261277672665\n",
      "tfind, ffind, ffindr, fignore, tignore, n := 331 36 0 65737 0 66104\n",
      "330  /  66104 0.004992133607648554\n",
      "weight_1_0_10_50\n",
      "precision 0.9016390979128148\n",
      "recall 0.004992133600096615\n",
      "tfind, ffind, ffindr, fignore, tignore, n := 330 36 0 65738 0 66104\n",
      "318  /  66104 0.004810601476461333\n",
      "weight_1_0_10_50\n",
      "precision 0.8983048309873359\n",
      "recall 0.0048106014691840105\n",
      "tfind, ffind, ffindr, fignore, tignore, n := 318 36 0 65750 0 66104\n",
      "315  /  66104 0.004765218443664529\n",
      "weight_1_0_10_50\n",
      "precision 0.8974356417562275\n",
      "recall 0.004765218436455859\n",
      "tfind, ffind, ffindr, fignore, tignore, n := 315 36 0 65753 0 66104\n",
      "182  /  66104 0.002753237323006172\n",
      "weight_1_0_10_50\n",
      "precision 0.8387092909173774\n",
      "recall 0.002753237318841163\n",
      "tfind, ffind, ffindr, fignore, tignore, n := 182 35 0 65887 0 66104\n",
      "31  /  66104 0.00046895800556698535\n",
      "weight_1_0_10_50\n",
      "precision 0.46969625803597265\n",
      "recall 0.00046895800485756076\n",
      "tfind, ffind, ffindr, fignore, tignore, n := 31 35 0 66038 0 66104\n",
      "30  /  66104 0.00045383032796805035\n",
      "weight_1_0_10_50\n",
      "precision 0.4687492675792694\n",
      "recall 0.00045383032728151044\n",
      "tfind, ffind, ffindr, fignore, tignore, n := 30 34 0 66040 0 66104\n",
      "30  /  66104 0.00045383032796805035\n",
      "weight_1_0_10_50\n",
      "precision 0.4687492675792694\n",
      "recall 0.00045383032728151044\n",
      "tfind, ffind, ffindr, fignore, tignore, n := 30 34 0 66040 0 66104\n",
      "29  /  66104 0.00043870265036911535\n",
      "weight_1_0_10_50\n",
      "precision 0.557691235209163\n",
      "recall 0.0004387026497054601\n",
      "tfind, ffind, ffindr, fignore, tignore, n := 29 23 0 66052 0 66104\n",
      "27  /  66104 0.0004084472951712453\n",
      "weight_1_0_10_50\n",
      "precision 0.53999892000216\n",
      "recall 0.0004084472945533594\n",
      "tfind, ffind, ffindr, fignore, tignore, n := 27 23 0 66054 0 66104\n",
      "27  /  66104 0.0004084472951712453\n",
      "weight_1_0_10_50\n",
      "precision 0.53999892000216\n",
      "recall 0.0004084472945533594\n",
      "tfind, ffind, ffindr, fignore, tignore, n := 27 23 0 66054 0 66104\n",
      "26  /  66104 0.0003933196175723103\n",
      "weight_1_0_10_50\n",
      "precision 0.7027008035113418\n",
      "recall 0.000393319616977309\n",
      "tfind, ffind, ffindr, fignore, tignore, n := 26 11 0 66067 0 66104\n"
     ]
    },
    {
     "name": "stdout",
     "output_type": "stream",
     "text": [
      "26  /  66104 0.0003933196175723103\n",
      "weight_1_0_10_50\n",
      "precision 0.7027008035113418\n",
      "recall 0.000393319616977309\n",
      "tfind, ffind, ffindr, fignore, tignore, n := 26 11 0 66067 0 66104\n",
      "25  /  66104 0.0003781919399733753\n",
      "weight_1_0_10_50\n",
      "precision 0.694442515437457\n",
      "recall 0.0003781919394012587\n",
      "tfind, ffind, ffindr, fignore, tignore, n := 25 11 0 66068 0 66104\n",
      "25  /  66104 0.0003781919399733753\n",
      "weight_1_0_10_50\n",
      "precision 0.694442515437457\n",
      "recall 0.0003781919394012587\n",
      "tfind, ffind, ffindr, fignore, tignore, n := 25 11 0 66068 0 66104\n",
      "25  /  66104 0.0003781919399733753\n",
      "weight_1_0_10_50\n",
      "precision 0.694442515437457\n",
      "recall 0.0003781919394012587\n",
      "tfind, ffind, ffindr, fignore, tignore, n := 25 11 0 66068 0 66104\n",
      "24  /  66104 0.0003630642623744403\n",
      "weight_1_0_10_50\n",
      "precision 0.7499976562573241\n",
      "recall 0.00036306426182520834\n",
      "tfind, ffind, ffindr, fignore, tignore, n := 24 8 0 66072 0 66104\n",
      "24  /  66104 0.0003630642623744403\n",
      "weight_1_0_10_50\n",
      "precision 0.7499976562573241\n",
      "recall 0.00036306426182520834\n",
      "tfind, ffind, ffindr, fignore, tignore, n := 24 8 0 66072 0 66104\n",
      "24  /  66104 0.0003630642623744403\n",
      "weight_1_0_10_50\n",
      "precision 0.7741910509966097\n",
      "recall 0.00036306426182520834\n",
      "tfind, ffind, ffindr, fignore, tignore, n := 24 7 0 66073 0 66104\n",
      "24  /  66104 0.0003630642623744403\n",
      "weight_1_0_10_50\n",
      "precision 0.7741910509966097\n",
      "recall 0.00036306426182520834\n",
      "tfind, ffind, ffindr, fignore, tignore, n := 24 7 0 66073 0 66104\n",
      "23  /  66104 0.0003479365847755053\n",
      "weight_1_0_10_50\n",
      "precision 0.7666641111196296\n",
      "recall 0.000347936584249158\n",
      "tfind, ffind, ffindr, fignore, tignore, n := 23 7 0 66074 0 66104\n",
      "23  /  66104 0.0003479365847755053\n",
      "weight_1_0_10_50\n",
      "precision 0.7666641111196296\n",
      "recall 0.000347936584249158\n",
      "tfind, ffind, ffindr, fignore, tignore, n := 23 7 0 66074 0 66104\n",
      "23  /  66104 0.0003479365847755053\n",
      "weight_1_0_10_50\n",
      "precision 0.7666641111196296\n",
      "recall 0.000347936584249158\n",
      "tfind, ffind, ffindr, fignore, tignore, n := 23 7 0 66074 0 66104\n",
      "22  /  66104 0.0003328089071765703\n",
      "weight_1_0_10_50\n",
      "precision 0.7586180737307803\n",
      "recall 0.00033280890667310766\n",
      "tfind, ffind, ffindr, fignore, tignore, n := 22 7 0 66075 0 66104\n",
      "22  /  66104 0.0003328089071765703\n",
      "weight_1_0_10_50\n",
      "precision 0.7586180737307803\n",
      "recall 0.00033280890667310766\n",
      "tfind, ffind, ffindr, fignore, tignore, n := 22 7 0 66075 0 66104\n",
      "21  /  66104 0.0003176812295776352\n",
      "weight_1_0_10_50\n",
      "precision 0.7499973214381377\n",
      "recall 0.0003176812290970573\n",
      "tfind, ffind, ffindr, fignore, tignore, n := 21 7 0 66076 0 66104\n",
      "21  /  66104 0.0003176812295776352\n",
      "weight_1_0_10_50\n",
      "precision 0.7499973214381377\n",
      "recall 0.0003176812290970573\n",
      "tfind, ffind, ffindr, fignore, tignore, n := 21 7 0 66076 0 66104\n",
      "20  /  66104 0.0003025535519787002\n",
      "weight_1_0_10_50\n",
      "precision 0.7407379972666768\n",
      "recall 0.0003025535515210069\n",
      "tfind, ffind, ffindr, fignore, tignore, n := 20 7 0 66077 0 66104\n",
      "20  /  66104 0.0003025535519787002\n",
      "weight_1_0_10_50\n",
      "precision 0.7407379972666768\n",
      "recall 0.0003025535515210069\n",
      "tfind, ffind, ffindr, fignore, tignore, n := 20 7 0 66077 0 66104\n",
      "20  /  66104 0.0003025535519787002\n",
      "weight_1_0_10_50\n",
      "precision 0.7407379972666768\n",
      "recall 0.0003025535515210069\n",
      "tfind, ffind, ffindr, fignore, tignore, n := 20 7 0 66077 0 66104\n",
      "18  /  66104 0.0002722981967808302\n",
      "weight_1_0_10_50\n",
      "precision 0.7499968750130208\n",
      "recall 0.00027229819636890624\n",
      "tfind, ffind, ffindr, fignore, tignore, n := 18 6 0 66080 0 66104\n",
      "18  /  66104 0.0002722981967808302\n",
      "weight_1_0_10_50\n",
      "precision 0.7499968750130208\n",
      "recall 0.00027229819636890624\n",
      "tfind, ffind, ffindr, fignore, tignore, n := 18 6 0 66080 0 66104\n",
      "17  /  66104 0.0002571705191818952\n",
      "weight_1_0_10_50\n",
      "precision 0.7727237603465439\n",
      "recall 0.00025717051879285593\n",
      "tfind, ffind, ffindr, fignore, tignore, n := 17 5 0 66082 0 66104\n",
      "17  /  66104 0.0002571705191818952\n",
      "weight_1_0_10_50\n",
      "precision 0.7727237603465439\n",
      "recall 0.00025717051879285593\n",
      "tfind, ffind, ffindr, fignore, tignore, n := 17 5 0 66082 0 66104\n",
      "17  /  66104 0.0002571705191818952\n",
      "weight_1_0_10_50\n",
      "precision 0.7727237603465439\n",
      "recall 0.00025717051879285593\n",
      "tfind, ffind, ffindr, fignore, tignore, n := 17 5 0 66082 0 66104\n",
      "17  /  66104 0.0002571705191818952\n",
      "weight_1_0_10_50\n",
      "precision 0.9999941176816607\n",
      "recall 0.00025717051879285593\n",
      "tfind, ffind, ffindr, fignore, tignore, n := 17 0 0 66087 0 66104\n",
      "17  /  66104 0.0002571705191818952\n",
      "weight_1_0_10_50\n",
      "precision 0.9999941176816607\n",
      "recall 0.00025717051879285593\n",
      "tfind, ffind, ffindr, fignore, tignore, n := 17 0 0 66087 0 66104\n",
      "0  /  66104 0.0\n",
      "weight_1_0_10_50\n",
      "precision 0.0\n",
      "recall 0.0\n",
      "tfind, ffind, ffindr, fignore, tignore, n := 0 0 0 66104 0 66104\n",
      "0  /  66104 0.0\n",
      "weight_1_0_10_50\n",
      "precision 0.0\n",
      "recall 0.0\n",
      "tfind, ffind, ffindr, fignore, tignore, n := 0 0 0 66104 0 66104\n",
      "0  /  66104 0.0\n",
      "weight_1_0_10_50\n",
      "precision 0.0\n",
      "recall 0.0\n",
      "tfind, ffind, ffindr, fignore, tignore, n := 0 0 0 66104 0 66104\n",
      "0  /  66104 0.0\n",
      "weight_1_0_10_50\n",
      "precision 0.0\n",
      "recall 0.0\n",
      "tfind, ffind, ffindr, fignore, tignore, n := 0 0 0 66104 0 66104\n",
      "0  /  66104 0.0\n",
      "weight_1_0_10_50\n",
      "precision 0.0\n",
      "recall 0.0\n",
      "tfind, ffind, ffindr, fignore, tignore, n := 0 0 0 66104 0 66104\n",
      "0  /  66104 0.0\n",
      "weight_1_0_10_50\n",
      "precision 0.0\n",
      "recall 0.0\n",
      "tfind, ffind, ffindr, fignore, tignore, n := 0 0 0 66104 0 66104\n",
      "0  /  66104 0.0\n",
      "weight_1_0_10_50\n",
      "precision 0.0\n",
      "recall 0.0\n",
      "tfind, ffind, ffindr, fignore, tignore, n := 0 0 0 66104 0 66104\n",
      "0  /  66104 0.0\n",
      "weight_1_0_10_50\n",
      "precision 0.0\n",
      "recall 0.0\n",
      "tfind, ffind, ffindr, fignore, tignore, n := 0 0 0 66104 0 66104\n",
      "0  /  66104 0.0\n",
      "weight_1_0_10_50\n",
      "precision 0.0\n",
      "recall 0.0\n",
      "tfind, ffind, ffindr, fignore, tignore, n := 0 0 0 66104 0 66104\n",
      "0  /  66104 0.0\n",
      "weight_1_0_10_50\n",
      "precision 0.0\n",
      "recall 0.0\n",
      "tfind, ffind, ffindr, fignore, tignore, n := 0 0 0 66104 0 66104\n",
      "0  /  66104 0.0\n",
      "weight_1_0_10_50\n",
      "precision 0.0\n",
      "recall 0.0\n",
      "tfind, ffind, ffindr, fignore, tignore, n := 0 0 0 66104 0 66104\n",
      "0  /  66104 0.0\n",
      "weight_1_0_10_50\n",
      "precision 0.0\n",
      "recall 0.0\n",
      "tfind, ffind, ffindr, fignore, tignore, n := 0 0 0 66104 0 66104\n",
      "0  /  66104 0.0\n",
      "weight_1_0_10_50\n",
      "precision 0.0\n",
      "recall 0.0\n",
      "tfind, ffind, ffindr, fignore, tignore, n := 0 0 0 66104 0 66104\n",
      "0  /  66104 0.0\n",
      "weight_1_0_10_50\n",
      "precision 0.0\n",
      "recall 0.0\n",
      "tfind, ffind, ffindr, fignore, tignore, n := 0 0 0 66104 0 66104\n",
      "0  /  66104 0.0\n",
      "weight_1_0_10_50\n",
      "precision 0.0\n",
      "recall 0.0\n",
      "tfind, ffind, ffindr, fignore, tignore, n := 0 0 0 66104 0 66104\n",
      "0  /  66104 0.0\n",
      "weight_1_0_10_50\n",
      "precision 0.0\n",
      "recall 0.0\n",
      "tfind, ffind, ffindr, fignore, tignore, n := 0 0 0 66104 0 66104\n",
      "0  /  66104 0.0\n",
      "weight_1_0_10_50\n",
      "precision 0.0\n",
      "recall 0.0\n",
      "tfind, ffind, ffindr, fignore, tignore, n := 0 0 0 66104 0 66104\n",
      "0  /  66104 0.0\n",
      "weight_1_0_10_50\n",
      "precision 0.0\n",
      "recall 0.0\n",
      "tfind, ffind, ffindr, fignore, tignore, n := 0 0 0 66104 0 66104\n",
      "0  /  66104 0.0\n",
      "weight_1_0_10_50\n",
      "precision 0.0\n",
      "recall 0.0\n",
      "tfind, ffind, ffindr, fignore, tignore, n := 0 0 0 66104 0 66104\n",
      "0  /  66104 0.0\n",
      "weight_1_0_10_50\n",
      "precision 0.0\n",
      "recall 0.0\n",
      "tfind, ffind, ffindr, fignore, tignore, n := 0 0 0 66104 0 66104\n"
     ]
    },
    {
     "ename": "KeyError",
     "evalue": "'96dc4ccd-7763-496d-ae9b-2cf0d1cab68c'",
     "output_type": "error",
     "traceback": [
      "\u001b[0;31m---------------------------------------------------------------------------\u001b[0m",
      "\u001b[0;31mKeyError\u001b[0m                                  Traceback (most recent call last)",
      "\u001b[0;32m<ipython-input-39-e7ba0f39ddeb>\u001b[0m in \u001b[0;36m<module>\u001b[0;34m\u001b[0m\n\u001b[1;32m      3\u001b[0m \u001b[0;32mfor\u001b[0m \u001b[0mtr\u001b[0m \u001b[0;32min\u001b[0m \u001b[0mnp\u001b[0m\u001b[0;34m.\u001b[0m\u001b[0marange\u001b[0m\u001b[0;34m(\u001b[0m\u001b[0;36m0\u001b[0m\u001b[0;34m,\u001b[0m \u001b[0;36m1\u001b[0m\u001b[0;34m,\u001b[0m \u001b[0;36m0.01\u001b[0m\u001b[0;34m)\u001b[0m\u001b[0;34m:\u001b[0m\u001b[0;34m\u001b[0m\u001b[0;34m\u001b[0m\u001b[0m\n\u001b[1;32m      4\u001b[0m     \u001b[0mwwm\u001b[0m\u001b[0;34m.\u001b[0m\u001b[0mmake_shy_prediction_by_p_cd\u001b[0m\u001b[0;34m(\u001b[0m\u001b[0minf\u001b[0m\u001b[0;34m,\u001b[0m \u001b[0mmode\u001b[0m\u001b[0;34m=\u001b[0m\u001b[0;34m'test'\u001b[0m\u001b[0;34m,\u001b[0m \u001b[0mtr_shyness\u001b[0m\u001b[0;34m=\u001b[0m\u001b[0mtr\u001b[0m\u001b[0;34m)\u001b[0m\u001b[0;34m\u001b[0m\u001b[0;34m\u001b[0m\u001b[0m\n\u001b[0;32m----> 5\u001b[0;31m     \u001b[0mwwm\u001b[0m\u001b[0;34m.\u001b[0m\u001b[0maccuracy_on_test\u001b[0m\u001b[0;34m(\u001b[0m\u001b[0minf\u001b[0m\u001b[0;34m,\u001b[0m \u001b[0minf\u001b[0m\u001b[0;34m[\u001b[0m\u001b[0;34m'p_cd_card2rubric_test'\u001b[0m\u001b[0;34m]\u001b[0m\u001b[0;34m)\u001b[0m\u001b[0;34m\u001b[0m\u001b[0;34m\u001b[0m\u001b[0m\n\u001b[0m\u001b[1;32m      6\u001b[0m     \u001b[0mprecision\u001b[0m\u001b[0;34m,\u001b[0m \u001b[0mrecall\u001b[0m \u001b[0;34m=\u001b[0m \u001b[0mwwm\u001b[0m\u001b[0;34m.\u001b[0m\u001b[0mcalc_all_scores\u001b[0m\u001b[0;34m(\u001b[0m\u001b[0minf\u001b[0m\u001b[0;34m,\u001b[0m \u001b[0minf\u001b[0m\u001b[0;34m[\u001b[0m\u001b[0;34m'p_cd_card2rubric_test'\u001b[0m\u001b[0;34m]\u001b[0m\u001b[0;34m)\u001b[0m\u001b[0;34m\u001b[0m\u001b[0;34m\u001b[0m\u001b[0m\n\u001b[1;32m      7\u001b[0m     \u001b[0mprecision_list\u001b[0m\u001b[0;34m.\u001b[0m\u001b[0mappend\u001b[0m\u001b[0;34m(\u001b[0m\u001b[0mprecision\u001b[0m\u001b[0;34m)\u001b[0m\u001b[0;34m\u001b[0m\u001b[0;34m\u001b[0m\u001b[0m\n",
      "\u001b[0;32m~/study/git/tm/service_cards/work_with_model.py\u001b[0m in \u001b[0;36maccuracy_on_test\u001b[0;34m(inf, prediction, debug_mode)\u001b[0m\n\u001b[1;32m    136\u001b[0m     \u001b[0;32mfor\u001b[0m \u001b[0mkey\u001b[0m\u001b[0;34m,\u001b[0m \u001b[0mvalue\u001b[0m \u001b[0;32min\u001b[0m \u001b[0minf\u001b[0m\u001b[0;34m[\u001b[0m\u001b[0;34m'card2topic_test'\u001b[0m\u001b[0;34m]\u001b[0m\u001b[0;34m.\u001b[0m\u001b[0mitems\u001b[0m\u001b[0;34m(\u001b[0m\u001b[0;34m)\u001b[0m\u001b[0;34m:\u001b[0m\u001b[0;34m\u001b[0m\u001b[0;34m\u001b[0m\u001b[0m\n\u001b[1;32m    137\u001b[0m         \u001b[0mn\u001b[0m \u001b[0;34m+=\u001b[0m \u001b[0;36m1\u001b[0m\u001b[0;34m\u001b[0m\u001b[0;34m\u001b[0m\u001b[0m\n\u001b[0;32m--> 138\u001b[0;31m         \u001b[0;32mif\u001b[0m \u001b[0mprediction\u001b[0m\u001b[0;34m[\u001b[0m\u001b[0mkey\u001b[0m\u001b[0;34m]\u001b[0m \u001b[0;34m==\u001b[0m \u001b[0minf\u001b[0m\u001b[0;34m[\u001b[0m\u001b[0;34m'card2rubric'\u001b[0m\u001b[0;34m]\u001b[0m\u001b[0;34m[\u001b[0m\u001b[0mkey\u001b[0m\u001b[0;34m]\u001b[0m\u001b[0;34m:\u001b[0m\u001b[0;34m\u001b[0m\u001b[0;34m\u001b[0m\u001b[0m\n\u001b[0m\u001b[1;32m    139\u001b[0m             \u001b[0mpos\u001b[0m \u001b[0;34m+=\u001b[0m \u001b[0;36m1\u001b[0m\u001b[0;34m\u001b[0m\u001b[0;34m\u001b[0m\u001b[0m\n\u001b[1;32m    140\u001b[0m         \u001b[0;32melse\u001b[0m\u001b[0;34m:\u001b[0m\u001b[0;34m\u001b[0m\u001b[0;34m\u001b[0m\u001b[0m\n",
      "\u001b[0;31mKeyError\u001b[0m: '96dc4ccd-7763-496d-ae9b-2cf0d1cab68c'"
     ]
    }
   ],
   "source": [
    "precision_list = []\n",
    "recall_list = []\n",
    "for tr in np.arange(0, 1, 0.01):\n",
    "    wwm.make_shy_prediction_by_p_cd(inf, mode='test', tr_shyness=tr)\n",
    "    wwm.accuracy_on_test(inf, inf['p_cd_card2rubric_test'])\n",
    "    precision, recall = wwm.calc_all_scores(inf, inf['p_cd_card2rubric_test'])\n",
    "    precision_list.append(precision)\n",
    "    recall_list.append(recall)"
   ]
  },
  {
   "cell_type": "code",
   "execution_count": 41,
   "metadata": {},
   "outputs": [
    {
     "data": {
      "text/plain": [
       "91"
      ]
     },
     "execution_count": 41,
     "metadata": {},
     "output_type": "execute_result"
    }
   ],
   "source": [
    "len(recall_list)"
   ]
  },
  {
   "cell_type": "code",
   "execution_count": 42,
   "metadata": {},
   "outputs": [
    {
     "data": {
      "text/plain": [
       "91"
      ]
     },
     "execution_count": 42,
     "metadata": {},
     "output_type": "execute_result"
    }
   ],
   "source": [
    "len(precision_list)"
   ]
  },
  {
   "cell_type": "code",
   "execution_count": 44,
   "metadata": {},
   "outputs": [
    {
     "data": {
      "text/plain": [
       "91"
      ]
     },
     "execution_count": 44,
     "metadata": {},
     "output_type": "execute_result"
    }
   ],
   "source": [
    "len(np.arange(0, 0.91, 0.01))"
   ]
  },
  {
   "cell_type": "code",
   "execution_count": null,
   "metadata": {},
   "outputs": [],
   "source": []
  },
  {
   "cell_type": "code",
   "execution_count": 45,
   "metadata": {},
   "outputs": [
    {
     "data": {
      "image/png": "[encoded data removed]",
      "text/plain": [
       "<Figure size 1440x720 with 1 Axes>"
      ]
     },
     "metadata": {
      "needs_background": "light"
     },
     "output_type": "display_data"
    }
   ],
   "source": [
    "plt.figure(figsize=(20, 10))\n",
    "plt.plot(np.arange(0, 0.91, 0.01), precision_list, label='precision')\n",
    "plt.plot(np.arange(0, 0.91, 0.01), recall_list, label='recall')\n",
    "plt.grid(b=True, axis='both')\n",
    "plt.legend()\n",
    "plt.xticks(ticks=np.arange(0, 1, 0.03))\n",
    "plt.show()"
   ]
  },
  {
   "cell_type": "markdown",
   "metadata": {},
   "source": [
    "#### лучшее значение"
   ]
  },
  {
   "cell_type": "code",
   "execution_count": 46,
   "metadata": {},
   "outputs": [
    {
     "name": "stdout",
     "output_type": "stream",
     "text": [
      "44952  /  66104 0.6800193634273266\n",
      "34128  /  66104 0.516277381096454\n",
      "weight_1_0_10_50\n",
      "precision 0.7772615451005249\n",
      "recall 0.5162773803154462\n",
      "tfind, ffind, ffindr, fignore, tignore, n := 34128 9780 0 22196 0 66104\n"
     ]
    },
    {
     "data": {
      "text/plain": [
       "(0.7772615451005249, 0.5162773803154462)"
      ]
     },
     "execution_count": 46,
     "metadata": {},
     "output_type": "execute_result"
    }
   ],
   "source": [
    "wwm.make_shy_prediction_by_p_cd(inf, mode='test', tr_shyness=0.09)\n",
    "inf['method_topic2rubric_card2rubric_test'] = wwm.make_prediction_by_topic2rubric(inf, mode='test')\n",
    "wwm.accuracy_on_test(inf, inf['method_topic2rubric_card2rubric_test'])\n",
    "wwm.accuracy_on_test(inf, inf['p_cd_card2rubric_test'])\n",
    "wwm.calc_all_scores(inf, inf['p_cd_card2rubric_test'])"
   ]
  },
  {
   "cell_type": "markdown",
   "metadata": {},
   "source": [
    "### для модели ModeStickTM"
   ]
  },
  {
   "cell_type": "code",
   "execution_count": 47,
   "metadata": {},
   "outputs": [
    {
     "data": {
      "image/png": "[encoded data removed]",
      "text/plain": [
       "<Figure size 1080x216 with 1 Axes>"
      ]
     },
     "metadata": {
      "needs_background": "light"
     },
     "output_type": "display_data"
    }
   ],
   "source": [
    "plt.figure(figsize=(15,3))\n",
    "plt.hist(inf['theta_test'].max(), bins=30)\n",
    "plt.grid(b=True, axis='both')\n",
    "plt.xticks(ticks=np.arange(0, 1, 0.05))\n",
    "plt.show()"
   ]
  },
  {
   "cell_type": "code",
   "execution_count": 48,
   "metadata": {},
   "outputs": [
    {
     "name": "stdout",
     "output_type": "stream",
     "text": [
      "weight_1_0_10_50\n",
      "precision 0.7055278263717114\n",
      "recall 0.6800193623986153\n",
      "tfind, ffind, ffindr, fignore, tignore, n := 44952 18762 0 2390 0 66104\n"
     ]
    },
    {
     "data": {
      "text/plain": [
       "(0.7055278263717114, 0.6800193623986153)"
      ]
     },
     "execution_count": 48,
     "metadata": {},
     "output_type": "execute_result"
    }
   ],
   "source": [
    "wwm.make_shy_prediction_by_topic2rubric(inf, mode='test')\n",
    "wwm.calc_all_scores(inf, inf['ModeStickTM_pred_card2rubric_test'])"
   ]
  },
  {
   "cell_type": "code",
   "execution_count": 49,
   "metadata": {},
   "outputs": [
    {
     "name": "stdout",
     "output_type": "stream",
     "text": [
      "weight_1_0_10_50\n",
      "precision 0.7055278263717114\n",
      "recall 0.6800193623986153\n",
      "tfind, ffind, ffindr, fignore, tignore, n := 44952 18762 0 2390 0 66104\n",
      "weight_1_0_10_50\n",
      "precision 0.7062945842269341\n",
      "recall 0.6799891070434632\n",
      "tfind, ffind, ffindr, fignore, tignore, n := 44950 18692 0 2462 0 66104\n",
      "weight_1_0_10_50\n",
      "precision 0.7115732644680532\n",
      "recall 0.6780527643137286\n",
      "tfind, ffind, ffindr, fignore, tignore, n := 44822 18168 0 3114 0 66104\n",
      "weight_1_0_10_50\n",
      "precision 0.71951018948141\n",
      "recall 0.6622140858916039\n",
      "tfind, ffind, ffindr, fignore, tignore, n := 43775 17065 0 5264 0 66104\n",
      "weight_1_0_10_50\n",
      "precision 0.7401316953438577\n",
      "recall 0.6257261275781705\n",
      "tfind, ffind, ffindr, fignore, tignore, n := 41363 14523 0 10218 0 66104\n",
      "weight_1_0_10_50\n",
      "precision 0.7487073003198306\n",
      "recall 0.5782706030221005\n",
      "tfind, ffind, ffindr, fignore, tignore, n := 38226 12830 0 15048 0 66104\n",
      "weight_1_0_10_50\n",
      "precision 0.7651543267324443\n",
      "recall 0.5298922901338916\n",
      "tfind, ffind, ffindr, fignore, tignore, n := 35028 10751 0 20325 0 66104\n",
      "weight_1_0_10_50\n",
      "precision 0.7741257672366658\n",
      "recall 0.4681713656236062\n",
      "tfind, ffind, ffindr, fignore, tignore, n := 30948 9030 0 26126 0 66104\n",
      "weight_1_0_10_50\n",
      "precision 0.7755298910231548\n",
      "recall 0.40129190305988754\n",
      "tfind, ffind, ffindr, fignore, tignore, n := 26527 7678 0 31899 0 66104\n",
      "weight_1_0_10_50\n",
      "precision 0.7677476807991885\n",
      "recall 0.3258955580208526\n",
      "tfind, ffind, ffindr, fignore, tignore, n := 21543 6517 0 38044 0 66104\n",
      "weight_1_0_10_50\n",
      "precision 0.7549262102067464\n",
      "recall 0.26775989309609116\n",
      "tfind, ffind, ffindr, fignore, tignore, n := 17700 5746 0 42658 0 66104\n",
      "weight_1_0_10_50\n",
      "precision 0.7611576340445371\n",
      "recall 0.217233449992083\n",
      "tfind, ffind, ffindr, fignore, tignore, n := 14360 4506 0 47238 0 66104\n",
      "weight_1_0_10_50\n",
      "precision 0.7565496904265019\n",
      "recall 0.16731211399111684\n",
      "tfind, ffind, ffindr, fignore, tignore, n := 11060 3559 0 51485 0 66104\n",
      "weight_1_0_10_50\n",
      "precision 0.7476721688811999\n",
      "recall 0.13483299023533674\n",
      "tfind, ffind, ffindr, fignore, tignore, n := 8913 3008 0 54183 0 66104\n",
      "weight_1_0_10_50\n",
      "precision 0.71821455071249\n",
      "recall 0.09955524612798734\n",
      "tfind, ffind, ffindr, fignore, tignore, n := 6581 2582 0 56941 0 66104\n",
      "weight_1_0_10_50\n",
      "precision 0.6924472889508964\n",
      "recall 0.07503328077720972\n",
      "tfind, ffind, ffindr, fignore, tignore, n := 4960 2203 0 58941 0 66104\n",
      "weight_1_0_10_50\n",
      "precision 0.664292225309731\n",
      "recall 0.055019363344095115\n",
      "tfind, ffind, ffindr, fignore, tignore, n := 3637 1838 0 60629 0 66104\n",
      "weight_1_0_10_50\n",
      "precision 0.6611805867636474\n",
      "recall 0.045579692536639696\n",
      "tfind, ffind, ffindr, fignore, tignore, n := 3013 1544 0 61547 0 66104\n",
      "weight_1_0_10_50\n",
      "precision 0.6282317792501699\n",
      "recall 0.03197991039577044\n",
      "tfind, ffind, ffindr, fignore, tignore, n := 2114 1251 0 62739 0 66104\n",
      "weight_1_0_10_50\n",
      "precision 0.6231287191942844\n",
      "recall 0.02518758316412383\n",
      "tfind, ffind, ffindr, fignore, tignore, n := 1665 1007 0 63432 0 66104\n",
      "weight_1_0_10_50\n",
      "precision 0.6391669748030847\n",
      "recall 0.024143773411376353\n",
      "tfind, ffind, ffindr, fignore, tignore, n := 1596 901 0 63607 0 66104\n",
      "weight_1_0_10_50\n",
      "precision 0.6589303401145137\n",
      "recall 0.019756746914321752\n",
      "tfind, ffind, ffindr, fignore, tignore, n := 1306 676 0 64122 0 66104\n",
      "weight_1_0_10_50\n",
      "precision 0.6737159713766785\n",
      "recall 0.016867360497296136\n",
      "tfind, ffind, ffindr, fignore, tignore, n := 1115 540 0 64449 0 66104\n",
      "weight_1_0_10_50\n",
      "precision 0.6494623190349592\n",
      "recall 0.013705675883901616\n",
      "tfind, ffind, ffindr, fignore, tignore, n := 906 489 0 64709 0 66104\n",
      "weight_1_0_10_50\n",
      "precision 0.5285575480583207\n",
      "recall 0.00825971195652349\n",
      "tfind, ffind, ffindr, fignore, tignore, n := 546 487 0 65071 0 66104\n",
      "weight_1_0_10_50\n",
      "precision 0.4984226605233796\n",
      "recall 0.0071705191710478644\n",
      "tfind, ffind, ffindr, fignore, tignore, n := 474 477 0 65153 0 66104\n",
      "weight_1_0_10_50\n",
      "precision 0.4287598378944805\n",
      "recall 0.004916495212216363\n",
      "tfind, ffind, ffindr, fignore, tignore, n := 325 433 0 65346 0 66104\n",
      "weight_1_0_10_50\n",
      "precision 0.4413892270059006\n",
      "recall 0.004613941660695356\n",
      "tfind, ffind, ffindr, fignore, tignore, n := 305 386 0 65413 0 66104\n",
      "weight_1_0_10_50\n",
      "precision 0.4058218483181767\n",
      "recall 0.0035852595855239322\n",
      "tfind, ffind, ffindr, fignore, tignore, n := 237 347 0 65520 0 66104\n",
      "weight_1_0_10_50\n",
      "precision 0.31827508864987913\n",
      "recall 0.0023447900242878038\n",
      "tfind, ffind, ffindr, fignore, tignore, n := 155 332 0 65617 0 66104\n"
     ]
    }
   ],
   "source": [
    "precision_list = []\n",
    "recall_list = []\n",
    "to = 0.3\n",
    "for tr in np.arange(0, to, 0.01):\n",
    "    wwm.make_shy_prediction_by_topic2rubric(inf, mode='test', tr_shyness=tr)\n",
    "    precision, recall = wwm.calc_all_scores(inf, inf['ModeStickTM_pred_card2rubric_test'])\n",
    "    precision_list.append(precision)\n",
    "    recall_list.append(recall)"
   ]
  },
  {
   "cell_type": "code",
   "execution_count": 50,
   "metadata": {},
   "outputs": [
    {
     "data": {
      "image/png": "[encoded data removed]",
      "text/plain": [
       "<Figure size 1440x720 with 1 Axes>"
      ]
     },
     "metadata": {
      "needs_background": "light"
     },
     "output_type": "display_data"
    }
   ],
   "source": [
    "plt.figure(figsize=(20, 10))\n",
    "plt.plot(np.arange(0, to, 0.01), precision_list, label='precision')\n",
    "plt.plot(np.arange(0, to, 0.01), recall_list, label='recall')\n",
    "plt.grid(b=True, axis='both')\n",
    "plt.legend()\n",
    "plt.xticks(ticks=np.arange(0, to, 0.03))\n",
    "plt.show()"
   ]
  },
  {
   "cell_type": "code",
   "execution_count": null,
   "metadata": {},
   "outputs": [],
   "source": []
  },
  {
   "cell_type": "markdown",
   "metadata": {},
   "source": [
    "## Качество на разметке кастомных услуг"
   ]
  },
  {
   "cell_type": "code",
   "execution_count": 51,
   "metadata": {},
   "outputs": [
    {
     "name": "stdout",
     "output_type": "stream",
     "text": [
      "artm.version() 0.9.2\n",
      "artm.version() 0.9.2\n"
     ]
    },
    {
     "data": {
      "text/plain": [
       "<module 'work_with_model' from '/home/kozlinskii/study/git/tm/service_cards/work_with_model.py'>"
      ]
     },
     "execution_count": 51,
     "metadata": {},
     "output_type": "execute_result"
    }
   ],
   "source": [
    "importlib.reload(data_preparing)\n",
    "importlib.reload(artm_model)\n",
    "importlib.reload(wwm)"
   ]
  },
  {
   "cell_type": "code",
   "execution_count": 52,
   "metadata": {},
   "outputs": [
    {
     "name": "stdout",
     "output_type": "stream",
     "text": [
      "Все карточки подряд\n",
      "ModeStickTM\n",
      "weight_1_0_10_50\n",
      "precision 0.23008829195726374\n",
      "recall 0.4333326111123148\n",
      "tfind, ffind, ffindr, fignore, tignore, n := 26 32 55 2 3 118\n",
      "\n",
      "ProbStickTM\n",
      "weight_1_0_10_50\n",
      "precision 0.38461464497183656\n",
      "recall 0.3333327777787037\n",
      "tfind, ffind, ffindr, fignore, tignore, n := 20 7 25 33 33 118\n",
      "\n",
      "\n",
      " только те карточки, для которых можно найти услугу\n",
      "ModeStickTM\n",
      "weight_1_0_10_50\n",
      "precision 0.4482750891808807\n",
      "recall 0.4333326111123148\n",
      "tfind, ffind, ffindr, fignore, tignore, n := 26 32 0 2 0 60\n",
      "\n",
      "ProbStickTM\n",
      "weight_1_0_10_50\n",
      "precision 0.7407379972666768\n",
      "recall 0.3333327777787037\n",
      "tfind, ffind, ffindr, fignore, tignore, n := 20 7 0 33 0 60\n"
     ]
    }
   ],
   "source": [
    "wwm.measure_score_on_marking(inf, 'marking_by_Anton.csv')"
   ]
  },
  {
   "cell_type": "code",
   "execution_count": 53,
   "metadata": {},
   "outputs": [],
   "source": [
    "ProbStickTM_pred = wwm.make_shy_prediction_by_p_cd(inf, mode='castom', tr_shyness=0.05)\n",
    "ModeStickTM_pred = wwm.make_shy_prediction_by_topic2rubric(inf, mode='castom', tr_shyness=0.0)"
   ]
  },
  {
   "cell_type": "code",
   "execution_count": 54,
   "metadata": {},
   "outputs": [
    {
     "name": "stdout",
     "output_type": "stream",
     "text": [
      "Все карточки подряд\n",
      "ModeStickTM\n",
      "weight_1_0_10_50\n",
      "precision 0.23008829195726374\n",
      "recall 0.4333326111123148\n",
      "tfind, ffind, ffindr, fignore, tignore, n := 26 32 55 2 3 118\n",
      "\n",
      "ProbStickTM\n",
      "weight_1_0_10_50\n",
      "precision 0.24210500831051757\n",
      "recall 0.3833326944455092\n",
      "tfind, ffind, ffindr, fignore, tignore, n := 23 27 45 10 13 118\n",
      "\n",
      "\n",
      " только те карточки, для которых можно найти услугу\n",
      "ModeStickTM\n",
      "weight_1_0_10_50\n",
      "precision 0.4482750891808807\n",
      "recall 0.4333326111123148\n",
      "tfind, ffind, ffindr, fignore, tignore, n := 26 32 0 2 0 60\n",
      "\n",
      "ProbStickTM\n",
      "weight_1_0_10_50\n",
      "precision 0.45999908000184\n",
      "recall 0.3833326944455092\n",
      "tfind, ffind, ffindr, fignore, tignore, n := 23 27 0 10 0 60\n"
     ]
    }
   ],
   "source": [
    "wwm.measure_score_on_marking(inf, 'marking_by_Anton.csv', ProbStickTM_pred=ProbStickTM_pred, ModeStickTM_pred=ModeStickTM_pred)"
   ]
  },
  {
   "cell_type": "code",
   "execution_count": null,
   "metadata": {},
   "outputs": [],
   "source": []
  },
  {
   "cell_type": "code",
   "execution_count": 55,
   "metadata": {
    "scrolled": true
   },
   "outputs": [],
   "source": [
    "marking = pd.read_csv('marking_by_Anton.csv', sep='\\t')\n",
    "marking_remont = marking[marking['card_parent_id'].map(\n",
    "                    lambda x: str(x).find('/remont-i-stroitel_stvo') != -1)]\n",
    "precision_all_list, recall_all_list, precision_on_rubric_cards_list, recall_on_rubric_cards_list = [],[],[],[]\n",
    "to = 0.3\n",
    "for tr in np.arange(0, to, 0.01):\n",
    "    ProbStickTM_pred = wwm.make_shy_prediction_by_p_cd(inf, mode='castom', tr_shyness=tr)\n",
    "    precision_all, recall_all, precision_on_rubric_cards, recall_on_rubric_cards = wwm.measure_pred_score_on_marking(inf, marking_remont, ProbStickTM_pred)\n",
    "    precision_all_list.append(precision_all)\n",
    "    recall_all_list.append(recall_all)\n",
    "    precision_on_rubric_cards_list.append(precision_on_rubric_cards)\n",
    "    recall_on_rubric_cards_list.append(recall_on_rubric_cards)\n",
    "    \n"
   ]
  },
  {
   "cell_type": "code",
   "execution_count": 56,
   "metadata": {},
   "outputs": [
    {
     "data": {
      "image/png": "[encoded data removed]",
      "text/plain": [
       "<Figure size 1440x720 with 1 Axes>"
      ]
     },
     "metadata": {
      "needs_background": "light"
     },
     "output_type": "display_data"
    }
   ],
   "source": [
    "plt.figure(figsize=(20, 10))\n",
    "plt.plot(np.arange(0, to, 0.01), precision_all_list, label='precision_all')\n",
    "plt.plot(np.arange(0, to, 0.01), recall_all_list, label='recall_all')\n",
    "plt.plot(np.arange(0, to, 0.01), precision_on_rubric_cards_list, label='precision_on_rubric_cards')\n",
    "plt.plot(np.arange(0, to, 0.01), recall_on_rubric_cards_list, label='recall_on_rubric_cards')\n",
    "plt.grid(b=True, axis='both')\n",
    "plt.legend()\n",
    "plt.xticks(ticks=np.arange(0, to, 0.01))\n",
    "plt.yticks(ticks=np.arange(0, 1.05, 0.05))\n",
    "plt.show()"
   ]
  },
  {
   "cell_type": "code",
   "execution_count": null,
   "metadata": {},
   "outputs": [],
   "source": []
  },
  {
   "cell_type": "code",
   "execution_count": null,
   "metadata": {},
   "outputs": [],
   "source": []
  },
  {
   "cell_type": "code",
   "execution_count": null,
   "metadata": {},
   "outputs": [],
   "source": []
  },
  {
   "cell_type": "code",
   "execution_count": 57,
   "metadata": {},
   "outputs": [],
   "source": [
    "marking = pd.read_csv('marking_by_Anton.csv', sep='\\t')"
   ]
  },
  {
   "cell_type": "code",
   "execution_count": 58,
   "metadata": {},
   "outputs": [],
   "source": [
    "marking_remont = marking[marking['card_parent_id'].map(lambda x: str(x).find('/remont-i-stroitel_stvo') != -1)]"
   ]
  },
  {
   "cell_type": "code",
   "execution_count": 59,
   "metadata": {},
   "outputs": [
    {
     "data": {
      "text/plain": [
       "17"
      ]
     },
     "execution_count": 59,
     "metadata": {},
     "output_type": "execute_result"
    }
   ],
   "source": [
    "len(set(marking_remont.card_id.values) - set(inf['card2rubric'].keys()))"
   ]
  },
  {
   "cell_type": "code",
   "execution_count": 60,
   "metadata": {},
   "outputs": [
    {
     "data": {
      "text/plain": [
       "118"
      ]
     },
     "execution_count": 60,
     "metadata": {},
     "output_type": "execute_result"
    }
   ],
   "source": [
    "len(set(marking_remont.card_id.values) & set(inf['card2rubric'].keys()))"
   ]
  },
  {
   "cell_type": "code",
   "execution_count": 61,
   "metadata": {
    "scrolled": true
   },
   "outputs": [
    {
     "data": {
      "text/html": [
       "<div>\n",
       "<style scoped>\n",
       "    .dataframe tbody tr th:only-of-type {\n",
       "        vertical-align: middle;\n",
       "    }\n",
       "\n",
       "    .dataframe tbody tr th {\n",
       "        vertical-align: top;\n",
       "    }\n",
       "\n",
       "    .dataframe thead th {\n",
       "        text-align: right;\n",
       "    }\n",
       "</style>\n",
       "<table border=\"1\" class=\"dataframe\">\n",
       "  <thead>\n",
       "    <tr style=\"text-align: right;\">\n",
       "      <th></th>\n",
       "      <th>card_id</th>\n",
       "      <th>card_parent_id</th>\n",
       "      <th>card_title</th>\n",
       "      <th>category_id</th>\n",
       "      <th>category_title</th>\n",
       "      <th>number_id</th>\n",
       "    </tr>\n",
       "  </thead>\n",
       "  <tbody>\n",
       "    <tr>\n",
       "      <th>4</th>\n",
       "      <td>51c2dfe3-383a-4b5e-a377-76d1e3dd06d8</td>\n",
       "      <td>/remont-i-stroitel_stvo/stroitel_stvo-domov-i-...</td>\n",
       "      <td>Кирпичный дом 6 на 6</td>\n",
       "      <td>/remont-i-stroitel_stvo/stroitel_stvo-domov-i-...</td>\n",
       "      <td>Строительство дома из кирпича</td>\n",
       "      <td>1962</td>\n",
       "    </tr>\n",
       "    <tr>\n",
       "      <th>7</th>\n",
       "      <td>aa164525-8e1c-42c0-ab38-bddd17de51b6</td>\n",
       "      <td>/remont-i-stroitel_stvo/remont-kvartir-i-domov</td>\n",
       "      <td>Отделка туалета</td>\n",
       "      <td>NaN</td>\n",
       "      <td>NaN</td>\n",
       "      <td>0</td>\n",
       "    </tr>\n",
       "    <tr>\n",
       "      <th>9</th>\n",
       "      <td>2f8e40e9-be3f-49a9-9e23-66ee8dfc81f8</td>\n",
       "      <td>/remont-i-stroitel_stvo/dveri-i-zamki</td>\n",
       "      <td>Вскрытие замков в квартире , открытие квартирн...</td>\n",
       "      <td>/remont-i-stroitel_stvo/dveri-i-zamki/vskrytie...</td>\n",
       "      <td>Вскрытие дверного замка</td>\n",
       "      <td>1427</td>\n",
       "    </tr>\n",
       "    <tr>\n",
       "      <th>10</th>\n",
       "      <td>5abeaafa-ad33-4cc1-8ac2-9cdaabc9d5d8</td>\n",
       "      <td>/remont-i-stroitel_stvo/remont-kvartir-i-domov</td>\n",
       "      <td>Капитальный ремонт однокомнатной квартиры</td>\n",
       "      <td>/remont-i-stroitel_stvo/remont-kvartir-i-domov...</td>\n",
       "      <td>Капитальный ремонт квартиры</td>\n",
       "      <td>1818</td>\n",
       "    </tr>\n",
       "    <tr>\n",
       "      <th>12</th>\n",
       "      <td>a9b90d05-c6d6-4a7d-8bb1-aea7ba472bf0</td>\n",
       "      <td>/remont-i-stroitel_stvo/okna-i-balkony</td>\n",
       "      <td>Установка алюминиевых дверей</td>\n",
       "      <td>/remont-i-stroitelstvo/okna-i-balkonyi/ustanov...</td>\n",
       "      <td>Установка балконной двери</td>\n",
       "      <td>4239</td>\n",
       "    </tr>\n",
       "  </tbody>\n",
       "</table>\n",
       "</div>"
      ],
      "text/plain": [
       "                                 card_id  \\\n",
       "4   51c2dfe3-383a-4b5e-a377-76d1e3dd06d8   \n",
       "7   aa164525-8e1c-42c0-ab38-bddd17de51b6   \n",
       "9   2f8e40e9-be3f-49a9-9e23-66ee8dfc81f8   \n",
       "10  5abeaafa-ad33-4cc1-8ac2-9cdaabc9d5d8   \n",
       "12  a9b90d05-c6d6-4a7d-8bb1-aea7ba472bf0   \n",
       "\n",
       "                                       card_parent_id  \\\n",
       "4   /remont-i-stroitel_stvo/stroitel_stvo-domov-i-...   \n",
       "7      /remont-i-stroitel_stvo/remont-kvartir-i-domov   \n",
       "9               /remont-i-stroitel_stvo/dveri-i-zamki   \n",
       "10     /remont-i-stroitel_stvo/remont-kvartir-i-domov   \n",
       "12             /remont-i-stroitel_stvo/okna-i-balkony   \n",
       "\n",
       "                                           card_title  \\\n",
       "4                                Кирпичный дом 6 на 6   \n",
       "7                                     Отделка туалета   \n",
       "9   Вскрытие замков в квартире , открытие квартирн...   \n",
       "10          Капитальный ремонт однокомнатной квартиры   \n",
       "12                       Установка алюминиевых дверей   \n",
       "\n",
       "                                          category_id  \\\n",
       "4   /remont-i-stroitel_stvo/stroitel_stvo-domov-i-...   \n",
       "7                                                 NaN   \n",
       "9   /remont-i-stroitel_stvo/dveri-i-zamki/vskrytie...   \n",
       "10  /remont-i-stroitel_stvo/remont-kvartir-i-domov...   \n",
       "12  /remont-i-stroitelstvo/okna-i-balkonyi/ustanov...   \n",
       "\n",
       "                   category_title  number_id  \n",
       "4   Строительство дома из кирпича       1962  \n",
       "7                             NaN          0  \n",
       "9         Вскрытие дверного замка       1427  \n",
       "10    Капитальный ремонт квартиры       1818  \n",
       "12      Установка балконной двери       4239  "
      ]
     },
     "execution_count": 61,
     "metadata": {},
     "output_type": "execute_result"
    }
   ],
   "source": [
    "marking_remont.head()"
   ]
  },
  {
   "cell_type": "code",
   "execution_count": 62,
   "metadata": {},
   "outputs": [],
   "source": [
    "marking_remont_rubric = marking_remont[marking_remont.category_id.notna()]"
   ]
  },
  {
   "cell_type": "code",
   "execution_count": 63,
   "metadata": {},
   "outputs": [
    {
     "name": "stdout",
     "output_type": "stream",
     "text": [
      "weight_1_0_10_50\n",
      "precision 0.23008829195726374\n",
      "recall 0.4333326111123148\n",
      "tfind, ffind, ffindr, fignore, tignore, n := 26 32 55 2 3 118\n"
     ]
    },
    {
     "data": {
      "text/plain": [
       "(0.23008829195726374, 0.4333326111123148)"
      ]
     },
     "execution_count": 63,
     "metadata": {},
     "output_type": "execute_result"
    }
   ],
   "source": [
    "wwm.calc_all_scores_on_marking(inf, marking_remont, inf['method_topic2rubric_card2rubric_castom'])"
   ]
  },
  {
   "cell_type": "code",
   "execution_count": 64,
   "metadata": {},
   "outputs": [
    {
     "name": "stdout",
     "output_type": "stream",
     "text": [
      "weight_1_0_10_50\n",
      "precision 0.4482750891808807\n",
      "recall 0.4333326111123148\n",
      "tfind, ffind, ffindr, fignore, tignore, n := 26 32 0 2 0 60\n"
     ]
    },
    {
     "data": {
      "text/plain": [
       "(0.4482750891808807, 0.4333326111123148)"
      ]
     },
     "execution_count": 64,
     "metadata": {},
     "output_type": "execute_result"
    }
   ],
   "source": [
    "wwm.calc_all_scores_on_marking(inf, marking_remont_rubric, inf['method_topic2rubric_card2rubric_castom'])"
   ]
  },
  {
   "cell_type": "code",
   "execution_count": 65,
   "metadata": {},
   "outputs": [
    {
     "name": "stdout",
     "output_type": "stream",
     "text": [
      "weight_1_0_10_50\n",
      "precision 0.31827508864987913\n",
      "recall 0.0023447900242878038\n",
      "tfind, ffind, ffindr, fignore, tignore, n := 155 332 0 65617 0 66104\n"
     ]
    }
   ],
   "source": [
    "wwm.make_shy_prediction_by_topic2rubric(inf, mode='test', tr_shyness=tr)\n",
    "precision, recall = wwm.calc_all_scores(inf, inf['ModeStickTM_pred_card2rubric_test'])"
   ]
  },
  {
   "cell_type": "code",
   "execution_count": 66,
   "metadata": {},
   "outputs": [
    {
     "name": "stdout",
     "output_type": "stream",
     "text": [
      "weight_1_0_10_50\n",
      "precision 0.7772615451005249\n",
      "recall 0.5162773803154462\n",
      "tfind, ffind, ffindr, fignore, tignore, n := 34128 9780 0 22196 0 66104\n"
     ]
    },
    {
     "data": {
      "text/plain": [
       "(0.7772615451005249, 0.5162773803154462)"
      ]
     },
     "execution_count": 66,
     "metadata": {},
     "output_type": "execute_result"
    }
   ],
   "source": [
    "wwm.make_shy_prediction_by_p_cd(inf, mode='test', tr_shyness=0.09)\n",
    "wwm.calc_all_scores(inf, inf['p_cd_card2rubric_test'])"
   ]
  },
  {
   "cell_type": "code",
   "execution_count": 67,
   "metadata": {},
   "outputs": [],
   "source": [
    "_ = wwm.make_shy_prediction_by_topic2rubric(inf, mode='castom', tr_shyness=0.0)"
   ]
  },
  {
   "cell_type": "code",
   "execution_count": 68,
   "metadata": {},
   "outputs": [],
   "source": [
    "_ = wwm.make_shy_prediction_by_p_cd(inf, mode='castom', tr_shyness=0.09)"
   ]
  },
  {
   "cell_type": "code",
   "execution_count": null,
   "metadata": {},
   "outputs": [],
   "source": []
  },
  {
   "cell_type": "code",
   "execution_count": null,
   "metadata": {},
   "outputs": [],
   "source": []
  },
  {
   "cell_type": "markdown",
   "metadata": {},
   "source": [
    "### Лучшая модель с декорелированными темами"
   ]
  },
  {
   "cell_type": "code",
   "execution_count": 3,
   "metadata": {
    "collapsed": true
   },
   "outputs": [
    {
     "ename": "NameError",
     "evalue": "name 'scoreModeStick' is not defined",
     "output_type": "error",
     "traceback": [
      "\u001b[0;31m---------------------------------------------------------------------------\u001b[0m",
      "\u001b[0;31mNameError\u001b[0m                                 Traceback (most recent call last)",
      "\u001b[0;32m<ipython-input-3-8e59a3565a4d>\u001b[0m in \u001b[0;36m<module>\u001b[0;34m\u001b[0m\n\u001b[1;32m     30\u001b[0m \u001b[0mwwm\u001b[0m\u001b[0;34m.\u001b[0m\u001b[0mmake_prediction_by_p_cd\u001b[0m\u001b[0;34m(\u001b[0m\u001b[0minf_dec_8000\u001b[0m\u001b[0;34m,\u001b[0m \u001b[0mmode\u001b[0m\u001b[0;34m=\u001b[0m\u001b[0;34m'test'\u001b[0m\u001b[0;34m)\u001b[0m\u001b[0;34m\u001b[0m\u001b[0;34m\u001b[0m\u001b[0m\n\u001b[1;32m     31\u001b[0m \u001b[0minf_dec_8000\u001b[0m\u001b[0;34m[\u001b[0m\u001b[0;34m'method_topic2rubric_card2rubric_test'\u001b[0m\u001b[0;34m]\u001b[0m \u001b[0;34m=\u001b[0m \u001b[0mwwm\u001b[0m\u001b[0;34m.\u001b[0m\u001b[0mmake_prediction_by_topic2rubric\u001b[0m\u001b[0;34m(\u001b[0m\u001b[0minf_dec_8000\u001b[0m\u001b[0;34m,\u001b[0m \u001b[0mmode\u001b[0m\u001b[0;34m=\u001b[0m\u001b[0;34m'test'\u001b[0m\u001b[0;34m)\u001b[0m\u001b[0;34m\u001b[0m\u001b[0;34m\u001b[0m\u001b[0m\n\u001b[0;32m---> 32\u001b[0;31m \u001b[0mscoreModeStick\u001b[0m\u001b[0;34m.\u001b[0m\u001b[0mappend\u001b[0m\u001b[0;34m(\u001b[0m\u001b[0mwwm\u001b[0m\u001b[0;34m.\u001b[0m\u001b[0maccuracy_on_test\u001b[0m\u001b[0;34m(\u001b[0m\u001b[0minf_dec_8000\u001b[0m\u001b[0;34m,\u001b[0m \u001b[0minf_dec_8000\u001b[0m\u001b[0;34m[\u001b[0m\u001b[0;34m'method_topic2rubric_card2rubric_test'\u001b[0m\u001b[0;34m]\u001b[0m\u001b[0;34m)\u001b[0m\u001b[0;34m)\u001b[0m\u001b[0;34m\u001b[0m\u001b[0;34m\u001b[0m\u001b[0m\n\u001b[0m\u001b[1;32m     33\u001b[0m \u001b[0mscoreProbStick\u001b[0m\u001b[0;34m.\u001b[0m\u001b[0mappend\u001b[0m\u001b[0;34m(\u001b[0m\u001b[0mwwm\u001b[0m\u001b[0;34m.\u001b[0m\u001b[0maccuracy_on_test\u001b[0m\u001b[0;34m(\u001b[0m\u001b[0minf_dec_8000\u001b[0m\u001b[0;34m,\u001b[0m \u001b[0minf_dec_8000\u001b[0m\u001b[0;34m[\u001b[0m\u001b[0;34m'p_cd_card2rubric_test'\u001b[0m\u001b[0;34m]\u001b[0m\u001b[0;34m)\u001b[0m\u001b[0;34m)\u001b[0m\u001b[0;34m\u001b[0m\u001b[0;34m\u001b[0m\u001b[0m\n",
      "\u001b[0;31mNameError\u001b[0m: name 'scoreModeStick' is not defined"
     ]
    }
   ],
   "source": [
    "inf_dec_8000 = {}\n",
    "inf_dec_8000['exp_name'] = 'weight_1_0_10_50'\n",
    "inf_dec_8000['test_size'] = 0.1\n",
    "inf_dec_8000['num_collection_passes'] = 15\n",
    "inf_dec_8000['topic_number'] = 750\n",
    "inf_dec_8000['data_path'] = \"service_cards_tokenised_remont_only\"\n",
    "\n",
    "inf_dec_8000['docs'] = data_preparing.read_and_prepared(inf_dec_8000['data_path'])\n",
    "inf_dec_8000['path_train'], inf_dec_8000['path_test'] = data_preparing.form_test_train_set(\n",
    "                docs=inf_dec_8000['docs'], name=inf_dec_8000['exp_name'], test_size=inf_dec_8000['test_size'])\n",
    "inf_dec_8000['path_castom'] = data_preparing.form_castom_set(inf_dec_8000['docs'], name=inf_dec_8000['exp_name'])\n",
    "inf_dec_8000['model'], inf_dec_8000['theta_train'] = artm_model.create_and_learn_ARTM_decorPhi_modal(\n",
    "                                            inf_dec_8000['path_train'], \n",
    "                                            topic_number=inf_dec_8000['topic_number'], \n",
    "                                            num_collection_passes=inf_dec_8000['num_collection_passes'], \n",
    "                                            weigths=[1., 0., 10., 50.],\n",
    "                                            decorTau=8000\n",
    "                                         )\n",
    "\n",
    "inf_dec_8000['theta_test'] = wwm.get_theta_from_vw(inf_dec_8000, inf_dec_8000['path_test'])\n",
    "inf_dec_8000['theta_castom'] = wwm.get_theta_from_vw(inf_dec_8000, inf_dec_8000['path_castom'])\n",
    "clear_output(True)\n",
    "\n",
    "wwm.make_docs_dicts(inf_dec_8000)\n",
    "wwm.form_card2topic(inf_dec_8000)\n",
    "wwm.get_topic2rubric(inf_dec_8000)\n",
    "#wwm.measure_accuracy_on_test(inf_dec_8000)\n",
    "wwm.make_prediction_by_p_cd(inf_dec_8000, mode='castom')\n",
    "inf_dec_8000['method_topic2rubric_card2rubric_castom'] = wwm.make_prediction_by_topic2rubric(inf_dec_8000, mode='castom')\n",
    "wwm.make_prediction_by_p_cd(inf_dec_8000, mode='test')\n",
    "inf_dec_8000['method_topic2rubric_card2rubric_test'] = wwm.make_prediction_by_topic2rubric(inf_dec_8000, mode='test')"
   ]
  },
  {
   "cell_type": "code",
   "execution_count": 5,
   "metadata": {},
   "outputs": [
    {
     "data": {
      "image/png": "[encoded data removed]",
      "text/plain": [
       "<Figure size 1080x216 with 1 Axes>"
      ]
     },
     "metadata": {
      "needs_background": "light"
     },
     "output_type": "display_data"
    }
   ],
   "source": [
    "plt.figure(figsize=(15,3))\n",
    "plt.hist(inf_dec_8000['p_cd_test'].max(), bins=30)\n",
    "plt.grid(b=True, axis='both')\n",
    "plt.xticks(ticks=np.arange(0, 1, 0.05))\n",
    "plt.show()"
   ]
  },
  {
   "cell_type": "code",
   "execution_count": 6,
   "metadata": {},
   "outputs": [
    {
     "name": "stdout",
     "output_type": "stream",
     "text": [
      "50490  /  66104 0.7637964419702288\n",
      "weight_1_0_10_50\n",
      "precision 0.763796440814782\n",
      "recall 0.763796440814782\n",
      "tfind, ffind, ffindr, fignore, tignore, n := 50490 15614 0 0 0 66104\n",
      "50490  /  66104 0.7637964419702288\n",
      "weight_1_0_10_50\n",
      "precision 0.763796440814782\n",
      "recall 0.763796440814782\n",
      "tfind, ffind, ffindr, fignore, tignore, n := 50490 15614 0 0 0 66104\n",
      "50487  /  66104 0.7637510589374319\n",
      "weight_1_0_10_50\n",
      "precision 0.7645259464171207\n",
      "recall 0.7637510577820539\n",
      "tfind, ffind, ffindr, fignore, tignore, n := 50487 15550 0 67 0 66104\n",
      "50433  /  66104 0.7629341643470894\n",
      "weight_1_0_10_50\n",
      "precision 0.7676022027219838\n",
      "recall 0.7629341631929472\n",
      "tfind, ffind, ffindr, fignore, tignore, n := 50433 15269 0 402 0 66104\n",
      "50319  /  66104 0.7612096091008108\n",
      "weight_1_0_10_50\n",
      "precision 0.7726763190076067\n",
      "recall 0.7612096079492774\n",
      "tfind, ffind, ffindr, fignore, tignore, n := 50319 14804 0 981 0 66104\n",
      "50172  /  66104 0.7589858404937674\n",
      "weight_1_0_10_50\n",
      "precision 0.7780896686185238\n",
      "recall 0.758985839345598\n",
      "tfind, ffind, ffindr, fignore, tignore, n := 50172 14309 0 1623 0 66104\n",
      "49982  /  66104 0.7561115817499697\n",
      "weight_1_0_10_50\n",
      "precision 0.7840559691534543\n",
      "recall 0.7561115806061485\n",
      "tfind, ffind, ffindr, fignore, tignore, n := 49982 13766 0 2356 0 66104\n",
      "49698  /  66104 0.7518153213118722\n",
      "weight_1_0_10_50\n",
      "precision 0.7898224801903557\n",
      "recall 0.7518153201745502\n",
      "tfind, ffind, ffindr, fignore, tignore, n := 49698 13225 0 3181 0 66104\n",
      "49467  /  66104 0.7483208277865182\n",
      "weight_1_0_10_50\n",
      "precision 0.7962623127997839\n",
      "recall 0.7483208266544825\n",
      "tfind, ffind, ffindr, fignore, tignore, n := 49467 12657 0 3980 0 66104\n",
      "49076  /  66104 0.7424059058453346\n",
      "weight_1_0_10_50\n",
      "precision 0.8044982118545323\n",
      "recall 0.7424059047222469\n",
      "tfind, ffind, ffindr, fignore, tignore, n := 49076 11926 0 5102 0 66104\n",
      "48645  /  66104 0.7358858768001937\n",
      "weight_1_0_10_50\n",
      "precision 0.8123204849169721\n",
      "recall 0.7358858756869692\n",
      "tfind, ffind, ffindr, fignore, tignore, n := 48645 11239 0 6220 0 66104\n",
      "47842  /  66104 0.7237383516882488\n",
      "weight_1_0_10_50\n",
      "precision 0.8210399848617814\n",
      "recall 0.7237383505934007\n",
      "tfind, ffind, ffindr, fignore, tignore, n := 47842 10428 0 7834 0 66104\n",
      "47044  /  66104 0.7116664649642986\n",
      "weight_1_0_10_50\n",
      "precision 0.8299197303873693\n",
      "recall 0.7116664638877126\n",
      "tfind, ffind, ffindr, fignore, tignore, n := 47044 9641 0 9419 0 66104\n",
      "46800  /  66104 0.7079753116301586\n",
      "weight_1_0_10_50\n",
      "precision 0.8393715459513388\n",
      "recall 0.7079753105591563\n",
      "tfind, ffind, ffindr, fignore, tignore, n := 46800 8956 0 10348 0 66104\n",
      "46048  /  66104 0.6965992980757594\n",
      "weight_1_0_10_50\n",
      "precision 0.8463927932241655\n",
      "recall 0.6965992970219664\n",
      "tfind, ffind, ffindr, fignore, tignore, n := 46048 8357 0 11699 0 66104\n",
      "45589  /  66104 0.6896556940578482\n",
      "weight_1_0_10_50\n",
      "precision 0.8519875145265516\n",
      "recall 0.6896556930145593\n",
      "tfind, ffind, ffindr, fignore, tignore, n := 45589 7920 0 12595 0 66104\n",
      "45206  /  66104 0.6838617935374561\n",
      "weight_1_0_10_50\n",
      "precision 0.8558824626909719\n",
      "recall 0.683861792502932\n",
      "tfind, ffind, ffindr, fignore, tignore, n := 45206 7612 0 13286 0 66104\n",
      "44488  /  66104 0.6730001210214208\n",
      "weight_1_0_10_50\n",
      "precision 0.8589909427140026\n",
      "recall 0.6730001200033279\n",
      "tfind, ffind, ffindr, fignore, tignore, n := 44488 7303 0 14313 0 66104\n",
      "43720  /  66104 0.6613820646254387\n",
      "weight_1_0_10_50\n",
      "precision 0.860342009838554\n",
      "recall 0.6613820636249212\n",
      "tfind, ffind, ffindr, fignore, tignore, n := 43720 7097 0 15287 0 66104\n",
      "43211  /  66104 0.6536820767275808\n",
      "weight_1_0_10_50\n",
      "precision 0.8655702879180116\n",
      "recall 0.6536820757387115\n",
      "tfind, ffind, ffindr, fignore, tignore, n := 43211 6711 0 16182 0 66104\n",
      "42189  /  66104 0.6382215902214692\n",
      "weight_1_0_10_50\n",
      "precision 0.870702107420023\n",
      "recall 0.6382215892559882\n",
      "tfind, ffind, ffindr, fignore, tignore, n := 42189 6265 0 17650 0 66104\n",
      "41548  /  66104 0.6285247488805519\n",
      "weight_1_0_10_50\n",
      "precision 0.8723073674736357\n",
      "recall 0.6285247479297399\n",
      "tfind, ffind, ffindr, fignore, tignore, n := 41548 6082 0 18474 0 66104\n",
      "40230  /  66104 0.6085864698051555\n",
      "weight_1_0_10_50\n",
      "precision 0.8789984249279007\n",
      "recall 0.6085864688845055\n",
      "tfind, ffind, ffindr, fignore, tignore, n := 40230 5538 0 20336 0 66104\n",
      "39822  /  66104 0.60241437734479\n",
      "weight_1_0_10_50\n",
      "precision 0.8816223496610013\n",
      "recall 0.602414376433477\n",
      "tfind, ffind, ffindr, fignore, tignore, n := 39822 5347 0 20935 0 66104\n",
      "39178  /  66104 0.5926721529710759\n",
      "weight_1_0_10_50\n",
      "precision 0.8990109894696735\n",
      "recall 0.5926721520745005\n",
      "tfind, ffind, ffindr, fignore, tignore, n := 39178 4401 0 22525 0 66104\n",
      "38250  /  66104 0.5786336681592642\n",
      "weight_1_0_10_50\n",
      "precision 0.8989635457966967\n",
      "recall 0.5786336672839258\n",
      "tfind, ffind, ffindr, fignore, tignore, n := 38250 4299 0 23555 0 66104\n",
      "37547  /  66104 0.5679989108072129\n",
      "weight_1_0_10_50\n",
      "precision 0.908380507794115\n",
      "recall 0.5679989099479624\n",
      "tfind, ffind, ffindr, fignore, tignore, n := 37547 3787 0 24770 0 66104\n",
      "36897  /  66104 0.5581659203679051\n",
      "weight_1_0_10_50\n",
      "precision 0.9176988486352813\n",
      "recall 0.5581659195235297\n",
      "tfind, ffind, ffindr, fignore, tignore, n := 36897 3309 0 25898 0 66104\n",
      "36062  /  66104 0.5455343095727944\n",
      "weight_1_0_10_50\n",
      "precision 0.9205360538084594\n",
      "recall 0.5455343087475276\n",
      "tfind, ffind, ffindr, fignore, tignore, n := 36062 3113 0 26929 0 66104\n",
      "35489  /  66104 0.5368661503086046\n",
      "weight_1_0_10_50\n",
      "precision 0.9251081775582395\n",
      "recall 0.5368661494964507\n",
      "tfind, ffind, ffindr, fignore, tignore, n := 35489 2873 0 27742 0 66104\n",
      "34570  /  66104 0.5229638145951834\n",
      "weight_1_0_10_50\n",
      "precision 0.9372373568192021\n",
      "recall 0.5229638138040605\n",
      "tfind, ffind, ffindr, fignore, tignore, n := 34570 2315 0 29219 0 66104\n",
      "33991  /  66104 0.5142048892654\n",
      "weight_1_0_10_50\n",
      "precision 0.9399905950056952\n",
      "recall 0.5142048884875273\n",
      "tfind, ffind, ffindr, fignore, tignore, n := 33991 2170 0 29943 0 66104\n",
      "33077  /  66104 0.5003781919399733\n",
      "weight_1_0_10_50\n",
      "precision 0.945570449828277\n",
      "recall 0.5003781911830173\n",
      "tfind, ffind, ffindr, fignore, tignore, n := 33077 1904 0 31123 0 66104\n",
      "32453  /  66104 0.49093852111823794\n",
      "weight_1_0_10_50\n",
      "precision 0.9513381967245972\n",
      "recall 0.4909385203755619\n",
      "tfind, ffind, ffindr, fignore, tignore, n := 32453 1660 0 31991 0 66104\n",
      "31927  /  66104 0.4829813627011981\n",
      "weight_1_0_10_50\n",
      "precision 0.9577621090212627\n",
      "recall 0.48298136197055946\n",
      "tfind, ffind, ffindr, fignore, tignore, n := 31927 1408 0 32769 0 66104\n",
      "29762  /  66104 0.45022994069950384\n",
      "weight_1_0_10_50\n",
      "precision 0.9616465767499868\n",
      "recall 0.45022994001841043\n",
      "tfind, ffind, ffindr, fignore, tignore, n := 29762 1187 0 35155 0 66104\n",
      "28674  /  66104 0.4337710274718625\n",
      "weight_1_0_10_50\n",
      "precision 0.9619565185119547\n",
      "recall 0.43377102681566765\n",
      "tfind, ffind, ffindr, fignore, tignore, n := 28674 1134 0 36296 0 66104\n",
      "26676  /  66104 0.4035459276291904\n",
      "weight_1_0_10_50\n",
      "precision 0.9658918061920059\n",
      "recall 0.40354592701871905\n",
      "tfind, ffind, ffindr, fignore, tignore, n := 26676 942 0 38486 0 66104\n",
      "25059  /  66104 0.37908447295171244\n",
      "weight_1_0_10_50\n",
      "precision 0.9639189100130057\n",
      "recall 0.37908447237824566\n",
      "tfind, ffind, ffindr, fignore, tignore, n := 25059 938 0 40107 0 66104\n",
      "23786  /  66104 0.3598269393682682\n",
      "weight_1_0_10_50\n",
      "precision 0.9649884337498947\n",
      "recall 0.3598269388239336\n",
      "tfind, ffind, ffindr, fignore, tignore, n := 23786 863 0 41455 0 66104\n",
      "22962  /  66104 0.3473617330267457\n",
      "weight_1_0_10_50\n",
      "precision 0.9642227220785138\n",
      "recall 0.34736173250126806\n",
      "tfind, ffind, ffindr, fignore, tignore, n := 22962 852 0 42290 0 66104\n",
      "22393  /  66104 0.3387540844729517\n",
      "weight_1_0_10_50\n",
      "precision 0.9655484608246444\n",
      "recall 0.33875408396049544\n",
      "tfind, ffind, ffindr, fignore, tignore, n := 22393 799 0 42912 0 66104\n",
      "21526  /  66104 0.32563838799467504\n",
      "weight_1_0_10_50\n",
      "precision 0.9653347640462139\n",
      "recall 0.32563838750205976\n",
      "tfind, ffind, ffindr, fignore, tignore, n := 21526 773 0 43805 0 66104\n",
      "20891  /  66104 0.31603231271935134\n",
      "weight_1_0_10_50\n",
      "precision 0.9666836288617665\n",
      "recall 0.3160323122412678\n",
      "tfind, ffind, ffindr, fignore, tignore, n := 20891 720 0 44493 0 66104\n",
      "20052  /  66104 0.30334019121384487\n",
      "weight_1_0_10_50\n",
      "precision 0.9697262744475951\n",
      "recall 0.30334019075496155\n",
      "tfind, ffind, ffindr, fignore, tignore, n := 20052 626 0 45426 0 66104\n",
      "19594  /  66104 0.29641171487353263\n",
      "weight_1_0_10_50\n",
      "precision 0.9788679573419196\n",
      "recall 0.29641171442513053\n",
      "tfind, ffind, ffindr, fignore, tignore, n := 19594 423 0 46087 0 66104\n"
     ]
    },
    {
     "name": "stdout",
     "output_type": "stream",
     "text": [
      "19052  /  66104 0.28821251361490985\n",
      "weight_1_0_10_50\n",
      "precision 0.9792351923353454\n",
      "recall 0.2882125131789112\n",
      "tfind, ffind, ffindr, fignore, tignore, n := 19052 404 0 46648 0 66104\n",
      "18454  /  66104 0.2791661624107467\n",
      "weight_1_0_10_50\n",
      "precision 0.9806047027971481\n",
      "recall 0.27916616198843314\n",
      "tfind, ffind, ffindr, fignore, tignore, n := 18454 365 0 47285 0 66104\n",
      "18120  /  66104 0.2741135180927024\n",
      "weight_1_0_10_50\n",
      "precision 0.980678676296592\n",
      "recall 0.27411351767803227\n",
      "tfind, ffind, ffindr, fignore, tignore, n := 18120 357 0 47627 0 66104\n",
      "17296  /  66104 0.26164831175118\n",
      "weight_1_0_10_50\n",
      "precision 0.9804432799702778\n",
      "recall 0.2616483113553668\n",
      "tfind, ffind, ffindr, fignore, tignore, n := 17296 345 0 48463 0 66104\n",
      "16429  /  66104 0.2485326152729033\n",
      "weight_1_0_10_50\n",
      "precision 0.9806601744125817\n",
      "recall 0.24853261489693115\n",
      "tfind, ffind, ffindr, fignore, tignore, n := 16429 324 0 49351 0 66104\n",
      "13697  /  66104 0.20720380007261285\n",
      "weight_1_0_10_50\n",
      "precision 0.9784270235129151\n",
      "recall 0.20720379975916162\n",
      "tfind, ffind, ffindr, fignore, tignore, n := 13697 302 0 52105 0 66104\n",
      "11412  /  66104 0.17263705675904636\n",
      "weight_1_0_10_50\n",
      "precision 0.9743020492247755\n",
      "recall 0.17263705649788658\n",
      "tfind, ffind, ffindr, fignore, tignore, n := 11412 301 0 54391 0 66104\n",
      "9788  /  66104 0.1480697083383759\n",
      "weight_1_0_10_50\n",
      "precision 0.9727688235662014\n",
      "recall 0.1480697081143808\n",
      "tfind, ffind, ffindr, fignore, tignore, n := 9788 274 0 56042 0 66104\n",
      "8918  /  66104 0.13490862882730242\n",
      "weight_1_0_10_50\n",
      "precision 0.9720950406355457\n",
      "recall 0.134908628623217\n",
      "tfind, ffind, ffindr, fignore, tignore, n := 8918 256 0 56930 0 66104\n",
      "8520  /  66104 0.1288878131429263\n",
      "weight_1_0_10_50\n",
      "precision 0.975945006002921\n",
      "recall 0.12888781294794896\n",
      "tfind, ffind, ffindr, fignore, tignore, n := 8520 210 0 57374 0 66104\n",
      "7822  /  66104 0.11832869417886965\n",
      "weight_1_0_10_50\n",
      "precision 0.978239107325674\n",
      "recall 0.11832869399986581\n",
      "tfind, ffind, ffindr, fignore, tignore, n := 7822 174 0 58108 0 66104\n",
      "6830  /  66104 0.10332203800072613\n",
      "weight_1_0_10_50\n",
      "precision 0.9766909627242819\n",
      "recall 0.10332203784442387\n",
      "tfind, ffind, ffindr, fignore, tignore, n := 6830 163 0 59111 0 66104\n",
      "5900  /  66104 0.08925329783371656\n",
      "weight_1_0_10_50\n",
      "precision 0.9737580298108923\n",
      "recall 0.08925329769869705\n",
      "tfind, ffind, ffindr, fignore, tignore, n := 5900 159 0 60045 0 66104\n",
      "5365  /  66104 0.08115999031828634\n",
      "weight_1_0_10_50\n",
      "precision 0.9720963766606926\n",
      "recall 0.08115999019551011\n",
      "tfind, ffind, ffindr, fignore, tignore, n := 5365 154 0 60585 0 66104\n",
      "5023  /  66104 0.07598632457945056\n",
      "weight_1_0_10_50\n",
      "precision 0.9736382831238944\n",
      "recall 0.07598632446450089\n",
      "tfind, ffind, ffindr, fignore, tignore, n := 5023 136 0 60945 0 66104\n",
      "4540  /  66104 0.06867965629916495\n",
      "weight_1_0_10_50\n",
      "precision 0.9715386053597559\n",
      "recall 0.06867965619526857\n",
      "tfind, ffind, ffindr, fignore, tignore, n := 4540 133 0 61431 0 66104\n",
      "3790  /  66104 0.05733389809996369\n",
      "weight_1_0_10_50\n",
      "precision 0.9663436775537053\n",
      "recall 0.05733389801323082\n",
      "tfind, ffind, ffindr, fignore, tignore, n := 3790 132 0 62182 0 66104\n",
      "3730  /  66104 0.05642623744402759\n",
      "weight_1_0_10_50\n",
      "precision 0.9673236263660885\n",
      "recall 0.056426237358667794\n",
      "tfind, ffind, ffindr, fignore, tignore, n := 3730 126 0 62248 0 66104\n",
      "3594  /  66104 0.05436887329057243\n",
      "weight_1_0_10_50\n",
      "precision 0.9692556372908404\n",
      "recall 0.054368873208324946\n",
      "tfind, ffind, ffindr, fignore, tignore, n := 3594 114 0 62396 0 66104\n",
      "3537  /  66104 0.053506595667433134\n",
      "weight_1_0_10_50\n",
      "precision 0.9709030751879474\n",
      "recall 0.053506595586490076\n",
      "tfind, ffind, ffindr, fignore, tignore, n := 3537 106 0 62461 0 66104\n",
      "3404  /  66104 0.05149461454677478\n",
      "weight_1_0_10_50\n",
      "precision 0.9717384821085218\n",
      "recall 0.051494614468875384\n",
      "tfind, ffind, ffindr, fignore, tignore, n := 3404 99 0 62601 0 66104\n",
      "2455  /  66104 0.03713844850538545\n",
      "weight_1_0_10_50\n",
      "precision 0.96729704620579\n",
      "recall 0.0371384484492036\n",
      "tfind, ffind, ffindr, fignore, tignore, n := 2455 83 0 63566 0 66104\n",
      "2360  /  66104 0.03570131913348663\n",
      "weight_1_0_10_50\n",
      "precision 0.9691991388419244\n",
      "recall 0.03570131907947882\n",
      "tfind, ffind, ffindr, fignore, tignore, n := 2360 75 0 63669 0 66104\n",
      "2109  /  66104 0.03190427205615394\n",
      "weight_1_0_10_50\n",
      "precision 0.9709944304330372\n",
      "recall 0.031904272007890186\n",
      "tfind, ffind, ffindr, fignore, tignore, n := 2109 63 0 63932 0 66104\n",
      "2109  /  66104 0.03190427205615394\n",
      "weight_1_0_10_50\n",
      "precision 0.9777468253246719\n",
      "recall 0.031904272007890186\n",
      "tfind, ffind, ffindr, fignore, tignore, n := 2109 48 0 63947 0 66104\n",
      "1751  /  66104 0.026488563475735204\n",
      "weight_1_0_10_50\n",
      "precision 0.9738597901079094\n",
      "recall 0.026488563435664157\n",
      "tfind, ffind, ffindr, fignore, tignore, n := 1751 47 0 64306 0 66104\n",
      "1280  /  66104 0.019363427326636814\n",
      "weight_1_0_10_50\n",
      "precision 0.9682298813744417\n",
      "recall 0.019363427297344443\n",
      "tfind, ffind, ffindr, fignore, tignore, n := 1280 42 0 64782 0 66104\n",
      "1148  /  66104 0.01736657388357739\n",
      "weight_1_0_10_50\n",
      "precision 0.9647058012852268\n",
      "recall 0.0173665738573058\n",
      "tfind, ffind, ffindr, fignore, tignore, n := 1148 42 0 64914 0 66104\n",
      "1138  /  66104 0.017215297107588044\n",
      "weight_1_0_10_50\n",
      "precision 0.9644066979316358\n",
      "recall 0.017215297081545296\n",
      "tfind, ffind, ffindr, fignore, tignore, n := 1138 42 0 64924 0 66104\n",
      "1111  /  66104 0.0168068498124168\n",
      "weight_1_0_10_50\n",
      "precision 0.9644096385061078\n",
      "recall 0.016806849786991936\n",
      "tfind, ffind, ffindr, fignore, tignore, n := 1111 41 0 64952 0 66104\n",
      "941  /  66104 0.014235144620597846\n",
      "weight_1_0_10_50\n",
      "precision 0.9621675907804099\n",
      "recall 0.014235144599063377\n",
      "tfind, ffind, ffindr, fignore, tignore, n := 941 37 0 65126 0 66104\n",
      "793  /  66104 0.011996248335955464\n",
      "weight_1_0_10_50\n",
      "precision 0.9554215716359552\n",
      "recall 0.011996248317807925\n",
      "tfind, ffind, ffindr, fignore, tignore, n := 793 37 0 65274 0 66104\n",
      "793  /  66104 0.011996248335955464\n",
      "weight_1_0_10_50\n",
      "precision 0.9565740703770723\n",
      "recall 0.011996248317807925\n",
      "tfind, ffind, ffindr, fignore, tignore, n := 793 36 0 65275 0 66104\n",
      "791  /  66104 0.011965992980757595\n",
      "weight_1_0_10_50\n",
      "precision 0.9564690500037425\n",
      "recall 0.011965992962655825\n",
      "tfind, ffind, ffindr, fignore, tignore, n := 791 36 0 65277 0 66104\n",
      "791  /  66104 0.011965992980757595\n",
      "weight_1_0_10_50\n",
      "precision 0.9564690500037425\n",
      "recall 0.011965992962655825\n",
      "tfind, ffind, ffindr, fignore, tignore, n := 791 36 0 65277 0 66104\n",
      "787  /  66104 0.011905482270361855\n",
      "weight_1_0_10_50\n",
      "precision 0.9562574779760051\n",
      "recall 0.011905482252351624\n",
      "tfind, ffind, ffindr, fignore, tignore, n := 787 36 0 65281 0 66104\n",
      "787  /  66104 0.011905482270361855\n",
      "weight_1_0_10_50\n",
      "precision 0.9562574779760051\n",
      "recall 0.011905482252351624\n",
      "tfind, ffind, ffindr, fignore, tignore, n := 787 36 0 65281 0 66104\n",
      "787  /  66104 0.011905482270361855\n",
      "weight_1_0_10_50\n",
      "precision 0.9562574779760051\n",
      "recall 0.011905482252351624\n",
      "tfind, ffind, ffindr, fignore, tignore, n := 787 36 0 65281 0 66104\n",
      "787  /  66104 0.011905482270361855\n",
      "weight_1_0_10_50\n",
      "precision 0.9574208080996585\n",
      "recall 0.011905482252351624\n",
      "tfind, ffind, ffindr, fignore, tignore, n := 787 35 0 65282 0 66104\n",
      "693  /  66104 0.010483480576061964\n",
      "weight_1_0_10_50\n",
      "precision 0.9519229461644305\n",
      "recall 0.010483480560202891\n",
      "tfind, ffind, ffindr, fignore, tignore, n := 693 35 0 65376 0 66104\n",
      "648  /  66104 0.009802735084109887\n",
      "weight_1_0_10_50\n",
      "precision 0.948755351573155\n",
      "recall 0.009802735069280625\n",
      "tfind, ffind, ffindr, fignore, tignore, n := 648 35 0 65421 0 66104\n",
      "647  /  66104 0.009787607406510952\n",
      "weight_1_0_10_50\n",
      "precision 0.9486802128034879\n",
      "recall 0.009787607391704575\n",
      "tfind, ffind, ffindr, fignore, tignore, n := 647 35 0 65422 0 66104\n",
      "647  /  66104 0.009787607406510952\n",
      "weight_1_0_10_50\n",
      "precision 0.9486802128034879\n",
      "recall 0.009787607391704575\n",
      "tfind, ffind, ffindr, fignore, tignore, n := 647 35 0 65422 0 66104\n",
      "647  /  66104 0.009787607406510952\n",
      "weight_1_0_10_50\n",
      "precision 0.9486802128034879\n",
      "recall 0.009787607391704575\n",
      "tfind, ffind, ffindr, fignore, tignore, n := 647 35 0 65422 0 66104\n",
      "505  /  66104 0.007639477187462181\n",
      "weight_1_0_10_50\n",
      "precision 0.9351850120027756\n",
      "recall 0.007639477175905425\n",
      "tfind, ffind, ffindr, fignore, tignore, n := 505 35 0 65564 0 66104\n",
      "505  /  66104 0.007639477187462181\n",
      "weight_1_0_10_50\n",
      "precision 0.9369200488088963\n",
      "recall 0.007639477175905425\n",
      "tfind, ffind, ffindr, fignore, tignore, n := 505 34 0 65565 0 66104\n",
      "505  /  66104 0.007639477187462181\n",
      "weight_1_0_10_50\n",
      "precision 0.9386615355647704\n",
      "recall 0.007639477175905425\n",
      "tfind, ffind, ffindr, fignore, tignore, n := 505 33 0 65566 0 66104\n"
     ]
    },
    {
     "name": "stdout",
     "output_type": "stream",
     "text": [
      "505  /  66104 0.007639477187462181\n",
      "weight_1_0_10_50\n",
      "precision 0.9474669892182009\n",
      "recall 0.007639477175905425\n",
      "tfind, ffind, ffindr, fignore, tignore, n := 505 28 0 65571 0 66104\n",
      "440  /  66104 0.006656178143531405\n",
      "weight_1_0_10_50\n",
      "precision 0.9401707392797566\n",
      "recall 0.006656178133462153\n",
      "tfind, ffind, ffindr, fignore, tignore, n := 440 28 0 65636 0 66104\n",
      "396  /  66104 0.005990560329178264\n",
      "weight_1_0_10_50\n",
      "precision 0.9339620438768765\n",
      "recall 0.005990560320115938\n",
      "tfind, ffind, ffindr, fignore, tignore, n := 396 28 0 65680 0 66104\n",
      "395  /  66104 0.00597543265157933\n",
      "weight_1_0_10_50\n",
      "precision 0.9705157320600167\n",
      "recall 0.005975432642539887\n",
      "tfind, ffind, ffindr, fignore, tignore, n := 395 12 0 65697 0 66104\n",
      "395  /  66104 0.00597543265157933\n",
      "weight_1_0_10_50\n",
      "precision 0.9705157320600167\n",
      "recall 0.005975432642539887\n",
      "tfind, ffind, ffindr, fignore, tignore, n := 395 12 0 65697 0 66104\n",
      "395  /  66104 0.00597543265157933\n",
      "weight_1_0_10_50\n",
      "precision 0.9705157320600167\n",
      "recall 0.005975432642539887\n",
      "tfind, ffind, ffindr, fignore, tignore, n := 395 12 0 65697 0 66104\n",
      "395  /  66104 0.00597543265157933\n",
      "weight_1_0_10_50\n",
      "precision 0.9705157320600167\n",
      "recall 0.005975432642539887\n",
      "tfind, ffind, ffindr, fignore, tignore, n := 395 12 0 65697 0 66104\n"
     ]
    }
   ],
   "source": [
    "precision_list = []\n",
    "recall_list = []\n",
    "for tr in np.arange(0, 1, 0.01):\n",
    "    wwm.make_shy_prediction_by_p_cd(inf_dec_8000, mode='test', tr_shyness=tr)\n",
    "    wwm.accuracy_on_test(inf_dec_8000, inf_dec_8000['p_cd_card2rubric_test'])\n",
    "    precision, recall = wwm.calc_all_scores(inf_dec_8000, inf_dec_8000['p_cd_card2rubric_test'])\n",
    "    precision_list.append(precision)\n",
    "    recall_list.append(recall)"
   ]
  },
  {
   "cell_type": "code",
   "execution_count": 7,
   "metadata": {},
   "outputs": [
    {
     "data": {
      "image/png": "[encoded data removed]",
      "text/plain": [
       "<Figure size 1440x720 with 1 Axes>"
      ]
     },
     "metadata": {
      "needs_background": "light"
     },
     "output_type": "display_data"
    }
   ],
   "source": [
    "plt.figure(figsize=(20, 10))\n",
    "plt.plot(np.arange(0, 1, 0.01), precision_list, label='precision')\n",
    "plt.plot(np.arange(0, 1, 0.01), recall_list, label='recall')\n",
    "plt.grid(b=True, axis='both')\n",
    "plt.legend()\n",
    "plt.xticks(ticks=np.arange(0, 1, 0.03))\n",
    "plt.show()"
   ]
  },
  {
   "cell_type": "code",
   "execution_count": 8,
   "metadata": {},
   "outputs": [],
   "source": [
    "marking = pd.read_csv('marking_by_Anton.csv', sep='\\t')\n",
    "marking_remont = marking[marking['card_parent_id'].map(\n",
    "                    lambda x: str(x).find('/remont-i-stroitel_stvo') != -1)]\n",
    "precision_all_list, recall_all_list, precision_on_rubric_cards_list, recall_on_rubric_cards_list = [],[],[],[]\n",
    "to = 1.0\n",
    "for tr in np.arange(0, to, 0.01):\n",
    "    ProbStickTM_pred = wwm.make_shy_prediction_by_p_cd(inf_dec_8000, mode='castom', tr_shyness=tr)\n",
    "    precision_all, recall_all, precision_on_rubric_cards, recall_on_rubric_cards = wwm.measure_pred_score_on_marking(inf_dec_8000, marking_remont, ProbStickTM_pred)\n",
    "    precision_all_list.append(precision_all)\n",
    "    recall_all_list.append(recall_all)\n",
    "    precision_on_rubric_cards_list.append(precision_on_rubric_cards)\n",
    "    recall_on_rubric_cards_list.append(recall_on_rubric_cards)"
   ]
  },
  {
   "cell_type": "code",
   "execution_count": 10,
   "metadata": {},
   "outputs": [
    {
     "data": {
      "image/png": "[encoded data removed]",
      "text/plain": [
       "<Figure size 1440x720 with 1 Axes>"
      ]
     },
     "metadata": {
      "needs_background": "light"
     },
     "output_type": "display_data"
    }
   ],
   "source": [
    "plt.figure(figsize=(20, 10))\n",
    "plt.plot(np.arange(0, to, 0.01), precision_all_list, label='precision_all')\n",
    "plt.plot(np.arange(0, to, 0.01), recall_all_list, label='recall_all')\n",
    "plt.plot(np.arange(0, to, 0.01), precision_on_rubric_cards_list, label='precision_on_rubric_cards')\n",
    "plt.plot(np.arange(0, to, 0.01), recall_on_rubric_cards_list, label='recall_on_rubric_cards')\n",
    "plt.grid(b=True, axis='both')\n",
    "plt.legend()\n",
    "plt.xticks(ticks=np.arange(0, to, 0.05))\n",
    "plt.yticks(ticks=np.arange(0, 1.05, 0.05))\n",
    "plt.show()"
   ]
  },
  {
   "cell_type": "code",
   "execution_count": 12,
   "metadata": {},
   "outputs": [
    {
     "data": {
      "text/plain": [
       "0.36666605555657406"
      ]
     },
     "execution_count": 12,
     "metadata": {},
     "output_type": "execute_result"
    }
   ],
   "source": [
    "precision_on_rubric_cards_list[0]"
   ]
  },
  {
   "cell_type": "code",
   "execution_count": null,
   "metadata": {},
   "outputs": [],
   "source": []
  },
  {
   "cell_type": "code",
   "execution_count": null,
   "metadata": {},
   "outputs": [],
   "source": []
  },
  {
   "cell_type": "code",
   "execution_count": null,
   "metadata": {},
   "outputs": [],
   "source": []
  }
 ],
 "metadata": {
  "kernelspec": {
   "display_name": "bigartm_9",
   "language": "python",
   "name": "bigartm_9"
  },
  "language_info": {
   "codemirror_mode": {
    "name": "ipython",
    "version": 3
   },
   "file_extension": ".py",
   "mimetype": "text/x-python",
   "name": "python",
   "nbconvert_exporter": "python",
   "pygments_lexer": "ipython3",
   "version": "3.7.6"
  }
 },
 "nbformat": 4,
 "nbformat_minor": 2
}
